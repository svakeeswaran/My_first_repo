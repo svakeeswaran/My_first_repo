{
 "cells": [
  {
   "cell_type": "code",
   "execution_count": 1,
   "metadata": {
    "collapsed": true
   },
   "outputs": [],
   "source": [
    "def subarraysOfAnArray(a):\n",
    "    for i in range(len(a)):\n",
    "        for j in range(i,len(a)+1):\n",
    "            for k in range(i,j):\n",
    "                print(a[k],end=\" \")\n",
    "            print()\n",
    "                "
   ]
  },
  {
   "cell_type": "code",
   "execution_count": 2,
   "metadata": {
    "collapsed": true
   },
   "outputs": [],
   "source": [
    "a=[1,2,3,4,5,6]"
   ]
  },
  {
   "cell_type": "code",
   "execution_count": 3,
   "metadata": {},
   "outputs": [
    {
     "name": "stdout",
     "output_type": "stream",
     "text": [
      "\n",
      "1 \n",
      "1 2 \n",
      "1 2 3 \n",
      "1 2 3 4 \n",
      "1 2 3 4 5 \n",
      "1 2 3 4 5 6 \n",
      "\n",
      "2 \n",
      "2 3 \n",
      "2 3 4 \n",
      "2 3 4 5 \n",
      "2 3 4 5 6 \n",
      "\n",
      "3 \n",
      "3 4 \n",
      "3 4 5 \n",
      "3 4 5 6 \n",
      "\n",
      "4 \n",
      "4 5 \n",
      "4 5 6 \n",
      "\n",
      "5 \n",
      "5 6 \n",
      "\n",
      "6 \n"
     ]
    }
   ],
   "source": [
    "subarraysOfAnArray(a)"
   ]
  },
  {
   "cell_type": "code",
   "execution_count": 67,
   "metadata": {
    "collapsed": true
   },
   "outputs": [],
   "source": [
    "def sumOfSubArrays(a,tot):\n",
    "    for i in range(len(a)):\n",
    "        for j in range(i,len(a)+1):\n",
    "            lis = []\n",
    "            index = []\n",
    "            for k in range(i,j):\n",
    "                lis.append(a[k])\n",
    "                index.append(k)\n",
    "            if sum(lis) == tot:\n",
    "                    print(index)"
   ]
  },
  {
   "cell_type": "code",
   "execution_count": 69,
   "metadata": {},
   "outputs": [
    {
     "name": "stdout",
     "output_type": "stream",
     "text": [
      "[1, 2, 3]\n",
      "[3, 4]\n"
     ]
    }
   ],
   "source": [
    "sumOfSubArrays(a,9)"
   ]
  },
  {
   "cell_type": "code",
   "execution_count": 70,
   "metadata": {
    "collapsed": true
   },
   "outputs": [],
   "source": [
    "def maxSumInSubArray(a):\n",
    "    tot = -99999\n",
    "    finalList = []\n",
    "    for i in range(len(a)):\n",
    "        for j in range(i,len(a)+1):\n",
    "            lis = []\n",
    "            for k in range(i,j):\n",
    "                lis.append(a[k])\n",
    "            if sum(lis) > tot:\n",
    "                tot = sum(lis)\n",
    "                finalList = lis\n",
    "                \n",
    "    return finalList"
   ]
  },
  {
   "cell_type": "code",
   "execution_count": 77,
   "metadata": {
    "collapsed": true
   },
   "outputs": [],
   "source": [
    "a = [1,2,-3,7,9,-11]"
   ]
  },
  {
   "cell_type": "code",
   "execution_count": 78,
   "metadata": {},
   "outputs": [
    {
     "data": {
      "text/plain": [
       "[1, 2, -3, 7, 9]"
      ]
     },
     "execution_count": 78,
     "metadata": {},
     "output_type": "execute_result"
    }
   ],
   "source": [
    "maxSumInSubArray(a)"
   ]
  },
  {
   "cell_type": "code",
   "execution_count": 94,
   "metadata": {
    "collapsed": true
   },
   "outputs": [],
   "source": [
    "def missingNumber(c):\n",
    "    arraySize = len(c)\n",
    "    arraySizeWithMissing = arraySize+1\n",
    "    arr = []\n",
    "    for i in range(1,arraySizeWithMissing+1):\n",
    "        arr.append(i)\n",
    "    missingNumber = [i for i in arr if i not in c]\n",
    "    return missingNumber[0]"
   ]
  },
  {
   "cell_type": "code",
   "execution_count": 95,
   "metadata": {
    "collapsed": true
   },
   "outputs": [],
   "source": [
    "a = [1,2,4]"
   ]
  },
  {
   "cell_type": "code",
   "execution_count": 96,
   "metadata": {},
   "outputs": [
    {
     "data": {
      "text/plain": [
       "3"
      ]
     },
     "execution_count": 96,
     "metadata": {},
     "output_type": "execute_result"
    }
   ],
   "source": [
    "missingNumber(a)"
   ]
  },
  {
   "cell_type": "code",
   "execution_count": 16,
   "metadata": {
    "collapsed": true
   },
   "outputs": [],
   "source": [
    "def rotateArrayClockwise(arr,n):\n",
    "    length = len(arr)\n",
    "    newArr = [0]*(length)\n",
    "    for i in range(length):\n",
    "        if (i + n) <= (length - 1):\n",
    "            newArr[i+n] = arr[i]\n",
    "        else:\n",
    "            newArr[n+i-length] = arr[i]\n",
    "    return newArr\n",
    "    "
   ]
  },
  {
   "cell_type": "code",
   "execution_count": 17,
   "metadata": {
    "collapsed": true
   },
   "outputs": [],
   "source": [
    "a = [1,2,3,4,5,6]"
   ]
  },
  {
   "cell_type": "code",
   "execution_count": 18,
   "metadata": {},
   "outputs": [
    {
     "data": {
      "text/plain": [
       "[5, 6, 1, 2, 3, 4]"
      ]
     },
     "execution_count": 18,
     "metadata": {},
     "output_type": "execute_result"
    }
   ],
   "source": [
    "rotateArrayClockwise(a,2)"
   ]
  },
  {
   "cell_type": "code",
   "execution_count": 20,
   "metadata": {},
   "outputs": [
    {
     "data": {
      "text/plain": [
       "[3, 1, 2]"
      ]
     },
     "execution_count": 20,
     "metadata": {},
     "output_type": "execute_result"
    }
   ],
   "source": [
    "rotateArrayClockwise([1,2,3],1)"
   ]
  },
  {
   "cell_type": "code",
   "execution_count": 23,
   "metadata": {
    "collapsed": true
   },
   "outputs": [],
   "source": [
    "def minDifferenceBetweenPairs(arr):\n",
    "    diff = 1000000000\n",
    "    for i in range(len(arr)):\n",
    "        for j in range(i+1,len(arr)):\n",
    "            temp = arr[i] - arr[j]\n",
    "            if temp < 0:\n",
    "                temp = temp * -1\n",
    "            if temp < diff:\n",
    "                diff = temp\n",
    "    return diff\n",
    "            "
   ]
  },
  {
   "cell_type": "code",
   "execution_count": 24,
   "metadata": {},
   "outputs": [
    {
     "data": {
      "text/plain": [
       "1"
      ]
     },
     "execution_count": 24,
     "metadata": {},
     "output_type": "execute_result"
    }
   ],
   "source": [
    "minDifferenceBetweenPairs(a)"
   ]
  },
  {
   "cell_type": "code",
   "execution_count": 36,
   "metadata": {
    "collapsed": true
   },
   "outputs": [],
   "source": [
    "def obtainDigits(number):\n",
    "    digits = []\n",
    "    temp = number\n",
    "    while temp != 0:\n",
    "        temp1 = temp // 10\n",
    "        temp2 = temp % 10\n",
    "        digits.append(temp2)\n",
    "        temp = temp1\n",
    "    return digits\n",
    "        "
   ]
  },
  {
   "cell_type": "code",
   "execution_count": 38,
   "metadata": {
    "collapsed": true
   },
   "outputs": [],
   "source": [
    "def howManyX(x,lower,upper):\n",
    "    count = 0\n",
    "    for i in range(lower+1,upper):\n",
    "        digits = obtainDigits(i)\n",
    "        count = count + digits.count(x)\n",
    "    return count"
   ]
  },
  {
   "cell_type": "code",
   "execution_count": 37,
   "metadata": {},
   "outputs": [
    {
     "data": {
      "text/plain": [
       "119"
      ]
     },
     "execution_count": 37,
     "metadata": {},
     "output_type": "execute_result"
    }
   ],
   "source": [
    "howManyX(6,600,700)"
   ]
  },
  {
   "cell_type": "code",
   "execution_count": 46,
   "metadata": {
    "collapsed": true
   },
   "outputs": [],
   "source": [
    "def twiceCounter(arr):\n",
    "    count = {}\n",
    "    for i in range(len(arr)):\n",
    "        if arr[i] in count:\n",
    "            count[arr[i]] +=1\n",
    "        else:\n",
    "            count[arr[i]] = 1\n",
    "    for item,count in count.items():\n",
    "        if count > 1:\n",
    "            print(item)"
   ]
  },
  {
   "cell_type": "code",
   "execution_count": 47,
   "metadata": {},
   "outputs": [
    {
     "name": "stdout",
     "output_type": "stream",
     "text": [
      "me\n"
     ]
    }
   ],
   "source": [
    "twiceCounter(['see','me','you','me'])"
   ]
  },
  {
   "cell_type": "code",
   "execution_count": 50,
   "metadata": {
    "collapsed": true
   },
   "outputs": [],
   "source": [
    "def maximumMoneyThief(arr):\n",
    "    maximum = 0\n",
    "    tot = 0\n",
    "    for i in range(0,len(arr),2):\n",
    "        tot = tot + arr[i]\n",
    "    tot1 = 0\n",
    "    for j in range(1,len(arr),2):\n",
    "        tot1 = tot1 + arr[j]\n",
    "    if tot > maximum:\n",
    "        if tot > tot1:\n",
    "            return tot\n",
    "        else:\n",
    "            return tot1"
   ]
  },
  {
   "cell_type": "code",
   "execution_count": 51,
   "metadata": {},
   "outputs": [
    {
     "data": {
      "text/plain": [
       "60"
      ]
     },
     "execution_count": 51,
     "metadata": {},
     "output_type": "execute_result"
    }
   ],
   "source": [
    "maximumMoneyThief([10,20,30,40])"
   ]
  },
  {
   "cell_type": "code",
   "execution_count": 54,
   "metadata": {
    "collapsed": true
   },
   "outputs": [],
   "source": [
    "def rotateArrayCounterClockwise(arr,n):\n",
    "    length = len(arr)\n",
    "    new_arr = [0]*(length)\n",
    "    for i in range(len(arr)):\n",
    "        if i - n > 0:\n",
    "            new_arr[i-n] = arr[i]\n",
    "        else:\n",
    "            new[length-(i-n)] = arr[i]"
   ]
  },
  {
   "cell_type": "code",
   "execution_count": 1,
   "metadata": {
    "collapsed": true
   },
   "outputs": [],
   "source": [
    "class Node:\n",
    "    def __init__(self,data):\n",
    "        self.data = data\n",
    "        self.next = None\n",
    "class Linkedlist:\n",
    "    def __init__(self):\n",
    "        self.head = None\n",
    "    def push(self,val):\n",
    "        newNode = Node(val)\n",
    "        newNode.next = self.head\n",
    "        self.head = newNode\n",
    "    def printElements(self):\n",
    "        temp = self.head\n",
    "        while temp is not None:\n",
    "            print(temp.data)\n",
    "            temp = temp.next"
   ]
  },
  {
   "cell_type": "code",
   "execution_count": 2,
   "metadata": {
    "collapsed": true
   },
   "outputs": [],
   "source": [
    "l = Linkedlist()\n",
    "l.push(1)\n",
    "l.push(3)\n",
    "l.push(4)\n",
    "l.push(1)"
   ]
  },
  {
   "cell_type": "code",
   "execution_count": null,
   "metadata": {
    "collapsed": true
   },
   "outputs": [],
   "source": [
    "def dropDuplicates(l):\n",
    "    temp = l.head\n",
    "    prev = None\n",
    "    while temp is not None:\n",
    "        if "
   ]
  }
 ],
 "metadata": {
  "kernelspec": {
   "display_name": "Python 3",
   "language": "python",
   "name": "python3"
  },
  "language_info": {
   "codemirror_mode": {
    "name": "ipython",
    "version": 3
   },
   "file_extension": ".py",
   "mimetype": "text/x-python",
   "name": "python",
   "nbconvert_exporter": "python",
   "pygments_lexer": "ipython3",
   "version": "3.6.2"
  }
 },
 "nbformat": 4,
 "nbformat_minor": 2
}
