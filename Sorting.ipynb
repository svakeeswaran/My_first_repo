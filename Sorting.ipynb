{
 "cells": [
  {
   "cell_type": "markdown",
   "metadata": {},
   "source": [
    "### Insertion Sort"
   ]
  },
  {
   "cell_type": "code",
   "execution_count": 48,
   "metadata": {
    "collapsed": true
   },
   "outputs": [],
   "source": [
    "def insertionSort(q):\n",
    "    length = len(q)\n",
    "    for j in range(1,len(q)): # Start from 2nd element\n",
    "        print(q)\n",
    "        key = q[j]\n",
    "        # get the previous element as key and keep moving. \n",
    "        # Think always that the list until the prev element is sorted.\n",
    "        i = j - 1 \n",
    "        while i >= 0 and key < q[i]:\n",
    "            q[i+1] = q[i] \n",
    "            q[i] = key \n",
    "            key = q[i] # keep the element moved as the key always\n",
    "            i = i - 1\n",
    "    return q"
   ]
  },
  {
   "cell_type": "code",
   "execution_count": 51,
   "metadata": {
    "collapsed": true
   },
   "outputs": [],
   "source": [
    "q = [12, 11, 13, 5, 6]\n",
    "r = [1,2,3]\n",
    "a = [9,8,7,-5,4]"
   ]
  },
  {
   "cell_type": "code",
   "execution_count": 50,
   "metadata": {
    "collapsed": true
   },
   "outputs": [
    {
     "name": "stdout",
     "output_type": "stream",
     "text": [
      "[12, 11, 13, 5, 6]\n",
      "[11, 12, 13, 5, 6]\n",
      "[11, 12, 13, 5, 6]\n",
      "[5, 11, 12, 13, 6]\n"
     ]
    },
    {
     "data": {
      "text/plain": [
       "[5, 6, 11, 12, 13]"
      ]
     },
     "execution_count": 50,
     "metadata": {},
     "output_type": "execute_result"
    }
   ],
   "source": [
    "insertionSort(q)"
   ]
  },
  {
   "cell_type": "code",
   "execution_count": 53,
   "metadata": {
    "collapsed": true
   },
   "outputs": [
    {
     "name": "stdout",
     "output_type": "stream",
     "text": [
      "[9, 8, 7, -5, 4]\n",
      "[8, 9, 7, -5, 4]\n",
      "[7, 8, 9, -5, 4]\n",
      "[-5, 7, 8, 9, 4]\n"
     ]
    },
    {
     "data": {
      "text/plain": [
       "[-5, 4, 7, 8, 9]"
      ]
     },
     "execution_count": 53,
     "metadata": {},
     "output_type": "execute_result"
    }
   ],
   "source": [
    "insertionSort(a)"
   ]
  },
  {
   "cell_type": "code",
   "execution_count": 7,
   "metadata": {
    "collapsed": true
   },
   "outputs": [],
   "source": [
    "def partition(a,low,high):\n",
    "    pivot = a[high]\n",
    "    i = low - 1\n",
    "    for j in range(low,high):\n",
    "        if a[j] <= pivot:\n",
    "            i = i + 1\n",
    "            temp = a[j]\n",
    "            a[j] = a[i]\n",
    "            a[i] = temp\n",
    "    temp2 = a[i+1]\n",
    "    a[i+1] = pivot\n",
    "    a[high] = temp2\n",
    "    print(a)\n",
    "    return (i + 1)\n",
    "    \n",
    "        \n",
    "    \n",
    "            "
   ]
  },
  {
   "cell_type": "code",
   "execution_count": 22,
   "metadata": {
    "collapsed": true
   },
   "outputs": [],
   "source": [
    "def sort(a):\n",
    "    low = 0\n",
    "    high = len(a) - 1\n",
    "    quickSort(a,low,high)\n",
    "    "
   ]
  },
  {
   "cell_type": "code",
   "execution_count": 26,
   "metadata": {
    "collapsed": true
   },
   "outputs": [],
   "source": [
    "def quickSort(a,low,high):\n",
    "    if low < high:\n",
    "        pi = partition(a,low,high)\n",
    "        quickSort(a,low,pi-1)\n",
    "        quickSort(a,pi+1,high)"
   ]
  },
  {
   "cell_type": "code",
   "execution_count": 27,
   "metadata": {
    "collapsed": true
   },
   "outputs": [],
   "source": [
    "a = [10,40,80,90,60,70]"
   ]
  },
  {
   "cell_type": "code",
   "execution_count": 28,
   "metadata": {},
   "outputs": [
    {
     "name": "stdout",
     "output_type": "stream",
     "text": [
      "[10, 40, 60, 70, 80, 90]\n",
      "[10, 40, 60, 70, 80, 90]\n",
      "[10, 40, 60, 70, 80, 90]\n",
      "[10, 40, 60, 70, 80, 90]\n"
     ]
    }
   ],
   "source": [
    "sort(a)"
   ]
  },
  {
   "cell_type": "code",
   "execution_count": 63,
   "metadata": {
    "collapsed": true
   },
   "outputs": [],
   "source": [
    "def mergeSort(a):\n",
    "    if len(a) > 1:\n",
    "        mid = len(a)//2\n",
    "        l = a[:mid]\n",
    "        r = a[mid:]\n",
    "        mergeSort(l)\n",
    "        mergeSort(r)\n",
    "        merge(a,l,r)\n",
    "        "
   ]
  },
  {
   "cell_type": "code",
   "execution_count": 64,
   "metadata": {
    "collapsed": true
   },
   "outputs": [],
   "source": [
    "def merge(m,l,r):\n",
    "    i=j=k=0\n",
    "    while (i < len(l)) and (j < len(r)):\n",
    "        if l[i] < r[j]:\n",
    "            m[k] = l[i]\n",
    "            i = i+1\n",
    "        else:\n",
    "            m[k] = r[j]\n",
    "            j = j+1\n",
    "        k = k+1       \n",
    "    while i < len(l):\n",
    "        m[k] = l[i]\n",
    "        i = i+1\n",
    "        k = k+1\n",
    "        \n",
    "    while j < len(r):\n",
    "        m[k] = r[j]\n",
    "        j = j+1\n",
    "        k = k+1\n",
    "            \n",
    "        "
   ]
  },
  {
   "cell_type": "code",
   "execution_count": 65,
   "metadata": {
    "collapsed": true
   },
   "outputs": [],
   "source": [
    "a = [90,80,70,60,50]"
   ]
  },
  {
   "cell_type": "code",
   "execution_count": 66,
   "metadata": {
    "collapsed": true
   },
   "outputs": [],
   "source": [
    "mergeSort(a)"
   ]
  },
  {
   "cell_type": "code",
   "execution_count": 67,
   "metadata": {},
   "outputs": [
    {
     "name": "stdout",
     "output_type": "stream",
     "text": [
      "[50, 60, 70, 80, 90]\n"
     ]
    }
   ],
   "source": [
    "print(a)"
   ]
  },
  {
   "cell_type": "code",
   "execution_count": null,
   "metadata": {
    "collapsed": true
   },
   "outputs": [],
   "source": []
  }
 ],
 "metadata": {
  "kernelspec": {
   "display_name": "Python 3",
   "language": "python",
   "name": "python3"
  },
  "language_info": {
   "codemirror_mode": {
    "name": "ipython",
    "version": 3
   },
   "file_extension": ".py",
   "mimetype": "text/x-python",
   "name": "python",
   "nbconvert_exporter": "python",
   "pygments_lexer": "ipython3",
   "version": "3.6.2"
  }
 },
 "nbformat": 4,
 "nbformat_minor": 2
}
