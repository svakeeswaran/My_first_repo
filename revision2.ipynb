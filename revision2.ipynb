{
 "cells": [
  {
   "cell_type": "code",
   "execution_count": 21,
   "metadata": {},
   "outputs": [],
   "source": [
    "class Vertex:\n",
    "    def __init__(self,data):\n",
    "        self.data = data\n",
    "        self.adj = {}\n",
    "    def addNeighbor(self,val,weight):\n",
    "        self.adj[val] = weight\n",
    "    def getNeighbor(self):\n",
    "        neighbors = [key for key in self.adj]\n",
    "        return neighbors\n",
    "    def get_data(self):\n",
    "        return self.data\n",
    "    def get_weights(self):\n",
    "        weights = [adj[key] for key in self.adj]\n",
    "        return weights"
   ]
  },
  {
   "cell_type": "code",
   "execution_count": 22,
   "metadata": {
    "collapsed": true
   },
   "outputs": [],
   "source": [
    "class DirectedGraph:\n",
    "    def __init__(self):\n",
    "        self.adjDict = {}\n",
    "        self.noKeys = 0\n",
    "    def add_vertex(self,val):\n",
    "        valVertex = Vertex(val)\n",
    "        self.adjDict[val] = valVertex\n",
    "    def add_edge(self,src,dest,weight):\n",
    "        if src not in self.adjDict:\n",
    "            self.add_vertex(src)\n",
    "        if dest not in self.adjDict:\n",
    "            self.add_vertex(dest)\n",
    "        self.adjDict[src].addNeighbor(dest,weight)\n",
    "    def get_vertex(self,key):\n",
    "        return self.adjDict[key]\n",
    "    def get_keys(self):\n",
    "        k = [key for key in self.adjDict]\n",
    "        return k\n",
    "    def get_edges(self):\n",
    "        edges = []\n",
    "        for keys in self.adjDict:\n",
    "            neighbors = self.get_vertex(keys).getNeighbor()\n",
    "            for n in neighbors:\n",
    "                edges.append(keys+n)\n",
    "        return edges"
   ]
  },
  {
   "cell_type": "code",
   "execution_count": 23,
   "metadata": {
    "collapsed": true
   },
   "outputs": [],
   "source": [
    "d = DirectedGraph()\n",
    "d.add_vertex('a')\n",
    "d.add_vertex('b')\n",
    "d.add_vertex('c')\n",
    "d.add_vertex('d')\n",
    "d.add_vertex('e')"
   ]
  },
  {
   "cell_type": "code",
   "execution_count": 24,
   "metadata": {},
   "outputs": [],
   "source": [
    "d.add_edge('a','b',1)\n",
    "d.add_edge('a','c',2)\n",
    "d.add_edge('b','d',4)\n",
    "d.add_edge('c','d',5)\n",
    "d.add_edge('a','e',6)\n",
    "d.add_edge('e','f',4)"
   ]
  },
  {
   "cell_type": "code",
   "execution_count": 25,
   "metadata": {},
   "outputs": [
    {
     "data": {
      "text/plain": [
       "['a', 'b', 'c', 'd', 'e', 'f']"
      ]
     },
     "execution_count": 25,
     "metadata": {},
     "output_type": "execute_result"
    }
   ],
   "source": [
    "d.get_keys()"
   ]
  },
  {
   "cell_type": "code",
   "execution_count": 26,
   "metadata": {},
   "outputs": [
    {
     "data": {
      "text/plain": [
       "['ab', 'ac', 'ae', 'bd', 'cd', 'ef']"
      ]
     },
     "execution_count": 26,
     "metadata": {},
     "output_type": "execute_result"
    }
   ],
   "source": [
    "d.get_edges()"
   ]
  },
  {
   "cell_type": "code",
   "execution_count": 27,
   "metadata": {
    "collapsed": true
   },
   "outputs": [],
   "source": [
    "from collections import deque"
   ]
  },
  {
   "cell_type": "code",
   "execution_count": 46,
   "metadata": {
    "collapsed": true
   },
   "outputs": [],
   "source": [
    "def bfs(d):\n",
    "    keys = d.get_keys()\n",
    "    s = keys[0]\n",
    "    q = deque()\n",
    "    q.append(d.get_vertex(s))\n",
    "    has_visited = {}\n",
    "    for key in keys:\n",
    "        has_visited[key] = False\n",
    "    while len(q) > 0:\n",
    "        a = q.popleft()\n",
    "        if has_visited[a.get_data()] == False:\n",
    "            print(a.get_data())\n",
    "            has_visited[a.get_data()] = True\n",
    "        for i in a.getNeighbor():\n",
    "            if has_visited[i] != True:\n",
    "                q.append(d.get_vertex(i))\n",
    "            \n",
    "            "
   ]
  },
  {
   "cell_type": "code",
   "execution_count": 47,
   "metadata": {},
   "outputs": [
    {
     "name": "stdout",
     "output_type": "stream",
     "text": [
      "a\n",
      "b\n",
      "c\n",
      "e\n",
      "d\n",
      "f\n"
     ]
    }
   ],
   "source": [
    "bfs(d)"
   ]
  },
  {
   "cell_type": "code",
   "execution_count": 50,
   "metadata": {
    "collapsed": true
   },
   "outputs": [],
   "source": [
    "def dfs(d):\n",
    "    keys = d.get_keys()\n",
    "    s = keys[0]\n",
    "    stack = []\n",
    "    stack.append(d.get_vertex(s))\n",
    "    has_visited = {}\n",
    "    for k in keys:\n",
    "        has_visited[k] = False\n",
    "    while len(stack) > 0:\n",
    "        a = stack.pop()\n",
    "        if has_visited[a.get_data()]== False:\n",
    "            print(a.get_data())\n",
    "            has_visited[a.get_data()] = True\n",
    "        for i in a.getNeighbor():\n",
    "            if has_visited[i] == False:\n",
    "                stack.append(d.get_vertex(i))"
   ]
  },
  {
   "cell_type": "code",
   "execution_count": 51,
   "metadata": {},
   "outputs": [
    {
     "name": "stdout",
     "output_type": "stream",
     "text": [
      "a\n",
      "e\n",
      "f\n",
      "c\n",
      "d\n",
      "b\n"
     ]
    }
   ],
   "source": [
    "dfs(d)"
   ]
  },
  {
   "cell_type": "code",
   "execution_count": 52,
   "metadata": {
    "collapsed": true
   },
   "outputs": [],
   "source": [
    "def detect_cycle_util(d,color,u):\n",
    "    color[u] = 'GREY'\n",
    "    \n",
    "    for v in d.get_vertex(u).getNeighbor():\n",
    "        if color[v] == 'GREY':\n",
    "            return True\n",
    "        if (color[v] == 'WHITE') & (detect_cycle_util(d,color,v) == True):\n",
    "            return True\n",
    "    color[u] = 'BLACK'\n",
    "    return False\n",
    "\n",
    "def detect_cycle(d):\n",
    "    keys = d.get_keys()\n",
    "    color = {}\n",
    "    for k in keys:\n",
    "        color[k] = 'WHITE'\n",
    "    for k in keys:\n",
    "        if color[k] == 'WHITE':\n",
    "            if detect_cycle_util(d,color,k) == True:\n",
    "                return True\n",
    "    return False\n",
    "    \n",
    "    "
   ]
  },
  {
   "cell_type": "code",
   "execution_count": 53,
   "metadata": {},
   "outputs": [
    {
     "data": {
      "text/plain": [
       "False"
      ]
     },
     "execution_count": 53,
     "metadata": {},
     "output_type": "execute_result"
    }
   ],
   "source": [
    "detect_cycle(d)"
   ]
  },
  {
   "cell_type": "code",
   "execution_count": 55,
   "metadata": {
    "collapsed": true
   },
   "outputs": [],
   "source": [
    "d = DirectedGraph()\n",
    "d.add_vertex('a')\n",
    "d.add_vertex('b')\n",
    "d.add_vertex('c')\n",
    "d.add_vertex('d')\n",
    "d.add_vertex('e')"
   ]
  },
  {
   "cell_type": "code",
   "execution_count": 56,
   "metadata": {
    "collapsed": true
   },
   "outputs": [],
   "source": [
    "d.add_edge('a','b',1)\n",
    "d.add_edge('a','c',2)\n",
    "d.add_edge('b','d',4)\n",
    "d.add_edge('c','d',5)\n",
    "d.add_edge('a','e',6)\n",
    "d.add_edge('e','f',4)\n",
    "d.add_edge('f','a',2)"
   ]
  },
  {
   "cell_type": "code",
   "execution_count": 57,
   "metadata": {},
   "outputs": [
    {
     "data": {
      "text/plain": [
       "True"
      ]
     },
     "execution_count": 57,
     "metadata": {},
     "output_type": "execute_result"
    }
   ],
   "source": [
    "detect_cycle(d)"
   ]
  },
  {
   "cell_type": "code",
   "execution_count": 84,
   "metadata": {
    "collapsed": true
   },
   "outputs": [],
   "source": [
    "def partition(arr,low,high):\n",
    "    pivot = arr[high]\n",
    "    i = low -1\n",
    "    for j in range(low,high):\n",
    "        if arr[j] <= pivot:\n",
    "            i = i+1\n",
    "            temp = arr[i]\n",
    "            arr[i] = arr[j]\n",
    "            arr[j] = temp\n",
    "    temp2 = arr[i+1]\n",
    "    arr[i+1] = pivot\n",
    "    arr[high] = temp2\n",
    "    return i+1"
   ]
  },
  {
   "cell_type": "code",
   "execution_count": 85,
   "metadata": {
    "collapsed": true
   },
   "outputs": [],
   "source": [
    "def quickSort(arr,low,high):\n",
    "    if low < high:\n",
    "        pi = partition(arr,low,high)\n",
    "        \n",
    "        quickSort(arr,low,pi-1)\n",
    "        quickSort(arr,pi+1,high)"
   ]
  },
  {
   "cell_type": "code",
   "execution_count": 88,
   "metadata": {},
   "outputs": [],
   "source": [
    "arr = [5,4,3,2,1,7,9,8]\n",
    "quickSort(arr,0,len(arr)-1)"
   ]
  },
  {
   "cell_type": "code",
   "execution_count": 89,
   "metadata": {},
   "outputs": [
    {
     "data": {
      "text/plain": [
       "[1, 2, 3, 4, 5, 7, 8, 9]"
      ]
     },
     "execution_count": 89,
     "metadata": {},
     "output_type": "execute_result"
    }
   ],
   "source": [
    "arr"
   ]
  },
  {
   "cell_type": "code",
   "execution_count": 106,
   "metadata": {
    "collapsed": true
   },
   "outputs": [],
   "source": [
    "def merge(arr,m,n):\n",
    "    i=j=k=0\n",
    "    while (i <len(m)) & (j < len(n)):\n",
    "        if m[i] < n[j]:\n",
    "            arr[k] = m[i]\n",
    "            i = i+1\n",
    "            k = k+1\n",
    "        else:\n",
    "            arr[k] = n[j]\n",
    "            j = j+1\n",
    "            k = k+1\n",
    "    while (i < len(m)):\n",
    "        arr[k] = m[i]\n",
    "        i = i+1\n",
    "        k = k+1\n",
    "    while (j < len(n)):\n",
    "        arr[k] = n[j]\n",
    "        j = j+1\n",
    "        k = k+1\n",
    "    return arr"
   ]
  },
  {
   "cell_type": "code",
   "execution_count": null,
   "metadata": {
    "collapsed": true
   },
   "outputs": [],
   "source": []
  },
  {
   "cell_type": "code",
   "execution_count": 107,
   "metadata": {
    "collapsed": true
   },
   "outputs": [],
   "source": [
    "m = [1,3,5,7,9]\n",
    "n = [2,4,6,8]"
   ]
  },
  {
   "cell_type": "code",
   "execution_count": 108,
   "metadata": {},
   "outputs": [
    {
     "data": {
      "text/plain": [
       "[1, 2, 3, 4, 5, 6, 7, 8, 9]"
      ]
     },
     "execution_count": 108,
     "metadata": {},
     "output_type": "execute_result"
    }
   ],
   "source": [
    "arr = [0] * (len(m) + len(n))\n",
    "merge(arr,m,n)"
   ]
  },
  {
   "cell_type": "code",
   "execution_count": 103,
   "metadata": {
    "collapsed": true
   },
   "outputs": [],
   "source": [
    "def mergeSort(arr):\n",
    "    if len(arr) > 1:\n",
    "        mid = len(arr) // 2\n",
    "        l = arr[:mid]\n",
    "        r = arr[mid:]\n",
    "        mergeSort(l)\n",
    "        mergeSort(r)\n",
    "        merge(arr,l,r)"
   ]
  },
  {
   "cell_type": "code",
   "execution_count": 109,
   "metadata": {},
   "outputs": [],
   "source": [
    "arr = [9,8,7,6,4,5,1,2]\n",
    "mergeSort(arr)"
   ]
  },
  {
   "cell_type": "code",
   "execution_count": 110,
   "metadata": {},
   "outputs": [
    {
     "data": {
      "text/plain": [
       "[1, 2, 4, 5, 6, 7, 8, 9]"
      ]
     },
     "execution_count": 110,
     "metadata": {},
     "output_type": "execute_result"
    }
   ],
   "source": [
    "arr"
   ]
  },
  {
   "cell_type": "code",
   "execution_count": 119,
   "metadata": {
    "collapsed": true
   },
   "outputs": [],
   "source": [
    "def subArray(arr):\n",
    "    for i in range(0,len(arr)):\n",
    "        for j in range(i,len(arr)+1):\n",
    "            for k in range(i,j):\n",
    "                print(arr[k],end = \" \")\n",
    "            print()"
   ]
  },
  {
   "cell_type": "code",
   "execution_count": null,
   "metadata": {
    "collapsed": true
   },
   "outputs": [],
   "source": []
  }
 ],
 "metadata": {
  "kernelspec": {
   "display_name": "Python 3",
   "language": "python",
   "name": "python3"
  },
  "language_info": {
   "codemirror_mode": {
    "name": "ipython",
    "version": 3
   },
   "file_extension": ".py",
   "mimetype": "text/x-python",
   "name": "python",
   "nbconvert_exporter": "python",
   "pygments_lexer": "ipython3",
   "version": "3.6.2"
  }
 },
 "nbformat": 4,
 "nbformat_minor": 2
}
