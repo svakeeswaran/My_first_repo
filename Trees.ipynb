{
 "cells": [
  {
   "cell_type": "code",
   "execution_count": 7,
   "metadata": {
    "collapsed": true
   },
   "outputs": [],
   "source": [
    "class Node:\n",
    "    def __init__(self,data):\n",
    "        self.data = data\n",
    "        self.left = None\n",
    "        self.right = None\n",
    "        "
   ]
  },
  {
   "cell_type": "code",
   "execution_count": 5,
   "metadata": {
    "collapsed": true
   },
   "outputs": [],
   "source": [
    "root = Node(1)\n",
    "root.left = Node(2)\n",
    "root.right = Node(3)\n",
    "root.left.left = Node(4)\n",
    "root.left.right = Node(5)"
   ]
  },
  {
   "cell_type": "code",
   "execution_count": 12,
   "metadata": {
    "collapsed": true
   },
   "outputs": [],
   "source": [
    "def inOrderTraversal(root):\n",
    "    current = root\n",
    "    stack = []\n",
    "    while (current is not None) | (len(stack) > 0):\n",
    "        if current is not None:\n",
    "            stack.append(current)\n",
    "            current = current.left\n",
    "        if current is None:\n",
    "            if len(stack)>= 0:\n",
    "                a = stack.pop()\n",
    "                if a.right is not None:\n",
    "                    current = a.right\n",
    "                print(a.data)"
   ]
  },
  {
   "cell_type": "code",
   "execution_count": 6,
   "metadata": {},
   "outputs": [
    {
     "name": "stdout",
     "output_type": "stream",
     "text": [
      "4\n",
      "2\n",
      "5\n",
      "1\n",
      "3\n"
     ]
    }
   ],
   "source": [
    "inOrderTraversal(root)"
   ]
  },
  {
   "cell_type": "code",
   "execution_count": 32,
   "metadata": {
    "collapsed": true
   },
   "outputs": [],
   "source": [
    "def preOrderTraversal(root):\n",
    "    current = root\n",
    "    stack = []\n",
    "    stack.append(current)\n",
    "    while len(stack) > 0 :\n",
    "        a = stack.pop()\n",
    "        if a.right is not None:\n",
    "            stack.append(a.right)\n",
    "        if a.left is not None:\n",
    "            stack.append(a.left)\n",
    "        print(a.data)\n",
    "            \n",
    "    "
   ]
  },
  {
   "cell_type": "code",
   "execution_count": 33,
   "metadata": {},
   "outputs": [
    {
     "name": "stdout",
     "output_type": "stream",
     "text": [
      "1\n",
      "2\n",
      "4\n",
      "5\n",
      "3\n"
     ]
    }
   ],
   "source": [
    "preOrderTraversal(root)"
   ]
  },
  {
   "cell_type": "code",
   "execution_count": 38,
   "metadata": {
    "collapsed": true
   },
   "outputs": [],
   "source": [
    "def postOrderTraversal(root):\n",
    "    current = root\n",
    "    s1 = []\n",
    "    s2 = []\n",
    "    s1.append(current)\n",
    "    while len(s1) > 0:\n",
    "        a = s1.pop()\n",
    "        s2.append(a)\n",
    "        if a.left is not None:\n",
    "            s1.append(a.left)\n",
    "        if a.right is not None:\n",
    "            s1.append(a.right)\n",
    "    while len(s2) > 0:\n",
    "        b = s2.pop()\n",
    "        print(b.data)"
   ]
  },
  {
   "cell_type": "code",
   "execution_count": 39,
   "metadata": {},
   "outputs": [
    {
     "name": "stdout",
     "output_type": "stream",
     "text": [
      "4\n",
      "5\n",
      "2\n",
      "3\n",
      "1\n"
     ]
    }
   ],
   "source": [
    "postOrderTraversal(root)"
   ]
  },
  {
   "cell_type": "code",
   "execution_count": 45,
   "metadata": {
    "collapsed": true
   },
   "outputs": [],
   "source": [
    "def sumOfNodesInATree(root):\n",
    "    total = 0\n",
    "    current = root\n",
    "    stack = []\n",
    "    while(current is not None) | (len(stack) > 0):\n",
    "        if current is not None:\n",
    "            stack.append(current)\n",
    "            current = current.left\n",
    "        if current is None:\n",
    "            a = stack.pop()\n",
    "            total = total + a.data\n",
    "            if a.right is not None:\n",
    "                current = a.right\n",
    "    return total"
   ]
  },
  {
   "cell_type": "code",
   "execution_count": 46,
   "metadata": {},
   "outputs": [
    {
     "data": {
      "text/plain": [
       "15"
      ]
     },
     "execution_count": 46,
     "metadata": {},
     "output_type": "execute_result"
    }
   ],
   "source": [
    "sumOfNodesInATree(root)"
   ]
  },
  {
   "cell_type": "code",
   "execution_count": 52,
   "metadata": {
    "collapsed": true
   },
   "outputs": [],
   "source": [
    "def sumOfLeavesOfABinaryTree(root):\n",
    "    leafTotal = 0\n",
    "    current = root\n",
    "    stack = []\n",
    "    stack.append(current)\n",
    "    while len(stack) > 0:\n",
    "        a = stack.pop()\n",
    "        if a.left is not None:\n",
    "            stack.append(a.left)\n",
    "        if a.right is not None:\n",
    "            stack.append(a.right)\n",
    "        if (a.left is None) & (a.right is None):\n",
    "            leafTotal = leafTotal + a.data\n",
    "    return leafTotal"
   ]
  },
  {
   "cell_type": "code",
   "execution_count": 53,
   "metadata": {},
   "outputs": [
    {
     "data": {
      "text/plain": [
       "12"
      ]
     },
     "execution_count": 53,
     "metadata": {},
     "output_type": "execute_result"
    }
   ],
   "source": [
    "sumOfLeavesOfABinaryTree(root)"
   ]
  },
  {
   "cell_type": "code",
   "execution_count": 2,
   "metadata": {
    "collapsed": true
   },
   "outputs": [],
   "source": [
    "import queue"
   ]
  },
  {
   "cell_type": "code",
   "execution_count": 66,
   "metadata": {
    "collapsed": true
   },
   "outputs": [],
   "source": [
    "def levelOrderTraversal(root):\n",
    "    current = root\n",
    "    q = queue.Queue(1000)\n",
    "    q.put(current)\n",
    "    isDone = 0\n",
    "    while isDone == 0 :\n",
    "        a = q.get()\n",
    "        print(a.data)\n",
    "        if a.left is not None:\n",
    "            q.put(a.left)\n",
    "        if a.right is not None:\n",
    "            q.put(a.right)\n",
    "        if q.empty():\n",
    "            isDone = 1\n",
    "        "
   ]
  },
  {
   "cell_type": "code",
   "execution_count": 67,
   "metadata": {},
   "outputs": [
    {
     "name": "stdout",
     "output_type": "stream",
     "text": [
      "1\n",
      "2\n",
      "3\n",
      "4\n",
      "5\n"
     ]
    }
   ],
   "source": [
    "levelOrderTraversal(root)"
   ]
  },
  {
   "cell_type": "code",
   "execution_count": 72,
   "metadata": {
    "collapsed": true
   },
   "outputs": [],
   "source": [
    "def insertInLevelOrder(root,val):\n",
    "    node = Node(val)\n",
    "    current = root\n",
    "    q = queue.Queue(1000)\n",
    "    q.put(current)\n",
    "    isDone = 0  \n",
    "    while isDone == 0:\n",
    "        a = q.get()\n",
    "        if a.left is not None:\n",
    "            q.put(a.left)\n",
    "        else:\n",
    "            a.left = node\n",
    "            break\n",
    "        if a.right is not None:\n",
    "            q.put(a.right)\n",
    "        else:\n",
    "            a.right = node\n",
    "            break\n",
    "        if q.empty():\n",
    "            isDone = 1\n",
    "            "
   ]
  },
  {
   "cell_type": "code",
   "execution_count": 73,
   "metadata": {
    "collapsed": true
   },
   "outputs": [],
   "source": [
    "insertInLevelOrder(root,11)"
   ]
  },
  {
   "cell_type": "code",
   "execution_count": 74,
   "metadata": {},
   "outputs": [
    {
     "name": "stdout",
     "output_type": "stream",
     "text": [
      "1\n",
      "2\n",
      "3\n",
      "4\n",
      "5\n",
      "11\n"
     ]
    }
   ],
   "source": [
    "levelOrderTraversal(root)"
   ]
  },
  {
   "cell_type": "code",
   "execution_count": 83,
   "metadata": {
    "collapsed": true
   },
   "outputs": [],
   "source": [
    "def delAndReplaceWithLastElem(root,key):\n",
    "    current = root\n",
    "    q = queue.Queue(1000)\n",
    "    q.put(current)\n",
    "    levelOrder = []\n",
    "    isDone = 0\n",
    "    while isDone == 0:\n",
    "        a = q.get()\n",
    "        levelOrder.append(a)\n",
    "        if a.left is not None:\n",
    "            q.put(a.left)\n",
    "        if a.right is not None:\n",
    "            q.put(a.right)\n",
    "        if q.empty():\n",
    "            isDone = 1\n",
    "            \n",
    "    replaceNode = levelOrder.pop()\n",
    "    replaceData = replaceNode.data\n",
    "    \n",
    "    isDone2 = 0\n",
    "    q2 = queue.Queue(1000)\n",
    "    current2 = root\n",
    "    q2.put(current2)\n",
    "    while isDone2 == 0:\n",
    "        a = q2.get()\n",
    "        if a.data == key:\n",
    "            a.data = replaceData\n",
    "            if a.left is not None:\n",
    "                if a.left.data == replaceData:\n",
    "                    a.left = None\n",
    "                    break\n",
    "                else:\n",
    "                    q2.put(a.left)\n",
    "                if a.right.data == replaceData:\n",
    "                    a.right = None\n",
    "                    break\n",
    "                else:\n",
    "                    q2.put(a.right)       \n",
    "        if a.left is not None:\n",
    "            q2.put(a.left)\n",
    "        if a.right is not None:\n",
    "            q2.put(a.right)\n",
    "        if q2.empty():\n",
    "            print('The given key is not present in the original tree')\n",
    "            isDone = 1\n",
    "        \n",
    "        \n",
    "    \n",
    "    "
   ]
  },
  {
   "cell_type": "code",
   "execution_count": 86,
   "metadata": {
    "collapsed": true
   },
   "outputs": [],
   "source": [
    "delAndReplaceWithLastElem(root,2)"
   ]
  },
  {
   "cell_type": "code",
   "execution_count": 93,
   "metadata": {},
   "outputs": [
    {
     "name": "stdout",
     "output_type": "stream",
     "text": [
      "1\n",
      "2\n",
      "3\n",
      "4\n",
      "5\n"
     ]
    }
   ],
   "source": [
    "levelOrderTraversal(root)"
   ]
  },
  {
   "cell_type": "code",
   "execution_count": 99,
   "metadata": {
    "collapsed": true
   },
   "outputs": [],
   "source": [
    "def reverseInOrder(root):\n",
    "    current = root\n",
    "    stack = []\n",
    "    previous = {}\n",
    "    while (current is not None) | (len(stack) > 0):\n",
    "        if current is not None:\n",
    "            stack.append(current)\n",
    "            current = current.right\n",
    "        if current is None:\n",
    "            a = stack.pop()\n",
    "            print(a.data)\n",
    "            if a.left is not None:\n",
    "                current = a.left\n",
    "                    \n",
    "    \n",
    "            \n",
    "        \n",
    "        "
   ]
  },
  {
   "cell_type": "code",
   "execution_count": 98,
   "metadata": {},
   "outputs": [
    {
     "name": "stdout",
     "output_type": "stream",
     "text": [
      "3\n",
      "1\n",
      "5\n",
      "2\n",
      "4\n",
      "5\n"
     ]
    }
   ],
   "source": [
    "reverseInOrder(root)"
   ]
  },
  {
   "cell_type": "code",
   "execution_count": 29,
   "metadata": {
    "collapsed": true
   },
   "outputs": [],
   "source": [
    "def sort(a):\n",
    "    low = 0\n",
    "    high = len(a) - 1\n",
    "    quickSort(a,low,high)\n",
    "\n",
    "def quickSort(a,low,high):\n",
    "    if low < high:\n",
    "        pi = partition(a,low,high)\n",
    "        \n",
    "        quickSort(a,low,pi-1)\n",
    "        quickSort(a,pi+1,high)\n",
    "\n",
    "def partition(a,low,high):\n",
    "    pivot = a[high]\n",
    "    i = low - 1\n",
    "    for j in range(low,high):\n",
    "        if a[j] <= pivot:\n",
    "            i = i+1\n",
    "            temp = a[i]\n",
    "            a[i] = a[j]\n",
    "            a[j] = temp\n",
    "    a[high] = a[i+1]\n",
    "    a[i+1] = pivot\n",
    "    return i+1"
   ]
  },
  {
   "cell_type": "code",
   "execution_count": 52,
   "metadata": {
    "collapsed": true
   },
   "outputs": [],
   "source": [
    "def bstFromBT(root):\n",
    "    inOrder = []\n",
    "    current = root\n",
    "    stack = []\n",
    "    while (current is not None) | (len(stack) > 0):\n",
    "        if current is not None:\n",
    "            stack.append(current)\n",
    "            current = current.left\n",
    "        if current is None:\n",
    "            a = stack.pop()\n",
    "            inOrder.append(a.data)\n",
    "            if a.right is not None:\n",
    "                current = a.right\n",
    "    print(inOrder)\n",
    "    sort(inOrder)\n",
    "    print(inOrder)\n",
    "    stack = []\n",
    "    popIndex = 0\n",
    "    current = root\n",
    "    while (current is not None) | (len(stack) > 0):\n",
    "        if current is not None:\n",
    "            stack.append(current)\n",
    "            current = current.left\n",
    "        if current is None:\n",
    "            a = stack.pop()\n",
    "            print('popIndex ',popIndex)\n",
    "            a.data = inOrder[popIndex]\n",
    "            print(a.data)\n",
    "            popIndex = popIndex + 1\n",
    "            if a.right is not None:\n",
    "                current = a.right\n",
    "    \n",
    "            \n",
    "        \n",
    "        "
   ]
  },
  {
   "cell_type": "code",
   "execution_count": 53,
   "metadata": {
    "collapsed": true
   },
   "outputs": [],
   "source": [
    "root = Node(1)\n",
    "root.left = Node(2)\n",
    "root.right = Node(3)\n",
    "root.left.left = Node(4)\n",
    "root.left.right = Node(5)"
   ]
  },
  {
   "cell_type": "code",
   "execution_count": 54,
   "metadata": {},
   "outputs": [
    {
     "name": "stdout",
     "output_type": "stream",
     "text": [
      "[4, 2, 5, 1, 3]\n",
      "[1, 2, 3, 4, 5]\n",
      "popIndex  0\n",
      "1\n",
      "popIndex  1\n",
      "2\n",
      "popIndex  2\n",
      "3\n",
      "popIndex  3\n",
      "4\n",
      "popIndex  4\n",
      "5\n"
     ]
    }
   ],
   "source": [
    "bstFromBT(root)"
   ]
  },
  {
   "cell_type": "code",
   "execution_count": 55,
   "metadata": {},
   "outputs": [
    {
     "name": "stdout",
     "output_type": "stream",
     "text": [
      "1\n",
      "2\n",
      "3\n",
      "4\n",
      "5\n"
     ]
    }
   ],
   "source": [
    "inOrderTraversal(root)"
   ]
  },
  {
   "cell_type": "code",
   "execution_count": 116,
   "metadata": {
    "collapsed": true
   },
   "outputs": [],
   "source": [
    "class DllNode:\n",
    "    def __init__(self,data):\n",
    "        self.data = data\n",
    "        self.prev = None\n",
    "        self.next = None\n",
    "class Dll:\n",
    "    def __init__(self):\n",
    "        self.head = None     \n",
    "    def push(self,new_data):\n",
    "        node1 = DllNode(new_data)\n",
    "        node1.next = self.head\n",
    "        node1.prev = None\n",
    "        if self.head is not None:\n",
    "            self.head.prev = node1\n",
    "        self.head = node1\n",
    "        "
   ]
  },
  {
   "cell_type": "code",
   "execution_count": 117,
   "metadata": {
    "collapsed": true
   },
   "outputs": [],
   "source": [
    "def binaryTreeToDLL(root):\n",
    "    revInOrder = []\n",
    "    current = root\n",
    "    stack = []\n",
    "    while (current is not None) | (len(stack) > 0):\n",
    "        if current is not None:\n",
    "            stack.append(current)\n",
    "            current = current.right\n",
    "        if current is None:\n",
    "            a = stack.pop()\n",
    "            revInOrder.append(a.data)\n",
    "            if a.left is not None:\n",
    "                current = a.left\n",
    "    dll = Dll()\n",
    "    while len(revInOrder) > 0:\n",
    "        x = revInOrder.pop()\n",
    "        dll.push(x)\n",
    "    return dll\n",
    "    "
   ]
  },
  {
   "cell_type": "code",
   "execution_count": 118,
   "metadata": {
    "collapsed": true
   },
   "outputs": [],
   "source": [
    "root = Node(1)\n",
    "root.left = Node(2)\n",
    "root.right = Node(3)\n",
    "root.left.left = Node(4)\n",
    "root.left.right = Node(5)"
   ]
  },
  {
   "cell_type": "code",
   "execution_count": 119,
   "metadata": {},
   "outputs": [
    {
     "name": "stdout",
     "output_type": "stream",
     "text": [
      "3\n",
      "1\n",
      "5\n",
      "2\n",
      "4\n"
     ]
    }
   ],
   "source": [
    "printElementsInDll(binaryTreeToDLL(root))"
   ]
  },
  {
   "cell_type": "code",
   "execution_count": 95,
   "metadata": {
    "collapsed": true
   },
   "outputs": [],
   "source": [
    "def printElementsInLinkedList(l):\n",
    "    temp = l.head\n",
    "    while temp is not None:\n",
    "        print(temp.data)\n",
    "        temp = temp.next\n",
    "    "
   ]
  },
  {
   "cell_type": "code",
   "execution_count": 105,
   "metadata": {
    "collapsed": true
   },
   "outputs": [],
   "source": [
    "d = Dll()"
   ]
  },
  {
   "cell_type": "code",
   "execution_count": 106,
   "metadata": {},
   "outputs": [
    {
     "name": "stdout",
     "output_type": "stream",
     "text": [
      "1\n",
      "2\n",
      "3\n"
     ]
    }
   ],
   "source": [
    "d.push(1)\n",
    "d.push(2)\n",
    "d.push(3)"
   ]
  },
  {
   "cell_type": "code",
   "execution_count": 107,
   "metadata": {},
   "outputs": [
    {
     "name": "stdout",
     "output_type": "stream",
     "text": [
      "3\n",
      "3\n",
      "3\n"
     ]
    }
   ],
   "source": [
    "printElementsInLinkedList(d)"
   ]
  },
  {
   "cell_type": "code",
   "execution_count": 127,
   "metadata": {
    "collapsed": true
   },
   "outputs": [],
   "source": [
    "def inOrderTraversal(root):\n",
    "    l = []\n",
    "    current = root\n",
    "    stack = []\n",
    "    while (current is not None) | (len(stack) > 0):\n",
    "        if current is not None:\n",
    "            stack.append(current)\n",
    "            current = current.left\n",
    "        if current is None:\n",
    "            if len(stack)>= 0:\n",
    "                a = stack.pop()\n",
    "                if a.right is not None:\n",
    "                    current = a.right\n",
    "                l.append(a.data)\n",
    "    return l\n",
    "            "
   ]
  },
  {
   "cell_type": "code",
   "execution_count": 154,
   "metadata": {
    "collapsed": true
   },
   "outputs": [],
   "source": [
    "def lowestCommonAncestor(root,n1,n2):\n",
    "    current = root\n",
    "    l = inOrderTraversal(current)\n",
    "    print(l)\n",
    "    if (n1 in l) & (n2 in l):\n",
    "        print('both present in the tree being traversed')\n",
    "        if (root.data == n1) | (root.data == n2):\n",
    "            return root.data\n",
    "        else:\n",
    "            lleft = inOrderTraversal(current.left)\n",
    "            lright = inOrderTraversal(current.right)\n",
    "            if ((n1 in lleft) & (n2 in lright)) |((n1 in lright) & (n2 in lleft)):\n",
    "                return root.data\n",
    "            elif (n1 in lleft) & (n2 in lleft):\n",
    "                return lowestCommonAncestor(current.left,n1,n2)\n",
    "            else:\n",
    "                return lowestCommonAncestor(current.right,n1,n2)\n",
    "    else:\n",
    "        print('Both keys are not present in the tree')\n",
    "                \n",
    "            "
   ]
  },
  {
   "cell_type": "code",
   "execution_count": 221,
   "metadata": {
    "collapsed": true
   },
   "outputs": [],
   "source": [
    "root = Node(1)\n",
    "root.left = Node(2)\n",
    "root.right = Node(3)\n",
    "root.left.left = Node(4)\n",
    "root.left.right = Node(5)\n",
    "root.right.left = Node(6)\n",
    "root.right.right = Node(7)\n",
    "root.left.left.left = Node(8)"
   ]
  },
  {
   "cell_type": "code",
   "execution_count": 156,
   "metadata": {},
   "outputs": [
    {
     "name": "stdout",
     "output_type": "stream",
     "text": [
      "[8, 4, 2, 5, 1, 6, 3, 7]\n",
      "both present in the tree being traversed\n",
      "[8, 4, 2, 5]\n",
      "both present in the tree being traversed\n",
      "[8, 4]\n",
      "both present in the tree being traversed\n"
     ]
    },
    {
     "data": {
      "text/plain": [
       "4"
      ]
     },
     "execution_count": 156,
     "metadata": {},
     "output_type": "execute_result"
    }
   ],
   "source": [
    "lowestCommonAncestor(root,8,4)"
   ]
  },
  {
   "cell_type": "code",
   "execution_count": 245,
   "metadata": {
    "collapsed": true
   },
   "outputs": [],
   "source": [
    "def path(root,n1):\n",
    "    inOrder = inOrderTraversal(root)\n",
    "    l = set()\n",
    "    if n1 in inOrder:\n",
    "        print('The key is present in the tree')\n",
    "        l.add(root.data)\n",
    "        trackTraversalPath(root,n1,l)\n",
    "    else:\n",
    "        print('The key is not present in the tree')\n",
    "    return l\n",
    "\n",
    "def trackTraversalPath(root,n1,l):\n",
    "    if n1 != root.data:\n",
    "        left = inOrderTraversal(root.left)\n",
    "        if n1 in left:\n",
    "            l.add(root.left.data)\n",
    "            trackTraversalPath(root.left,n1,l)\n",
    "        else:\n",
    "            l.add(root.right.data)\n",
    "            trackTraversalPath(root.right,n2,l)\n",
    "    else:\n",
    "        l.remove(n1)\n",
    "        return l"
   ]
  },
  {
   "cell_type": "code",
   "execution_count": 246,
   "metadata": {},
   "outputs": [
    {
     "name": "stdout",
     "output_type": "stream",
     "text": [
      "The key is present in the tree\n"
     ]
    },
    {
     "data": {
      "text/plain": [
       "{1, 2, 4}"
      ]
     },
     "execution_count": 246,
     "metadata": {},
     "output_type": "execute_result"
    }
   ],
   "source": [
    "path(root,8)"
   ]
  },
  {
   "cell_type": "code",
   "execution_count": 21,
   "metadata": {
    "collapsed": true
   },
   "outputs": [],
   "source": [
    "def heightOfBinaryTree(root):\n",
    "    q = queue.Queue(10000)\n",
    "    q.put(root)\n",
    "    isDone = 0\n",
    "    height = 0\n",
    "    while isDone == 0:\n",
    "        a = q.get()\n",
    "        print(a.data)\n",
    "        if (a.left is not None) | (a.right is not None):\n",
    "            height = height + 1\n",
    "            if a.left is not None:\n",
    "                q.put(a.left)\n",
    "            if a.right is not None:\n",
    "                q.put(a.right)\n",
    "        if q.empty():\n",
    "            isDone = 1\n",
    "    return height\n",
    "            \n",
    "    "
   ]
  },
  {
   "cell_type": "code",
   "execution_count": 29,
   "metadata": {
    "collapsed": true
   },
   "outputs": [],
   "source": [
    "root = Node(1)\n",
    "root.left = Node(2)\n",
    "root.right = Node(3)\n",
    "root.left.left = Node(4)\n",
    "root.left.right = Node(5)\n",
    "root.left.left.right = Node(9)"
   ]
  },
  {
   "cell_type": "code",
   "execution_count": 26,
   "metadata": {},
   "outputs": [
    {
     "name": "stdout",
     "output_type": "stream",
     "text": [
      "1\n",
      "2\n",
      "3\n",
      "4\n",
      "5\n",
      "9\n"
     ]
    },
    {
     "data": {
      "text/plain": [
       "3"
      ]
     },
     "execution_count": 26,
     "metadata": {},
     "output_type": "execute_result"
    }
   ],
   "source": [
    "heightOfBinaryTree(root)"
   ]
  },
  {
   "cell_type": "code",
   "execution_count": 43,
   "metadata": {
    "collapsed": true
   },
   "outputs": [],
   "source": [
    "def obtainLevelOfNode(root):\n",
    "    q = queue.Queue(10000)\n",
    "    tot = []\n",
    "    level = 0\n",
    "    q.put(root)\n",
    "    level = {}\n",
    "    level[root.data] = 0\n",
    "    isDone = 0\n",
    "    while isDone == 0:\n",
    "        a = q.get()\n",
    "        print(a.data)\n",
    "        if a.left is not None:\n",
    "            parentLevel = level[a.data]\n",
    "            temp = parentLevel + 1\n",
    "            q.put(a.left)\n",
    "            level[a.left.data] = temp\n",
    "        if a.right is not None:\n",
    "            parentLevel = level[a.data]\n",
    "            temp = parentLevel + 1\n",
    "            q.put(a.right)\n",
    "            level[a.right.data] = temp\n",
    "        if q.empty():\n",
    "            isDone = 1\n",
    "    print(level)\n",
    "   \n",
    "        \n",
    "            \n",
    "    \n",
    "    "
   ]
  },
  {
   "cell_type": "code",
   "execution_count": 44,
   "metadata": {},
   "outputs": [
    {
     "name": "stdout",
     "output_type": "stream",
     "text": [
      "1\n",
      "2\n",
      "3\n",
      "4\n",
      "5\n",
      "9\n",
      "{1: 0, 2: 1, 3: 1, 4: 2, 5: 2, 9: 3}\n"
     ]
    }
   ],
   "source": [
    "obtainLevelOfNode(root)"
   ]
  },
  {
   "cell_type": "code",
   "execution_count": 48,
   "metadata": {
    "collapsed": true
   },
   "outputs": [],
   "source": [
    "def printMaxLevelSum(root):\n",
    "    q = queue.Queue(10000)\n",
    "    tot = []\n",
    "    level = 0\n",
    "    q.put(root)\n",
    "    level = {}\n",
    "    level[root.data] = 0\n",
    "    isDone = 0\n",
    "    while isDone == 0:\n",
    "        a = q.get()\n",
    "        print(a.data)\n",
    "        if a.left is not None:\n",
    "            parentLevel = level[a.data]\n",
    "            temp = parentLevel + 1\n",
    "            q.put(a.left)\n",
    "            level[a.left.data] = temp\n",
    "        if a.right is not None:\n",
    "            parentLevel = level[a.data]\n",
    "            temp = parentLevel + 1\n",
    "            q.put(a.right)\n",
    "            level[a.right.data] = temp\n",
    "        if q.empty():\n",
    "            isDone = 1\n",
    "    tot = {}\n",
    "    for data, lev in level.items():\n",
    "        if lev in tot:\n",
    "            tot[lev] = tot[lev] + data\n",
    "        else:\n",
    "            tot[lev] = data\n",
    "    maxim = -10000\n",
    "    lev = 0\n",
    "    for lev in tot:\n",
    "        if tot[lev] > maxim:\n",
    "            maxim = tot[lev]\n",
    "            lev = lev\n",
    "    return lev, maxim\n",
    "    "
   ]
  },
  {
   "cell_type": "code",
   "execution_count": 49,
   "metadata": {},
   "outputs": [
    {
     "name": "stdout",
     "output_type": "stream",
     "text": [
      "1\n",
      "2\n",
      "3\n",
      "4\n",
      "5\n",
      "9\n"
     ]
    },
    {
     "data": {
      "text/plain": [
       "(3, 9)"
      ]
     },
     "execution_count": 49,
     "metadata": {},
     "output_type": "execute_result"
    }
   ],
   "source": [
    "printMaxLevelSum(root)"
   ]
  },
  {
   "cell_type": "code",
   "execution_count": 54,
   "metadata": {
    "collapsed": true
   },
   "outputs": [],
   "source": [
    "def oddEvenLevelDifference(root):\n",
    "    q = queue.Queue(10000)\n",
    "    tot = []\n",
    "    level = 0\n",
    "    q.put(root)\n",
    "    level = {}\n",
    "    level[root.data] = 0\n",
    "    isDone = 0\n",
    "    while isDone == 0:\n",
    "        a = q.get()\n",
    "        print(a.data)\n",
    "        if a.left is not None:\n",
    "            parentLevel = level[a.data]\n",
    "            temp = parentLevel + 1\n",
    "            q.put(a.left)\n",
    "            level[a.left.data] = temp\n",
    "        if a.right is not None:\n",
    "            parentLevel = level[a.data]\n",
    "            temp = parentLevel + 1\n",
    "            q.put(a.right)\n",
    "            level[a.right.data] = temp\n",
    "        if q.empty():\n",
    "            isDone = 1\n",
    "    oddSum = 0\n",
    "    evenSum = 0\n",
    "    print(level)\n",
    "    for data, lev in level.items():\n",
    "        if lev % 2 == 0:\n",
    "            evenSum = evenSum + data\n",
    "        else:\n",
    "            oddSum = oddSum + data\n",
    "    diff = abs(evenSum-oddSum)\n",
    "    return diff\n",
    "    "
   ]
  },
  {
   "cell_type": "code",
   "execution_count": 55,
   "metadata": {},
   "outputs": [
    {
     "name": "stdout",
     "output_type": "stream",
     "text": [
      "1\n",
      "2\n",
      "3\n",
      "4\n",
      "5\n",
      "9\n",
      "{1: 0, 2: 1, 3: 1, 4: 2, 5: 2, 9: 3}\n"
     ]
    },
    {
     "data": {
      "text/plain": [
       "4"
      ]
     },
     "execution_count": 55,
     "metadata": {},
     "output_type": "execute_result"
    }
   ],
   "source": [
    "oddEvenLevelDifference(root)"
   ]
  },
  {
   "cell_type": "code",
   "execution_count": 4,
   "metadata": {
    "collapsed": true
   },
   "outputs": [],
   "source": [
    "def inOrder(root):\n",
    "    temp = root\n",
    "    stack = []\n",
    "    while(temp is not None) |(len(stack) > 0):\n",
    "        while temp is not None:\n",
    "            stack.append(temp)\n",
    "            temp = temp.left\n",
    "        if temp is None:\n",
    "            a = stack.pop()\n",
    "            print(a.data)\n",
    "            if a.right is not None:\n",
    "                temp = a.right\n",
    "        "
   ]
  },
  {
   "cell_type": "code",
   "execution_count": 5,
   "metadata": {
    "collapsed": true
   },
   "outputs": [],
   "source": [
    "def preOrder(root):\n",
    "    stack = []\n",
    "    stack.append(root)\n",
    "    while (len(stack) > 0):\n",
    "        a = stack.pop()\n",
    "        print(a.data)\n",
    "        if a.right is not None:\n",
    "            stack.append(a.right)\n",
    "        if a.left is not None:\n",
    "            stack.append(a.left)\n",
    "            "
   ]
  },
  {
   "cell_type": "code",
   "execution_count": 8,
   "metadata": {
    "collapsed": true
   },
   "outputs": [],
   "source": [
    "root = Node(1)\n",
    "root.left = Node(2)\n",
    "root.right = Node(3)\n",
    "root.left.left = Node(4)\n",
    "root.left.right = Node(5)\n",
    "root.left.left.left = Node(6)\n",
    "root.left.left.right = Node(7)\n",
    "root.left.right.left = Node(11)"
   ]
  }
 ],
 "metadata": {
  "kernelspec": {
   "display_name": "Python 3",
   "language": "python",
   "name": "python3"
  },
  "language_info": {
   "codemirror_mode": {
    "name": "ipython",
    "version": 3
   },
   "file_extension": ".py",
   "mimetype": "text/x-python",
   "name": "python",
   "nbconvert_exporter": "python",
   "pygments_lexer": "ipython3",
   "version": "3.6.2"
  }
 },
 "nbformat": 4,
 "nbformat_minor": 2
}
