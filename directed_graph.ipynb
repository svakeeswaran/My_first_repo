{
 "cells": [
  {
   "cell_type": "code",
   "execution_count": 1,
   "metadata": {
    "collapsed": true
   },
   "outputs": [],
   "source": [
    "from queue import Queue"
   ]
  },
  {
   "cell_type": "code",
   "execution_count": 63,
   "metadata": {
    "collapsed": true
   },
   "outputs": [],
   "source": [
    "from collections import defaultdict"
   ]
  },
  {
   "cell_type": "code",
   "execution_count": 25,
   "metadata": {},
   "outputs": [],
   "source": [
    "class Vertex:\n",
    "    def __init__(self,data):\n",
    "        self.data = data\n",
    "        self.adj = {}\n",
    "    def addNeighbor(self,neighbor,weight):\n",
    "        self.adj[neighbor] = weight\n",
    "    def get_data(self):\n",
    "        return self.data\n",
    "    def get_neighbors(self):\n",
    "        return [key for key in self.adj]\n",
    "    def get_weight(self,src,dest):\n",
    "        if dest in self.adj:\n",
    "            return self.adj[dest]"
   ]
  },
  {
   "cell_type": "code",
   "execution_count": 32,
   "metadata": {
    "collapsed": true
   },
   "outputs": [],
   "source": [
    "class DirectedGraph:\n",
    "    def __init__(self):\n",
    "        self.num_vertices = 0\n",
    "        self.vert_dict = {}\n",
    "    def add_vertex(self,data):\n",
    "        node = Vertex(data)\n",
    "        self.vert_dict[data] = node\n",
    "        self.num_vertices = self.num_vertices + 1\n",
    "    def add_edge(self,src,dest,weight):\n",
    "        if src not in self.vert_dict:\n",
    "            self.add_vertex(src)\n",
    "        if dest not in self.vert_dict:\n",
    "            self.add_vertex(dest)\n",
    "        self.vert_dict[src].addNeighbor(dest,weight)\n",
    "    def get_vertex(self,data):\n",
    "        if data in self.vert_dict:\n",
    "            return self.vert_dict[data]\n",
    "        else:\n",
    "            return -1\n",
    "    def get_keys(self):\n",
    "        return [key for key in self.vert_dict]\n",
    "    def get_edges(self):\n",
    "        edges = []\n",
    "        for key in self.get_keys():\n",
    "            adjacent = self.get_vertex(key).get_neighbors()\n",
    "            for j in adjacent:\n",
    "                edge = ''.join([key,j])\n",
    "                edges.append(edge)\n",
    "        return edges"
   ]
  },
  {
   "cell_type": "code",
   "execution_count": 33,
   "metadata": {},
   "outputs": [],
   "source": [
    "d = DirectedGraph()\n",
    "d.add_vertex('a')\n",
    "d.add_vertex('b')\n",
    "d.add_vertex('c')\n",
    "d.add_vertex('d')\n",
    "d.add_vertex('e')"
   ]
  },
  {
   "cell_type": "code",
   "execution_count": 84,
   "metadata": {
    "collapsed": true
   },
   "outputs": [],
   "source": [
    "d.add_edge('a','b',3)\n",
    "d.add_edge('b','d',4)\n",
    "d.add_edge('a','c',2)\n",
    "d.add_edge('c','e',1)\n",
    "d.add_edge('c','d',3)"
   ]
  },
  {
   "cell_type": "code",
   "execution_count": 85,
   "metadata": {},
   "outputs": [
    {
     "data": {
      "text/plain": [
       "['a', 'b', 'c', 'd', 'e']"
      ]
     },
     "execution_count": 85,
     "metadata": {},
     "output_type": "execute_result"
    }
   ],
   "source": [
    "d.get_keys()"
   ]
  },
  {
   "cell_type": "code",
   "execution_count": 86,
   "metadata": {},
   "outputs": [
    {
     "data": {
      "text/plain": [
       "['ab', 'ac', 'bd', 'ce', 'cd']"
      ]
     },
     "execution_count": 86,
     "metadata": {},
     "output_type": "execute_result"
    }
   ],
   "source": [
    "d.get_edges()\n",
    "    "
   ]
  },
  {
   "cell_type": "code",
   "execution_count": 39,
   "metadata": {
    "collapsed": true
   },
   "outputs": [],
   "source": [
    "def bfs(g,start):\n",
    "    keys = g.get_keys()\n",
    "    hasVisited = {key:0 for key in keys}\n",
    "    queue = Queue(len(keys))\n",
    "    queue.put(g.get_vertex(start))\n",
    "    isDone = 0\n",
    "    while isDone == 0:\n",
    "        a = queue.get()\n",
    "        if hasVisited[a.get_data()] == 0:\n",
    "            print(a.get_data())\n",
    "            hasVisited[a.get_data()] = 1\n",
    "        for i in a.get_neighbors():\n",
    "            if hasVisited[i] == 0:\n",
    "                queue.put(g.get_vertex(i))\n",
    "        if queue.empty():\n",
    "            isDone = 1"
   ]
  },
  {
   "cell_type": "code",
   "execution_count": 40,
   "metadata": {},
   "outputs": [
    {
     "name": "stdout",
     "output_type": "stream",
     "text": [
      "a\n",
      "b\n",
      "c\n",
      "d\n",
      "e\n"
     ]
    }
   ],
   "source": [
    "bfs(d,'a')"
   ]
  },
  {
   "cell_type": "code",
   "execution_count": 51,
   "metadata": {
    "collapsed": true
   },
   "outputs": [],
   "source": [
    "def dfs(d,start):\n",
    "    keys = d.get_keys()\n",
    "    hasVisited = {key:0 for key in keys}\n",
    "    dfs = []\n",
    "    stack = []\n",
    "    stack.append(d.get_vertex(start))\n",
    "    while len(stack) > 0:\n",
    "        a = stack.pop()\n",
    "        if hasVisited[a.get_data()] == 0:\n",
    "            dfs.append(a.get_data())\n",
    "            hasVisited[a.get_data()] = 1\n",
    "        for i in a.get_neighbors():\n",
    "            if hasVisited[i] == 0:\n",
    "                stack.append(d.get_vertex(i))\n",
    "    return dfs"
   ]
  },
  {
   "cell_type": "code",
   "execution_count": 52,
   "metadata": {},
   "outputs": [
    {
     "data": {
      "text/plain": [
       "['a', 'c', 'e', 'b', 'd']"
      ]
     },
     "execution_count": 52,
     "metadata": {},
     "output_type": "execute_result"
    }
   ],
   "source": [
    "dfs(d,'a')"
   ]
  },
  {
   "cell_type": "code",
   "execution_count": 58,
   "metadata": {
    "collapsed": true
   },
   "outputs": [],
   "source": [
    "def ifPathExists(d,src,dest):\n",
    "    traverse = dfs(d,src)\n",
    "    if dest in traverse:\n",
    "        return 1\n",
    "    else:\n",
    "        return 0"
   ]
  },
  {
   "cell_type": "code",
   "execution_count": 56,
   "metadata": {},
   "outputs": [
    {
     "data": {
      "text/plain": [
       "1"
      ]
     },
     "execution_count": 56,
     "metadata": {},
     "output_type": "execute_result"
    }
   ],
   "source": [
    "ifPathExists(d,'a','e')"
   ]
  },
  {
   "cell_type": "code",
   "execution_count": 59,
   "metadata": {},
   "outputs": [
    {
     "data": {
      "text/plain": [
       "0"
      ]
     },
     "execution_count": 59,
     "metadata": {},
     "output_type": "execute_result"
    }
   ],
   "source": [
    "ifPathExists(d,'b','e')"
   ]
  },
  {
   "cell_type": "code",
   "execution_count": 178,
   "metadata": {},
   "outputs": [],
   "source": [
    "def printAllPathsUtil(d,src,dest,visited,path):\n",
    "    visited[src] = True\n",
    "    path.append(src) \n",
    "    if src == dest:\n",
    "        print(path)\n",
    "    else:\n",
    "        for i in d.get_vertex(src).get_neighbors():\n",
    "            if visited[i] == False:\n",
    "                printAllPathsUtil(d,i,dest,visited,path)\n",
    "    path.pop()\n",
    "    visited[src] = False\n",
    "def printAllPaths(d,s,des):\n",
    "    keys = d.get_keys()\n",
    "    visited = {key:False for key in keys}\n",
    "    path = []\n",
    "    printAllPathsUtil(d,s,des,visited,path)"
   ]
  },
  {
   "cell_type": "code",
   "execution_count": 179,
   "metadata": {},
   "outputs": [
    {
     "name": "stdout",
     "output_type": "stream",
     "text": [
      "['a', 'b', 'd']\n",
      "['a', 'c', 'd']\n"
     ]
    }
   ],
   "source": [
    "printAllPaths(d,'a','d')"
   ]
  },
  {
   "cell_type": "code",
   "execution_count": null,
   "metadata": {
    "collapsed": true
   },
   "outputs": [],
   "source": []
  }
 ],
 "metadata": {
  "kernelspec": {
   "display_name": "Python 3",
   "language": "python",
   "name": "python3"
  },
  "language_info": {
   "codemirror_mode": {
    "name": "ipython",
    "version": 3
   },
   "file_extension": ".py",
   "mimetype": "text/x-python",
   "name": "python",
   "nbconvert_exporter": "python",
   "pygments_lexer": "ipython3",
   "version": "3.6.2"
  }
 },
 "nbformat": 4,
 "nbformat_minor": 2
}
