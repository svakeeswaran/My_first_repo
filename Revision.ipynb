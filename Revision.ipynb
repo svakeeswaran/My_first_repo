{
 "cells": [
  {
   "cell_type": "code",
   "execution_count": 3,
   "metadata": {
    "collapsed": true
   },
   "outputs": [],
   "source": [
    "import numpy as np\n",
    "from collections import defaultdict\n",
    "from queue import Queue"
   ]
  },
  {
   "cell_type": "code",
   "execution_count": 66,
   "metadata": {
    "collapsed": true
   },
   "outputs": [],
   "source": [
    "def binarySearch(arr,l,r,value):\n",
    "    if (arr[l] == value) | (arr[r] == value):\n",
    "        return True\n",
    "    if r >= 1:\n",
    "        mid = (r-l)//2\n",
    "        print(mid)\n",
    "        if arr[mid] == value:\n",
    "            return 1\n",
    "        elif arr[mid] < value:\n",
    "            return binarySearch(arr,mid,r,value)\n",
    "        else:\n",
    "            return binarySearch(arr,l,mid,value)\n",
    "    else:\n",
    "        return False"
   ]
  },
  {
   "cell_type": "code",
   "execution_count": 67,
   "metadata": {
    "collapsed": true
   },
   "outputs": [],
   "source": [
    "def searchKMatrix(m,val):\n",
    "    rowSize = len(m)\n",
    "    colSize = len(m[0])\n",
    "    rowNeededIndex = 0\n",
    "    for i in range(rowSize):\n",
    "        if m[i][0] <= val:\n",
    "            rowNeededIndex = i\n",
    "            if m[i][0] == val:\n",
    "                return True\n",
    "        else:\n",
    "            break\n",
    "    print(m[rowNeededIndex])\n",
    "    print('The element could possibly in row with index rowNeededIndex',rowNeededIndex)\n",
    "    res = binarySearch(m[rowNeededIndex],0,colSize-1,val)\n",
    "    return res\n",
    "    "
   ]
  },
  {
   "cell_type": "code",
   "execution_count": 68,
   "metadata": {
    "collapsed": true
   },
   "outputs": [],
   "source": [
    "mist = [[1,2,3],[4,5,6],[7,8,9]]"
   ]
  },
  {
   "cell_type": "code",
   "execution_count": 69,
   "metadata": {},
   "outputs": [
    {
     "name": "stdout",
     "output_type": "stream",
     "text": [
      "[4, 5, 6]\n",
      "The element could possibly in row with index rowNeededIndex 1\n"
     ]
    },
    {
     "data": {
      "text/plain": [
       "True"
      ]
     },
     "execution_count": 69,
     "metadata": {},
     "output_type": "execute_result"
    }
   ],
   "source": [
    "searchKMatrix(mist,6)"
   ]
  },
  {
   "cell_type": "code",
   "execution_count": 78,
   "metadata": {
    "collapsed": true
   },
   "outputs": [],
   "source": [
    "def threeSum(arr1,arr2,arr3,tot):\n",
    "    check = set(arr1)\n",
    "    for i in range(len(arr2)):\n",
    "        for j in range(len(arr3)):\n",
    "            temp = arr2[i] + arr3[j]\n",
    "            if tot - temp in check:\n",
    "                return tot-temp,arr2[i],arr3[j]"
   ]
  },
  {
   "cell_type": "code",
   "execution_count": 79,
   "metadata": {},
   "outputs": [
    {
     "data": {
      "text/plain": [
       "(3, 4, 8)"
      ]
     },
     "execution_count": 79,
     "metadata": {},
     "output_type": "execute_result"
    }
   ],
   "source": [
    "threeSum([1,2,3],[4,5,6],[7,8,9],15)"
   ]
  },
  {
   "cell_type": "code",
   "execution_count": 135,
   "metadata": {
    "collapsed": true
   },
   "outputs": [],
   "source": [
    "def partition(arr,low,high):\n",
    "    pivot = arr[high]\n",
    "    i = low-1\n",
    "    for j in range(low,high):\n",
    "        if arr[j] <= pivot:\n",
    "            i = i+1\n",
    "            temp = arr[j]\n",
    "            arr[j] = arr[i]\n",
    "            arr[i] = temp\n",
    "    temp2 = a[high]\n",
    "    a[high] = a[i+1]\n",
    "    a[i+1] = temp2\n",
    "    return (i+1)"
   ]
  },
  {
   "cell_type": "code",
   "execution_count": 130,
   "metadata": {
    "collapsed": true
   },
   "outputs": [],
   "source": [
    "def quickSort(arr,low,high):\n",
    "    if low < high:\n",
    "        pivot = partition(arr,low,high)\n",
    "        print(pivot)\n",
    "        quickSort(arr,low,pivot-1)\n",
    "        quickSort(arr,pivot+1,high)\n",
    "    "
   ]
  },
  {
   "cell_type": "code",
   "execution_count": 138,
   "metadata": {
    "collapsed": true
   },
   "outputs": [],
   "source": [
    "a = [7,6,4,5,2,0]"
   ]
  },
  {
   "cell_type": "code",
   "execution_count": 139,
   "metadata": {},
   "outputs": [
    {
     "data": {
      "text/plain": [
       "0"
      ]
     },
     "execution_count": 139,
     "metadata": {},
     "output_type": "execute_result"
    }
   ],
   "source": [
    "partition(a,0,5)"
   ]
  },
  {
   "cell_type": "code",
   "execution_count": 132,
   "metadata": {},
   "outputs": [
    {
     "name": "stdout",
     "output_type": "stream",
     "text": [
      "5\n",
      "0\n",
      "4\n",
      "2\n",
      "[2, 4, 5, 6, 7, 8]\n"
     ]
    }
   ],
   "source": [
    "quickSort(a,0,5)\n",
    "print(a)"
   ]
  },
  {
   "cell_type": "code",
   "execution_count": 143,
   "metadata": {
    "collapsed": true
   },
   "outputs": [],
   "source": [
    "def twoSum(arr,tot):\n",
    "    for i in range(len(arr)):\n",
    "        for j in range(i,len(arr)):\n",
    "            if arr[i] + arr[j] == tot:\n",
    "                return i,j"
   ]
  },
  {
   "cell_type": "code",
   "execution_count": 144,
   "metadata": {},
   "outputs": [
    {
     "data": {
      "text/plain": [
       "(4, 5)"
      ]
     },
     "execution_count": 144,
     "metadata": {},
     "output_type": "execute_result"
    }
   ],
   "source": [
    "a = [7,8,1,2,3,4]\n",
    "twoSum(a,7)"
   ]
  },
  {
   "cell_type": "code",
   "execution_count": 61,
   "metadata": {
    "collapsed": true
   },
   "outputs": [],
   "source": [
    "class Node:\n",
    "    def __init__(self,data):\n",
    "        self.data = data\n",
    "        self.next = None\n",
    "class Linkedlist:\n",
    "    def __init__(self):\n",
    "        self.head = None\n",
    "    def push(self,val):\n",
    "        node = Node(val)\n",
    "        if self.head is not None:\n",
    "            node.next = self.head\n",
    "        self.head = node\n",
    "    def printElements(self):\n",
    "        current = self.head\n",
    "        while current is not None:\n",
    "            print(current.data,end = \" \")\n",
    "            current = current.next\n",
    "    def length(self):\n",
    "        l = 0\n",
    "        current = self.head\n",
    "        while current is not None:\n",
    "            l = l+1\n",
    "            current = current.next\n",
    "        return l\n"
   ]
  },
  {
   "cell_type": "code",
   "execution_count": 75,
   "metadata": {
    "collapsed": true
   },
   "outputs": [],
   "source": [
    "l = Linkedlist()\n",
    "l.push(1)\n",
    "l.push(2)\n",
    "l.push(6)\n",
    "l.push(9)\n",
    "l.push(8)\n",
    "l.push(5)"
   ]
  },
  {
   "cell_type": "code",
   "execution_count": 76,
   "metadata": {},
   "outputs": [
    {
     "name": "stdout",
     "output_type": "stream",
     "text": [
      "5 8 9 6 2 1 "
     ]
    }
   ],
   "source": [
    "l.printElements()"
   ]
  },
  {
   "cell_type": "code",
   "execution_count": 236,
   "metadata": {},
   "outputs": [
    {
     "data": {
      "text/plain": [
       "6"
      ]
     },
     "execution_count": 236,
     "metadata": {},
     "output_type": "execute_result"
    }
   ],
   "source": [
    "l.length()"
   ]
  },
  {
   "cell_type": "code",
   "execution_count": 188,
   "metadata": {
    "collapsed": true
   },
   "outputs": [],
   "source": [
    "def swapContent(l,k):\n",
    "    n = l.length() - 1\n",
    "    current = l.head\n",
    "    runningCount = 0\n",
    "    temp1 = None\n",
    "    temp2 = None\n",
    "    print('k,n-k',k,n-k)\n",
    "    if k == n-k:\n",
    "        return l\n",
    "    else:\n",
    "        while current is not None:\n",
    "            runningCount = runningCount + 1\n",
    "            if (runningCount - 1 == k):\n",
    "                temp1 = current\n",
    "            if (runningCount - 1 == n-k):\n",
    "                temp2 = current\n",
    "            current = current.next\n",
    "        temp3 = temp2.data\n",
    "        temp2.data = temp1.data\n",
    "        temp1.data = temp3\n",
    "        return l\n",
    "                \n",
    "        "
   ]
  },
  {
   "cell_type": "code",
   "execution_count": 189,
   "metadata": {},
   "outputs": [
    {
     "name": "stdout",
     "output_type": "stream",
     "text": [
      "k,n-k 1 4\n"
     ]
    },
    {
     "data": {
      "text/plain": [
       "<__main__.Linkedlist at 0x114044e80>"
      ]
     },
     "execution_count": 189,
     "metadata": {},
     "output_type": "execute_result"
    }
   ],
   "source": [
    "swapContent(l,1)"
   ]
  },
  {
   "cell_type": "code",
   "execution_count": 229,
   "metadata": {
    "collapsed": true
   },
   "outputs": [],
   "source": [
    "def merge(m,l,r):\n",
    "    i = 0\n",
    "    j = 0\n",
    "    k = 0\n",
    "    while (i<len(l)) & (j<len(r)):\n",
    "        if l[i] < r[j]:\n",
    "            m[k] = l[i]\n",
    "            k = k+1\n",
    "            i = i+1\n",
    "        else:\n",
    "            m[k] = r[j]\n",
    "            k = k+1\n",
    "            j = j+1\n",
    "    while i < len(l):\n",
    "        m[k] = l[i]\n",
    "        k = k+1\n",
    "        i = i+1\n",
    "    while j < len(r):\n",
    "        m[k] = r[j]\n",
    "        k = k+1\n",
    "        j = j+1\n",
    "    return m"
   ]
  },
  {
   "cell_type": "code",
   "execution_count": 228,
   "metadata": {
    "collapsed": true
   },
   "outputs": [],
   "source": [
    "def mergeSort(a):\n",
    "    if len(a) > 1:\n",
    "        mid = len(a)// 2\n",
    "        l = a[:mid]\n",
    "        r = a[mid:]\n",
    "        mergeSort(l)\n",
    "        mergeSort(r)\n",
    "        merge(a,l,r)"
   ]
  },
  {
   "cell_type": "code",
   "execution_count": 227,
   "metadata": {
    "collapsed": true
   },
   "outputs": [],
   "source": [
    "a = [7,8,9,1,2,4,3]"
   ]
  },
  {
   "cell_type": "code",
   "execution_count": 219,
   "metadata": {
    "collapsed": true
   },
   "outputs": [],
   "source": [
    "mergeSort(a)"
   ]
  },
  {
   "cell_type": "code",
   "execution_count": 220,
   "metadata": {},
   "outputs": [
    {
     "data": {
      "text/plain": [
       "[1, 2, 3, 4, 7, 8, 9]"
      ]
     },
     "execution_count": 220,
     "metadata": {},
     "output_type": "execute_result"
    }
   ],
   "source": [
    "a"
   ]
  },
  {
   "cell_type": "code",
   "execution_count": 237,
   "metadata": {
    "collapsed": true
   },
   "outputs": [],
   "source": [
    "def kthBiggestElement(arr,k):\n",
    "    sorted_arr = arr\n",
    "    mergeSort(sorted_arr)\n",
    "    print(sorted_arr)\n",
    "    return sorted_arr[len(arr)-k]"
   ]
  },
  {
   "cell_type": "code",
   "execution_count": 239,
   "metadata": {},
   "outputs": [
    {
     "name": "stdout",
     "output_type": "stream",
     "text": [
      "[1, 2, 3, 4, 7, 8, 9]\n"
     ]
    },
    {
     "data": {
      "text/plain": [
       "7"
      ]
     },
     "execution_count": 239,
     "metadata": {},
     "output_type": "execute_result"
    }
   ],
   "source": [
    "kthBiggestElement(a,3)"
   ]
  },
  {
   "cell_type": "code",
   "execution_count": 253,
   "metadata": {
    "collapsed": true
   },
   "outputs": [],
   "source": [
    "def permutationOfPalindrome(string):\n",
    "    lower = str.lower(string)\n",
    "    final = str.replace(lower,\" \",\"\")\n",
    "    charDict = {}\n",
    "    for i in range(len(final)):\n",
    "        if final[i] in charDict:\n",
    "            charDict[final[i]] = charDict[final[i]] + 1\n",
    "        else:\n",
    "            charDict[final[i]] = 1\n",
    "    oddCounts = 0\n",
    "    for key,value in charDict.items():\n",
    "        if value % 2 != 0:\n",
    "            oddCounts = oddCounts + 1\n",
    "            if oddCounts > 1:\n",
    "                return False\n",
    "    return True"
   ]
  },
  {
   "cell_type": "code",
   "execution_count": 254,
   "metadata": {},
   "outputs": [
    {
     "data": {
      "text/plain": [
       "True"
      ]
     },
     "execution_count": 254,
     "metadata": {},
     "output_type": "execute_result"
    }
   ],
   "source": [
    "s = 'taco Cat'\n",
    "permutationOfPalindrome(s)"
   ]
  },
  {
   "cell_type": "code",
   "execution_count": 255,
   "metadata": {
    "collapsed": true
   },
   "outputs": [],
   "source": [
    "s = 'abra cadabra'"
   ]
  },
  {
   "cell_type": "code",
   "execution_count": 256,
   "metadata": {},
   "outputs": [
    {
     "data": {
      "text/plain": [
       "False"
      ]
     },
     "execution_count": 256,
     "metadata": {},
     "output_type": "execute_result"
    }
   ],
   "source": [
    "permutationOfPalindrome(s)"
   ]
  },
  {
   "cell_type": "code",
   "execution_count": 57,
   "metadata": {
    "collapsed": true
   },
   "outputs": [],
   "source": [
    "def rotateMatrixBy90Degree(mat):\n",
    "    rowSize = len(mat)\n",
    "    colSize = len(mat[0])\n",
    "    newMat = [] * colSize\n",
    "    for i in range(colSize):\n",
    "        newMat.append([0] * (rowSize))\n",
    "    print(newMat)\n",
    "    for i in range(rowSize):\n",
    "        for j in range(colSize):\n",
    "            newMat[j][rowSize-i-1] = mat[i][j]\n",
    "    return newMat"
   ]
  },
  {
   "cell_type": "code",
   "execution_count": 58,
   "metadata": {},
   "outputs": [
    {
     "name": "stdout",
     "output_type": "stream",
     "text": [
      "[[0, 0, 0], [0, 0, 0], [0, 0, 0]]\n"
     ]
    },
    {
     "data": {
      "text/plain": [
       "[[7, 4, 1], [8, 5, 2], [9, 6, 3]]"
      ]
     },
     "execution_count": 58,
     "metadata": {},
     "output_type": "execute_result"
    }
   ],
   "source": [
    "rotateMatrixBy90Degree(matrix)"
   ]
  },
  {
   "cell_type": "code",
   "execution_count": 82,
   "metadata": {
    "collapsed": true
   },
   "outputs": [],
   "source": [
    "def swapElements(l):\n",
    "    head = l.head\n",
    "    current = head\n",
    "    while (current is not None and current.next is not None):\n",
    "            temp = current.data\n",
    "            current.data = current.next.data\n",
    "            current.next.data = temp\n",
    "            current = current.next.next\n",
    "        "
   ]
  },
  {
   "cell_type": "code",
   "execution_count": 83,
   "metadata": {},
   "outputs": [
    {
     "name": "stdout",
     "output_type": "stream",
     "text": [
      "8 5 6 9 1 2 "
     ]
    }
   ],
   "source": [
    "l.printElements()"
   ]
  },
  {
   "cell_type": "code",
   "execution_count": 84,
   "metadata": {
    "collapsed": true
   },
   "outputs": [],
   "source": [
    "swapElements(l)"
   ]
  },
  {
   "cell_type": "code",
   "execution_count": 85,
   "metadata": {},
   "outputs": [
    {
     "name": "stdout",
     "output_type": "stream",
     "text": [
      "5 8 9 6 2 1 "
     ]
    }
   ],
   "source": [
    "l.printElements()"
   ]
  },
  {
   "cell_type": "code",
   "execution_count": 86,
   "metadata": {
    "collapsed": true
   },
   "outputs": [],
   "source": [
    "def deleteAlternate(l):\n",
    "    head = l.head\n",
    "    current = head\n",
    "    while (current is not None and current.next is not None):\n",
    "            if current.next.next is not None:\n",
    "                current.next = current.next.next\n",
    "            current = current.next.next\n",
    "        "
   ]
  },
  {
   "cell_type": "code",
   "execution_count": 87,
   "metadata": {},
   "outputs": [
    {
     "name": "stdout",
     "output_type": "stream",
     "text": [
      "5 8 9 6 2 1 "
     ]
    }
   ],
   "source": [
    "l.printElements()"
   ]
  },
  {
   "cell_type": "code",
   "execution_count": 88,
   "metadata": {
    "collapsed": true
   },
   "outputs": [],
   "source": [
    "deleteAlternate(l)"
   ]
  },
  {
   "cell_type": "code",
   "execution_count": 89,
   "metadata": {},
   "outputs": [
    {
     "name": "stdout",
     "output_type": "stream",
     "text": [
      "5 9 6 1 "
     ]
    }
   ],
   "source": [
    "l.printElements()"
   ]
  },
  {
   "cell_type": "code",
   "execution_count": 117,
   "metadata": {
    "collapsed": true
   },
   "outputs": [],
   "source": [
    "def detectAndRemoveCycle(l):\n",
    "    head = l.head\n",
    "    current = head\n",
    "    nodes = []\n",
    "    prev = None\n",
    "    while current is not None:\n",
    "        if current not in nodes:\n",
    "            nodes.append(current)\n",
    "            print(len(nodes))\n",
    "            current = current.next\n",
    "        else:\n",
    "            print('cycle detected')\n",
    "            last = nodes.pop()\n",
    "            last.next = None\n",
    "            break\n",
    "    l.printElements()\n",
    "            "
   ]
  },
  {
   "cell_type": "code",
   "execution_count": 118,
   "metadata": {
    "collapsed": true
   },
   "outputs": [],
   "source": [
    "l = Linkedlist()\n",
    "l.push(1)\n",
    "l.push(2)\n",
    "l.push(6)\n",
    "l.push(9)\n",
    "l.push(8)\n",
    "l.push(5)"
   ]
  },
  {
   "cell_type": "code",
   "execution_count": 119,
   "metadata": {},
   "outputs": [
    {
     "name": "stdout",
     "output_type": "stream",
     "text": [
      "5 8 9 6 2 1 "
     ]
    }
   ],
   "source": [
    "l.printElements()"
   ]
  },
  {
   "cell_type": "code",
   "execution_count": 120,
   "metadata": {
    "collapsed": true
   },
   "outputs": [],
   "source": [
    "l.head.next.next.next.next.next.next = l.head.next.next"
   ]
  },
  {
   "cell_type": "code",
   "execution_count": 121,
   "metadata": {},
   "outputs": [
    {
     "name": "stdout",
     "output_type": "stream",
     "text": [
      "1\n",
      "2\n",
      "3\n",
      "4\n",
      "5\n",
      "6\n",
      "cycle detected\n",
      "5 8 9 6 2 1 "
     ]
    }
   ],
   "source": [
    "detectAndRemoveCycle(l)"
   ]
  },
  {
   "cell_type": "code",
   "execution_count": 123,
   "metadata": {
    "collapsed": true
   },
   "outputs": [],
   "source": [
    "def intersectionOfLinkedlist(l1,l2):\n",
    "    head1 = l1.head\n",
    "    head2 = l2.head\n",
    "    c1 = head1\n",
    "    c2 = head2\n",
    "    commonDict = {}\n",
    "    while c1 is not None:\n",
    "        commonDict[c1] = 1\n",
    "        c1 = c1.next\n",
    "    \n",
    "    while c2 is not None:\n",
    "        if c2 in commonDict:\n",
    "            commonDict[c2] = commonDict[c2] + 1\n",
    "        c2 = c2.next\n",
    "    common = []\n",
    "    for key,value in commonDict.items():\n",
    "        if value > 1:\n",
    "            common.append(key.data)\n",
    "    return common"
   ]
  },
  {
   "cell_type": "code",
   "execution_count": 124,
   "metadata": {},
   "outputs": [
    {
     "name": "stdout",
     "output_type": "stream",
     "text": [
      "5 8 9 6 2 1 "
     ]
    }
   ],
   "source": [
    "l.printElements()"
   ]
  },
  {
   "cell_type": "code",
   "execution_count": 126,
   "metadata": {
    "collapsed": true
   },
   "outputs": [],
   "source": [
    "l2 = Linkedlist()\n",
    "l2.push(11)\n",
    "l2.push(12)\n"
   ]
  },
  {
   "cell_type": "code",
   "execution_count": 130,
   "metadata": {
    "collapsed": true
   },
   "outputs": [],
   "source": [
    "l2.head.next.next = l.head.next.next.next"
   ]
  },
  {
   "cell_type": "code",
   "execution_count": 131,
   "metadata": {},
   "outputs": [
    {
     "data": {
      "text/plain": [
       "[6, 2, 1]"
      ]
     },
     "execution_count": 131,
     "metadata": {},
     "output_type": "execute_result"
    }
   ],
   "source": [
    "intersectionOfLinkedlist(l,l2)"
   ]
  },
  {
   "cell_type": "code",
   "execution_count": 132,
   "metadata": {
    "collapsed": true
   },
   "outputs": [],
   "source": [
    "class Node:\n",
    "    def __init__(self,data):\n",
    "        self.data = data\n",
    "        self.left = None\n",
    "        self.right = None"
   ]
  },
  {
   "cell_type": "code",
   "execution_count": 140,
   "metadata": {
    "collapsed": true
   },
   "outputs": [],
   "source": [
    "def inOrderTraversal(node):\n",
    "    stack = []\n",
    "    current = node\n",
    "    nodes = []\n",
    "    while (current is not None) | (len(stack) > 0):\n",
    "        if current is not None:\n",
    "            stack.append(current)\n",
    "            current = current.left\n",
    "        if current is None:\n",
    "            a = stack.pop()\n",
    "            nodes.append(a.data)\n",
    "            if a.right is not None:\n",
    "                stack.append(a.right)\n",
    "    return nodes"
   ]
  },
  {
   "cell_type": "code",
   "execution_count": 141,
   "metadata": {
    "collapsed": true
   },
   "outputs": [],
   "source": [
    "b = Node(1)\n",
    "b.left = Node(2)\n",
    "b.right = Node(3)\n",
    "b.left.left = Node(4)\n",
    "b.left.right = Node(5)"
   ]
  },
  {
   "cell_type": "code",
   "execution_count": 143,
   "metadata": {},
   "outputs": [
    {
     "data": {
      "text/plain": [
       "[4, 2, 5, 1, 3]"
      ]
     },
     "execution_count": 143,
     "metadata": {},
     "output_type": "execute_result"
    }
   ],
   "source": [
    "inOrderTraversal(b)"
   ]
  },
  {
   "cell_type": "code",
   "execution_count": 159,
   "metadata": {
    "collapsed": true
   },
   "outputs": [],
   "source": [
    "def lowestCommonAncestor(b,n1,n2):\n",
    "    current = b\n",
    "    inOrder = inOrderTraversal(current)\n",
    "    if (n1 in inOrder) | (n2 in inOrder):\n",
    "        print('Both nodes are present in the tree being traversed')\n",
    "        leftInOrder = inOrderTraversal(current.left)\n",
    "        print(leftInOrder)\n",
    "        rightInOrder = inOrderTraversal(current.right)\n",
    "        print(rightInOrder)\n",
    "        if ((n1 in leftInOrder) & (n2 in rightInOrder)) |((n1 in rightInOrder) & (n2 in leftInOrder)):\n",
    "            return current.data\n",
    "        elif (n1,n2 in leftInOrder):\n",
    "            return lowestCommonAncestor(current.left,n1,n2)\n",
    "        else:\n",
    "            return lowestCommonAncestor(current.right,n1,n2)\n",
    "    else:\n",
    "        print('Both nodes are not present in the tree being traversed')\n",
    "    "
   ]
  },
  {
   "cell_type": "code",
   "execution_count": 160,
   "metadata": {},
   "outputs": [
    {
     "name": "stdout",
     "output_type": "stream",
     "text": [
      "Both nodes are present in the tree being traversed\n",
      "[4, 2, 5]\n",
      "[3]\n",
      "Both nodes are present in the tree being traversed\n",
      "[4]\n",
      "[5]\n"
     ]
    },
    {
     "data": {
      "text/plain": [
       "2"
      ]
     },
     "execution_count": 160,
     "metadata": {},
     "output_type": "execute_result"
    }
   ],
   "source": [
    "lowestCommonAncestor(b,4,5)"
   ]
  },
  {
   "cell_type": "code",
   "execution_count": 161,
   "metadata": {},
   "outputs": [
    {
     "name": "stdout",
     "output_type": "stream",
     "text": [
      "Both nodes are present in the tree being traversed\n",
      "[4, 2, 5]\n",
      "[3]\n"
     ]
    },
    {
     "data": {
      "text/plain": [
       "1"
      ]
     },
     "execution_count": 161,
     "metadata": {},
     "output_type": "execute_result"
    }
   ],
   "source": [
    "lowestCommonAncestor(b,3,5)"
   ]
  },
  {
   "cell_type": "code",
   "execution_count": 1,
   "metadata": {
    "collapsed": true
   },
   "outputs": [],
   "source": [
    "class Node:\n",
    "    def __init__(self,data):\n",
    "        self.data = data\n",
    "        self.left = None\n",
    "        self.right = None"
   ]
  },
  {
   "cell_type": "code",
   "execution_count": 2,
   "metadata": {
    "collapsed": true
   },
   "outputs": [],
   "source": [
    "tree = Node(1)\n",
    "tree.left = Node(2)\n",
    "tree.right = Node(3)\n",
    "tree.left.left = Node(4)\n",
    "tree.left.right = Node(5)"
   ]
  },
  {
   "cell_type": "code",
   "execution_count": 3,
   "metadata": {
    "collapsed": true
   },
   "outputs": [],
   "source": [
    "from collections import deque"
   ]
  },
  {
   "cell_type": "code",
   "execution_count": 13,
   "metadata": {
    "collapsed": true
   },
   "outputs": [],
   "source": [
    "def isMinHeap(node):\n",
    "    current= node\n",
    "    parent = {}\n",
    "    level = {}\n",
    "    q = deque()\n",
    "    q.append(current)\n",
    "    parent[current.data] = None\n",
    "    level[current.data] = 0\n",
    "    while len(q) > 0:\n",
    "        a = q.popleft()\n",
    "        print(a.data)\n",
    "        if a.left is not None:\n",
    "            q.append(a.left)\n",
    "            parentLevel = level[a.data]\n",
    "            level[a.left.data] = parentLevel + 1\n",
    "            parent[a.left.data] = a.data\n",
    "        if a.right is not None:\n",
    "            q.append(a.right)\n",
    "            parentLevel = level[a.data]\n",
    "            level[a.right.data] = parentLevel + 1\n",
    "            parent[a.right.data] = a.data\n",
    "    # Checking the completeness property\n",
    "    keysInLevel = {}\n",
    "    for key,lev in level.items():\n",
    "        if lev not in keysInLevel:\n",
    "            keysInLevel[lev] = 1\n",
    "        else:\n",
    "            keysInLevel[lev] = keysInLevel[lev] + 1\n",
    "    maxLevel = max(keysInLevel.keys())\n",
    "    print('Maximum level of the tree is ',maxLevel)\n",
    "    \n",
    "    for key in keysInLevel:\n",
    "        if key != maxLevel:\n",
    "            val = keysInLevel[key]\n",
    "            if (val != 2 ** key):\n",
    "                print('Not a complete binary tree')\n",
    "                return 0\n",
    "                \n",
    "    #Checking for the min property:\n",
    "    for key,val in parent.items():\n",
    "        if (val is not None and val > key):\n",
    "            print('Value in parent is greater than key. This violates min heap')\n",
    "            return 0\n",
    "    \n",
    "    print('Both min heap conditions satisfied.')\n",
    "    return 1\n",
    "    \n",
    "        "
   ]
  },
  {
   "cell_type": "code",
   "execution_count": 5,
   "metadata": {
    "collapsed": true
   },
   "outputs": [],
   "source": [
    "x = {1:3,2:5,3:-116}"
   ]
  },
  {
   "cell_type": "code",
   "execution_count": 14,
   "metadata": {},
   "outputs": [
    {
     "name": "stdout",
     "output_type": "stream",
     "text": [
      "1\n",
      "2\n",
      "3\n",
      "4\n",
      "5\n",
      "Maximum level of the tree is  2\n",
      "Both min heap conditions satisfied.\n"
     ]
    },
    {
     "data": {
      "text/plain": [
       "1"
      ]
     },
     "execution_count": 14,
     "metadata": {},
     "output_type": "execute_result"
    }
   ],
   "source": [
    "isMinHeap(tree)"
   ]
  },
  {
   "cell_type": "code",
   "execution_count": 15,
   "metadata": {
    "collapsed": true
   },
   "outputs": [],
   "source": [
    "tree = Node(1)\n",
    "tree.left = Node(2)\n",
    "tree.right = Node(3)\n",
    "tree.left.left = Node(4)\n",
    "tree.left.right = Node(5)\n",
    "tree.left.left.left = Node(6)"
   ]
  },
  {
   "cell_type": "code",
   "execution_count": 16,
   "metadata": {},
   "outputs": [
    {
     "name": "stdout",
     "output_type": "stream",
     "text": [
      "1\n",
      "2\n",
      "3\n",
      "4\n",
      "5\n",
      "6\n",
      "Maximum level of the tree is  3\n",
      "Not a complete binary tree\n"
     ]
    },
    {
     "data": {
      "text/plain": [
       "0"
      ]
     },
     "execution_count": 16,
     "metadata": {},
     "output_type": "execute_result"
    }
   ],
   "source": [
    "isMinHeap(tree)"
   ]
  },
  {
   "cell_type": "code",
   "execution_count": 26,
   "metadata": {
    "collapsed": true
   },
   "outputs": [],
   "source": [
    "def pathFromParents(node):\n",
    "    current= node\n",
    "    bfs = []\n",
    "    parent = {}\n",
    "    level = {}\n",
    "    q = deque()\n",
    "    q.append(current)\n",
    "    parent[current.data] = None\n",
    "    level[current.data] = 0\n",
    "    while len(q) > 0:\n",
    "        a = q.popleft()\n",
    "        print(a.data)\n",
    "        bfs.append(a.data)\n",
    "        if a.left is not None:\n",
    "            q.append(a.left)\n",
    "            parentLevel = level[a.data]\n",
    "            level[a.left.data] = parentLevel + 1\n",
    "            parent[a.left.data] = a.data\n",
    "        if a.right is not None:\n",
    "            q.append(a.right)\n",
    "            parentLevel = level[a.data]\n",
    "            level[a.right.data] = parentLevel + 1\n",
    "            parent[a.right.data] = a.data\n",
    "    print(bfs)\n",
    "    deepestElement = bfs.pop()\n",
    "    x = deepestElement\n",
    "    print(parent)\n",
    "    path = []\n",
    "    while (x in parent.keys()) & (x is not None):\n",
    "        if parent[x] is not None:\n",
    "            path.append(parent[x])\n",
    "        x = parent[x]\n",
    "    print(path)"
   ]
  },
  {
   "cell_type": "code",
   "execution_count": 27,
   "metadata": {},
   "outputs": [
    {
     "name": "stdout",
     "output_type": "stream",
     "text": [
      "1\n",
      "2\n",
      "3\n",
      "4\n",
      "5\n",
      "6\n",
      "[1, 2, 3, 4, 5, 6]\n",
      "{1: None, 2: 1, 3: 1, 4: 2, 5: 2, 6: 4}\n",
      "[4, 2, 1]\n"
     ]
    }
   ],
   "source": [
    "pathFromParents(tree)"
   ]
  },
  {
   "cell_type": "code",
   "execution_count": 85,
   "metadata": {
    "collapsed": true
   },
   "outputs": [],
   "source": [
    "def sumOfRange(arr,start,end):\n",
    "    tot = 0\n",
    "    for i in range(start,end+1):\n",
    "        tot = tot+arr[i]\n",
    "    return tot"
   ]
  },
  {
   "cell_type": "code",
   "execution_count": 89,
   "metadata": {},
   "outputs": [],
   "source": [
    "def slidingWindowSum(a,window):\n",
    "    cum = [0] * (len(arr))\n",
    "    for i in range(len(arr)):\n",
    "        if i < window:\n",
    "            cum[i] = sumOfRange(a,0,i)\n",
    "        else:\n",
    "            cum[i] = sumOfRange(a,i-window+1,i)\n",
    "    return cum"
   ]
  },
  {
   "cell_type": "code",
   "execution_count": 92,
   "metadata": {
    "collapsed": true
   },
   "outputs": [],
   "source": [
    "arr = [1,1,1,1,1,1]\n",
    "window = 3"
   ]
  },
  {
   "cell_type": "code",
   "execution_count": 93,
   "metadata": {},
   "outputs": [
    {
     "data": {
      "text/plain": [
       "[1, 2, 3, 3, 3, 3]"
      ]
     },
     "execution_count": 93,
     "metadata": {},
     "output_type": "execute_result"
    }
   ],
   "source": [
    "slidingWindowSum(arr,window)"
   ]
  },
  {
   "cell_type": "code",
   "execution_count": null,
   "metadata": {
    "collapsed": true
   },
   "outputs": [],
   "source": []
  }
 ],
 "metadata": {
  "kernelspec": {
   "display_name": "Python 3",
   "language": "python",
   "name": "python3"
  },
  "language_info": {
   "codemirror_mode": {
    "name": "ipython",
    "version": 3
   },
   "file_extension": ".py",
   "mimetype": "text/x-python",
   "name": "python",
   "nbconvert_exporter": "python",
   "pygments_lexer": "ipython3",
   "version": "3.6.2"
  }
 },
 "nbformat": 4,
 "nbformat_minor": 2
}
