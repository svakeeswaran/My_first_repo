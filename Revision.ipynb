{
 "cells": [
  {
   "cell_type": "code",
   "execution_count": 1,
   "metadata": {
    "collapsed": true
   },
   "outputs": [],
   "source": [
    "import numpy as np\n",
    "from collections import defaultdict\n",
    "from queue import Queue"
   ]
  },
  {
   "cell_type": "code",
   "execution_count": 2,
   "metadata": {
    "collapsed": true
   },
   "outputs": [],
   "source": [
    "def binarySearch(arr,l,r,value):\n",
    "    if (arr[l] == value) | (arr[r] == value):\n",
    "        return True\n",
    "    if r >= 1:\n",
    "        mid = (r-l)//2\n",
    "        print(mid)\n",
    "        if arr[mid] == value:\n",
    "            return 1\n",
    "        elif arr[mid] < value:\n",
    "            return binarySearch(arr,mid,r,value)\n",
    "        else:\n",
    "            return binarySearch(arr,l,mid,value)\n",
    "    else:\n",
    "        return False"
   ]
  },
  {
   "cell_type": "code",
   "execution_count": 3,
   "metadata": {
    "collapsed": true
   },
   "outputs": [],
   "source": [
    "def searchKMatrix(m,val):\n",
    "    rowSize = len(m)\n",
    "    colSize = len(m[0])\n",
    "    rowNeededIndex = 0\n",
    "    for i in range(rowSize):\n",
    "        if m[i][0] <= val:\n",
    "            rowNeededIndex = i\n",
    "            if m[i][0] == val:\n",
    "                return True\n",
    "        else:\n",
    "            break\n",
    "    print(m[rowNeededIndex])\n",
    "    print('The element could possibly in row with index rowNeededIndex',rowNeededIndex)\n",
    "    res = binarySearch(m[rowNeededIndex],0,colSize-1,val)\n",
    "    return res\n",
    "    "
   ]
  },
  {
   "cell_type": "code",
   "execution_count": 4,
   "metadata": {
    "collapsed": true
   },
   "outputs": [],
   "source": [
    "mist = [[1,2,3],[4,5,6],[7,8,9]]"
   ]
  },
  {
   "cell_type": "code",
   "execution_count": 5,
   "metadata": {},
   "outputs": [
    {
     "name": "stdout",
     "output_type": "stream",
     "text": [
      "[4, 5, 6]\n",
      "The element could possibly in row with index rowNeededIndex 1\n"
     ]
    },
    {
     "data": {
      "text/plain": [
       "True"
      ]
     },
     "execution_count": 5,
     "metadata": {},
     "output_type": "execute_result"
    }
   ],
   "source": [
    "searchKMatrix(mist,6)"
   ]
  },
  {
   "cell_type": "code",
   "execution_count": 6,
   "metadata": {
    "collapsed": true
   },
   "outputs": [],
   "source": [
    "def threeSum(arr1,arr2,arr3,tot):\n",
    "    check = set(arr1)\n",
    "    for i in range(len(arr2)):\n",
    "        for j in range(len(arr3)):\n",
    "            temp = arr2[i] + arr3[j]\n",
    "            if tot - temp in check:\n",
    "                return tot-temp,arr2[i],arr3[j]"
   ]
  },
  {
   "cell_type": "code",
   "execution_count": 7,
   "metadata": {},
   "outputs": [
    {
     "data": {
      "text/plain": [
       "(3, 4, 8)"
      ]
     },
     "execution_count": 7,
     "metadata": {},
     "output_type": "execute_result"
    }
   ],
   "source": [
    "threeSum([1,2,3],[4,5,6],[7,8,9],15)"
   ]
  },
  {
   "cell_type": "code",
   "execution_count": 8,
   "metadata": {
    "collapsed": true
   },
   "outputs": [],
   "source": [
    "def partition(arr,low,high):\n",
    "    pivot = arr[high]\n",
    "    i = low-1\n",
    "    for j in range(low,high):\n",
    "        if arr[j] <= pivot:\n",
    "            i = i+1\n",
    "            temp = arr[j]\n",
    "            arr[j] = arr[i]\n",
    "            arr[i] = temp\n",
    "    temp2 = a[high]\n",
    "    a[high] = a[i+1]\n",
    "    a[i+1] = temp2\n",
    "    return (i+1)"
   ]
  },
  {
   "cell_type": "code",
   "execution_count": 9,
   "metadata": {
    "collapsed": true
   },
   "outputs": [],
   "source": [
    "def quickSort(arr,low,high):\n",
    "    if low < high:\n",
    "        pivot = partition(arr,low,high)\n",
    "        print(pivot)\n",
    "        quickSort(arr,low,pivot-1)\n",
    "        quickSort(arr,pivot+1,high)\n",
    "    "
   ]
  },
  {
   "cell_type": "code",
   "execution_count": 10,
   "metadata": {
    "collapsed": true
   },
   "outputs": [],
   "source": [
    "a = [7,6,4,5,2,0]"
   ]
  },
  {
   "cell_type": "code",
   "execution_count": 11,
   "metadata": {},
   "outputs": [
    {
     "data": {
      "text/plain": [
       "0"
      ]
     },
     "execution_count": 11,
     "metadata": {},
     "output_type": "execute_result"
    }
   ],
   "source": [
    "partition(a,0,5)"
   ]
  },
  {
   "cell_type": "code",
   "execution_count": 12,
   "metadata": {},
   "outputs": [
    {
     "name": "stdout",
     "output_type": "stream",
     "text": [
      "5\n",
      "1\n",
      "4\n",
      "3\n",
      "[0, 2, 4, 5, 6, 7]\n"
     ]
    }
   ],
   "source": [
    "quickSort(a,0,5)\n",
    "print(a)"
   ]
  },
  {
   "cell_type": "code",
   "execution_count": 13,
   "metadata": {
    "collapsed": true
   },
   "outputs": [],
   "source": [
    "def twoSum(arr,tot):\n",
    "    for i in range(len(arr)):\n",
    "        for j in range(i,len(arr)):\n",
    "            if arr[i] + arr[j] == tot:\n",
    "                return i,j"
   ]
  },
  {
   "cell_type": "code",
   "execution_count": 14,
   "metadata": {},
   "outputs": [
    {
     "data": {
      "text/plain": [
       "(4, 5)"
      ]
     },
     "execution_count": 14,
     "metadata": {},
     "output_type": "execute_result"
    }
   ],
   "source": [
    "a = [7,8,1,2,3,4]\n",
    "twoSum(a,7)"
   ]
  },
  {
   "cell_type": "code",
   "execution_count": 15,
   "metadata": {
    "collapsed": true
   },
   "outputs": [],
   "source": [
    "class Node:\n",
    "    def __init__(self,data):\n",
    "        self.data = data\n",
    "        self.next = None\n",
    "class Linkedlist:\n",
    "    def __init__(self):\n",
    "        self.head = None\n",
    "    def push(self,val):\n",
    "        node = Node(val)\n",
    "        if self.head is not None:\n",
    "            node.next = self.head\n",
    "        self.head = node\n",
    "    def printElements(self):\n",
    "        current = self.head\n",
    "        while current is not None:\n",
    "            print(current.data,end = \" \")\n",
    "            current = current.next\n",
    "    def length(self):\n",
    "        l = 0\n",
    "        current = self.head\n",
    "        while current is not None:\n",
    "            l = l+1\n",
    "            current = current.next\n",
    "        return l\n"
   ]
  },
  {
   "cell_type": "code",
   "execution_count": 16,
   "metadata": {
    "collapsed": true
   },
   "outputs": [],
   "source": [
    "l = Linkedlist()\n",
    "l.push(1)\n",
    "l.push(2)\n",
    "l.push(6)\n",
    "l.push(9)\n",
    "l.push(8)\n",
    "l.push(5)"
   ]
  },
  {
   "cell_type": "code",
   "execution_count": 17,
   "metadata": {},
   "outputs": [
    {
     "name": "stdout",
     "output_type": "stream",
     "text": [
      "5 8 9 6 2 1 "
     ]
    }
   ],
   "source": [
    "l.printElements()"
   ]
  },
  {
   "cell_type": "code",
   "execution_count": 18,
   "metadata": {},
   "outputs": [
    {
     "data": {
      "text/plain": [
       "6"
      ]
     },
     "execution_count": 18,
     "metadata": {},
     "output_type": "execute_result"
    }
   ],
   "source": [
    "l.length()"
   ]
  },
  {
   "cell_type": "code",
   "execution_count": 19,
   "metadata": {
    "collapsed": true
   },
   "outputs": [],
   "source": [
    "def swapContent(l,k):\n",
    "    n = l.length() - 1\n",
    "    current = l.head\n",
    "    runningCount = 0\n",
    "    temp1 = None\n",
    "    temp2 = None\n",
    "    print('k,n-k',k,n-k)\n",
    "    if k == n-k:\n",
    "        return l\n",
    "    else:\n",
    "        while current is not None:\n",
    "            runningCount = runningCount + 1\n",
    "            if (runningCount - 1 == k):\n",
    "                temp1 = current\n",
    "            if (runningCount - 1 == n-k):\n",
    "                temp2 = current\n",
    "            current = current.next\n",
    "        temp3 = temp2.data\n",
    "        temp2.data = temp1.data\n",
    "        temp1.data = temp3\n",
    "        return l\n",
    "                \n",
    "        "
   ]
  },
  {
   "cell_type": "code",
   "execution_count": 20,
   "metadata": {},
   "outputs": [
    {
     "name": "stdout",
     "output_type": "stream",
     "text": [
      "k,n-k 1 4\n"
     ]
    },
    {
     "data": {
      "text/plain": [
       "<__main__.Linkedlist at 0x10c716780>"
      ]
     },
     "execution_count": 20,
     "metadata": {},
     "output_type": "execute_result"
    }
   ],
   "source": [
    "swapContent(l,1)"
   ]
  },
  {
   "cell_type": "code",
   "execution_count": 21,
   "metadata": {
    "collapsed": true
   },
   "outputs": [],
   "source": [
    "def merge(m,l,r):\n",
    "    i = 0\n",
    "    j = 0\n",
    "    k = 0\n",
    "    while (i<len(l)) & (j<len(r)):\n",
    "        if l[i] < r[j]:\n",
    "            m[k] = l[i]\n",
    "            k = k+1\n",
    "            i = i+1\n",
    "        else:\n",
    "            m[k] = r[j]\n",
    "            k = k+1\n",
    "            j = j+1\n",
    "    while i < len(l):\n",
    "        m[k] = l[i]\n",
    "        k = k+1\n",
    "        i = i+1\n",
    "    while j < len(r):\n",
    "        m[k] = r[j]\n",
    "        k = k+1\n",
    "        j = j+1\n",
    "    return m"
   ]
  },
  {
   "cell_type": "code",
   "execution_count": 22,
   "metadata": {
    "collapsed": true
   },
   "outputs": [],
   "source": [
    "def mergeSort(a):\n",
    "    if len(a) > 1:\n",
    "        mid = len(a)// 2\n",
    "        l = a[:mid]\n",
    "        r = a[mid:]\n",
    "        mergeSort(l)\n",
    "        mergeSort(r)\n",
    "        merge(a,l,r)"
   ]
  },
  {
   "cell_type": "code",
   "execution_count": 23,
   "metadata": {
    "collapsed": true
   },
   "outputs": [],
   "source": [
    "a = [7,8,9,1,2,4,3]"
   ]
  },
  {
   "cell_type": "code",
   "execution_count": 24,
   "metadata": {
    "collapsed": true
   },
   "outputs": [],
   "source": [
    "mergeSort(a)"
   ]
  },
  {
   "cell_type": "code",
   "execution_count": 25,
   "metadata": {},
   "outputs": [
    {
     "data": {
      "text/plain": [
       "[1, 2, 3, 4, 7, 8, 9]"
      ]
     },
     "execution_count": 25,
     "metadata": {},
     "output_type": "execute_result"
    }
   ],
   "source": [
    "a"
   ]
  },
  {
   "cell_type": "code",
   "execution_count": 26,
   "metadata": {
    "collapsed": true
   },
   "outputs": [],
   "source": [
    "def kthBiggestElement(arr,k):\n",
    "    sorted_arr = arr\n",
    "    mergeSort(sorted_arr)\n",
    "    print(sorted_arr)\n",
    "    return sorted_arr[len(arr)-k]"
   ]
  },
  {
   "cell_type": "code",
   "execution_count": 27,
   "metadata": {},
   "outputs": [
    {
     "name": "stdout",
     "output_type": "stream",
     "text": [
      "[1, 2, 3, 4, 7, 8, 9]\n"
     ]
    },
    {
     "data": {
      "text/plain": [
       "7"
      ]
     },
     "execution_count": 27,
     "metadata": {},
     "output_type": "execute_result"
    }
   ],
   "source": [
    "kthBiggestElement(a,3)"
   ]
  },
  {
   "cell_type": "code",
   "execution_count": 28,
   "metadata": {
    "collapsed": true
   },
   "outputs": [],
   "source": [
    "def permutationOfPalindrome(string):\n",
    "    lower = str.lower(string)\n",
    "    final = str.replace(lower,\" \",\"\")\n",
    "    charDict = {}\n",
    "    for i in range(len(final)):\n",
    "        if final[i] in charDict:\n",
    "            charDict[final[i]] = charDict[final[i]] + 1\n",
    "        else:\n",
    "            charDict[final[i]] = 1\n",
    "    oddCounts = 0\n",
    "    for key,value in charDict.items():\n",
    "        if value % 2 != 0:\n",
    "            oddCounts = oddCounts + 1\n",
    "            if oddCounts > 1:\n",
    "                return False\n",
    "    return True"
   ]
  },
  {
   "cell_type": "code",
   "execution_count": 29,
   "metadata": {},
   "outputs": [
    {
     "data": {
      "text/plain": [
       "True"
      ]
     },
     "execution_count": 29,
     "metadata": {},
     "output_type": "execute_result"
    }
   ],
   "source": [
    "s = 'taco Cat'\n",
    "permutationOfPalindrome(s)"
   ]
  },
  {
   "cell_type": "code",
   "execution_count": 30,
   "metadata": {
    "collapsed": true
   },
   "outputs": [],
   "source": [
    "s = 'abra cadabra'"
   ]
  },
  {
   "cell_type": "code",
   "execution_count": 31,
   "metadata": {},
   "outputs": [
    {
     "data": {
      "text/plain": [
       "False"
      ]
     },
     "execution_count": 31,
     "metadata": {},
     "output_type": "execute_result"
    }
   ],
   "source": [
    "permutationOfPalindrome(s)"
   ]
  },
  {
   "cell_type": "code",
   "execution_count": 32,
   "metadata": {
    "collapsed": true
   },
   "outputs": [],
   "source": [
    "def rotateMatrixBy90Degree(mat):\n",
    "    rowSize = len(mat)\n",
    "    colSize = len(mat[0])\n",
    "    newMat = [] * colSize\n",
    "    for i in range(colSize):\n",
    "        newMat.append([0] * (rowSize))\n",
    "    print(newMat)\n",
    "    for i in range(rowSize):\n",
    "        for j in range(colSize):\n",
    "            newMat[j][rowSize-i-1] = mat[i][j]\n",
    "    return newMat"
   ]
  },
  {
   "cell_type": "code",
   "execution_count": 34,
   "metadata": {
    "collapsed": true
   },
   "outputs": [],
   "source": [
    "def swapElements(l):\n",
    "    head = l.head\n",
    "    current = head\n",
    "    while (current is not None and current.next is not None):\n",
    "            temp = current.data\n",
    "            current.data = current.next.data\n",
    "            current.next.data = temp\n",
    "            current = current.next.next\n",
    "        "
   ]
  },
  {
   "cell_type": "code",
   "execution_count": 35,
   "metadata": {},
   "outputs": [
    {
     "name": "stdout",
     "output_type": "stream",
     "text": [
      "5 2 9 6 8 1 "
     ]
    }
   ],
   "source": [
    "l.printElements()"
   ]
  },
  {
   "cell_type": "code",
   "execution_count": 36,
   "metadata": {
    "collapsed": true
   },
   "outputs": [],
   "source": [
    "swapElements(l)"
   ]
  },
  {
   "cell_type": "code",
   "execution_count": 37,
   "metadata": {},
   "outputs": [
    {
     "name": "stdout",
     "output_type": "stream",
     "text": [
      "2 5 6 9 1 8 "
     ]
    }
   ],
   "source": [
    "l.printElements()"
   ]
  },
  {
   "cell_type": "code",
   "execution_count": null,
   "metadata": {
    "collapsed": true
   },
   "outputs": [],
   "source": [
    "def deleteAlternate(l):\n",
    "    head = l.head\n",
    "    current = head\n",
    "    while (current is not None and current.next is not None):\n",
    "            if current.next.next is not None:\n",
    "                current.next = current.next.next\n",
    "            current = current.next.next\n",
    "        "
   ]
  },
  {
   "cell_type": "code",
   "execution_count": null,
   "metadata": {
    "collapsed": true
   },
   "outputs": [],
   "source": [
    "l.printElements()"
   ]
  },
  {
   "cell_type": "code",
   "execution_count": null,
   "metadata": {
    "collapsed": true
   },
   "outputs": [],
   "source": [
    "deleteAlternate(l)"
   ]
  },
  {
   "cell_type": "code",
   "execution_count": null,
   "metadata": {
    "collapsed": true
   },
   "outputs": [],
   "source": [
    "l.printElements()"
   ]
  },
  {
   "cell_type": "code",
   "execution_count": null,
   "metadata": {
    "collapsed": true
   },
   "outputs": [],
   "source": [
    "def detectAndRemoveCycle(l):\n",
    "    head = l.head\n",
    "    current = head\n",
    "    nodes = []\n",
    "    prev = None\n",
    "    while current is not None:\n",
    "        if current not in nodes:\n",
    "            nodes.append(current)\n",
    "            print(len(nodes))\n",
    "            current = current.next\n",
    "        else:\n",
    "            print('cycle detected')\n",
    "            last = nodes.pop()\n",
    "            last.next = None\n",
    "            break\n",
    "    l.printElements()\n",
    "            "
   ]
  },
  {
   "cell_type": "code",
   "execution_count": null,
   "metadata": {
    "collapsed": true
   },
   "outputs": [],
   "source": [
    "l = Linkedlist()\n",
    "l.push(1)\n",
    "l.push(2)\n",
    "l.push(6)\n",
    "l.push(9)\n",
    "l.push(8)\n",
    "l.push(5)"
   ]
  },
  {
   "cell_type": "code",
   "execution_count": null,
   "metadata": {
    "collapsed": true
   },
   "outputs": [],
   "source": [
    "l.printElements()"
   ]
  },
  {
   "cell_type": "code",
   "execution_count": null,
   "metadata": {
    "collapsed": true
   },
   "outputs": [],
   "source": [
    "l.head.next.next.next.next.next.next = l.head.next.next"
   ]
  },
  {
   "cell_type": "code",
   "execution_count": null,
   "metadata": {
    "collapsed": true
   },
   "outputs": [],
   "source": [
    "detectAndRemoveCycle(l)"
   ]
  },
  {
   "cell_type": "code",
   "execution_count": null,
   "metadata": {
    "collapsed": true
   },
   "outputs": [],
   "source": [
    "def intersectionOfLinkedlist(l1,l2):\n",
    "    head1 = l1.head\n",
    "    head2 = l2.head\n",
    "    c1 = head1\n",
    "    c2 = head2\n",
    "    commonDict = {}\n",
    "    while c1 is not None:\n",
    "        commonDict[c1] = 1\n",
    "        c1 = c1.next\n",
    "    \n",
    "    while c2 is not None:\n",
    "        if c2 in commonDict:\n",
    "            commonDict[c2] = commonDict[c2] + 1\n",
    "        c2 = c2.next\n",
    "    common = []\n",
    "    for key,value in commonDict.items():\n",
    "        if value > 1:\n",
    "            common.append(key.data)\n",
    "    return common"
   ]
  },
  {
   "cell_type": "code",
   "execution_count": null,
   "metadata": {
    "collapsed": true
   },
   "outputs": [],
   "source": [
    "l.printElements()"
   ]
  },
  {
   "cell_type": "code",
   "execution_count": null,
   "metadata": {
    "collapsed": true
   },
   "outputs": [],
   "source": [
    "l2 = Linkedlist()\n",
    "l2.push(11)\n",
    "l2.push(12)\n"
   ]
  },
  {
   "cell_type": "code",
   "execution_count": null,
   "metadata": {
    "collapsed": true
   },
   "outputs": [],
   "source": [
    "l2.head.next.next = l.head.next.next.next"
   ]
  },
  {
   "cell_type": "code",
   "execution_count": null,
   "metadata": {
    "collapsed": true
   },
   "outputs": [],
   "source": [
    "intersectionOfLinkedlist(l,l2)"
   ]
  },
  {
   "cell_type": "code",
   "execution_count": null,
   "metadata": {
    "collapsed": true
   },
   "outputs": [],
   "source": [
    "class Node:\n",
    "    def __init__(self,data):\n",
    "        self.data = data\n",
    "        self.left = None\n",
    "        self.right = None"
   ]
  },
  {
   "cell_type": "code",
   "execution_count": null,
   "metadata": {
    "collapsed": true
   },
   "outputs": [],
   "source": [
    "def inOrderTraversal(node):\n",
    "    stack = []\n",
    "    current = node\n",
    "    nodes = []\n",
    "    while (current is not None) | (len(stack) > 0):\n",
    "        if current is not None:\n",
    "            stack.append(current)\n",
    "            current = current.left\n",
    "        if current is None:\n",
    "            a = stack.pop()\n",
    "            nodes.append(a.data)\n",
    "            if a.right is not None:\n",
    "                stack.append(a.right)\n",
    "    return nodes"
   ]
  },
  {
   "cell_type": "code",
   "execution_count": null,
   "metadata": {
    "collapsed": true
   },
   "outputs": [],
   "source": [
    "b = Node(1)\n",
    "b.left = Node(2)\n",
    "b.right = Node(3)\n",
    "b.left.left = Node(4)\n",
    "b.left.right = Node(5)"
   ]
  },
  {
   "cell_type": "code",
   "execution_count": null,
   "metadata": {
    "collapsed": true
   },
   "outputs": [],
   "source": [
    "inOrderTraversal(b)"
   ]
  },
  {
   "cell_type": "code",
   "execution_count": null,
   "metadata": {
    "collapsed": true
   },
   "outputs": [],
   "source": [
    "def lowestCommonAncestor(b,n1,n2):\n",
    "    current = b\n",
    "    inOrder = inOrderTraversal(current)\n",
    "    if (n1 in inOrder) | (n2 in inOrder):\n",
    "        print('Both nodes are present in the tree being traversed')\n",
    "        leftInOrder = inOrderTraversal(current.left)\n",
    "        print(leftInOrder)\n",
    "        rightInOrder = inOrderTraversal(current.right)\n",
    "        print(rightInOrder)\n",
    "        if ((n1 in leftInOrder) & (n2 in rightInOrder)) |((n1 in rightInOrder) & (n2 in leftInOrder)):\n",
    "            return current.data\n",
    "        elif (n1,n2 in leftInOrder):\n",
    "            return lowestCommonAncestor(current.left,n1,n2)\n",
    "        else:\n",
    "            return lowestCommonAncestor(current.right,n1,n2)\n",
    "    else:\n",
    "        print('Both nodes are not present in the tree being traversed')\n",
    "    "
   ]
  },
  {
   "cell_type": "code",
   "execution_count": null,
   "metadata": {
    "collapsed": true
   },
   "outputs": [],
   "source": [
    "lowestCommonAncestor(b,4,5)"
   ]
  },
  {
   "cell_type": "code",
   "execution_count": null,
   "metadata": {
    "collapsed": true
   },
   "outputs": [],
   "source": [
    "lowestCommonAncestor(b,3,5)"
   ]
  },
  {
   "cell_type": "code",
   "execution_count": null,
   "metadata": {
    "collapsed": true
   },
   "outputs": [],
   "source": [
    "class Node:\n",
    "    def __init__(self,data):\n",
    "        self.data = data\n",
    "        self.left = None\n",
    "        self.right = None"
   ]
  },
  {
   "cell_type": "code",
   "execution_count": null,
   "metadata": {
    "collapsed": true
   },
   "outputs": [],
   "source": [
    "tree = Node(1)\n",
    "tree.left = Node(2)\n",
    "tree.right = Node(3)\n",
    "tree.left.left = Node(4)\n",
    "tree.left.right = Node(5)"
   ]
  },
  {
   "cell_type": "code",
   "execution_count": null,
   "metadata": {
    "collapsed": true
   },
   "outputs": [],
   "source": [
    "from collections import deque"
   ]
  },
  {
   "cell_type": "code",
   "execution_count": null,
   "metadata": {
    "collapsed": true
   },
   "outputs": [],
   "source": [
    "def isMinHeap(node):\n",
    "    current= node\n",
    "    parent = {}\n",
    "    level = {}\n",
    "    q = deque()\n",
    "    q.append(current)\n",
    "    parent[current.data] = None\n",
    "    level[current.data] = 0\n",
    "    while len(q) > 0:\n",
    "        a = q.popleft()\n",
    "        print(a.data)\n",
    "        if a.left is not None:\n",
    "            q.append(a.left)\n",
    "            parentLevel = level[a.data]\n",
    "            level[a.left.data] = parentLevel + 1\n",
    "            parent[a.left.data] = a.data\n",
    "        if a.right is not None:\n",
    "            q.append(a.right)\n",
    "            parentLevel = level[a.data]\n",
    "            level[a.right.data] = parentLevel + 1\n",
    "            parent[a.right.data] = a.data\n",
    "    # Checking the completeness property\n",
    "    keysInLevel = {}\n",
    "    for key,lev in level.items():\n",
    "        if lev not in keysInLevel:\n",
    "            keysInLevel[lev] = 1\n",
    "        else:\n",
    "            keysInLevel[lev] = keysInLevel[lev] + 1\n",
    "    maxLevel = max(keysInLevel.keys())\n",
    "    print('Maximum level of the tree is ',maxLevel)\n",
    "    \n",
    "    for key in keysInLevel:\n",
    "        if key != maxLevel:\n",
    "            val = keysInLevel[key]\n",
    "            if (val != 2 ** key):\n",
    "                print('Not a complete binary tree')\n",
    "                return 0\n",
    "                \n",
    "    #Checking for the min property:\n",
    "    for key,val in parent.items():\n",
    "        if (val is not None and val > key):\n",
    "            print('Value in parent is greater than key. This violates min heap')\n",
    "            return 0\n",
    "    \n",
    "    print('Both min heap conditions satisfied.')\n",
    "    return 1\n",
    "    \n",
    "        "
   ]
  },
  {
   "cell_type": "code",
   "execution_count": null,
   "metadata": {
    "collapsed": true
   },
   "outputs": [],
   "source": [
    "x = {1:3,2:5,3:-116}"
   ]
  },
  {
   "cell_type": "code",
   "execution_count": null,
   "metadata": {
    "collapsed": true
   },
   "outputs": [],
   "source": [
    "isMinHeap(tree)"
   ]
  },
  {
   "cell_type": "code",
   "execution_count": null,
   "metadata": {
    "collapsed": true
   },
   "outputs": [],
   "source": [
    "tree = Node(1)\n",
    "tree.left = Node(2)\n",
    "tree.right = Node(3)\n",
    "tree.left.left = Node(4)\n",
    "tree.left.right = Node(5)\n",
    "tree.left.left.left = Node(6)"
   ]
  },
  {
   "cell_type": "code",
   "execution_count": null,
   "metadata": {
    "collapsed": true
   },
   "outputs": [],
   "source": [
    "isMinHeap(tree)"
   ]
  },
  {
   "cell_type": "code",
   "execution_count": 155,
   "metadata": {
    "collapsed": true
   },
   "outputs": [],
   "source": [
    "def pathFromParents(node):\n",
    "    current= node\n",
    "    bfs = []\n",
    "    parent = {}\n",
    "    level = {}\n",
    "    q = deque()\n",
    "    q.append(current)\n",
    "    parent[current.data] = None\n",
    "    level[current.data] = 0\n",
    "    while len(q) > 0:\n",
    "        a = q.popleft()\n",
    "        print(a.data)\n",
    "        bfs.append(a.data)\n",
    "        if a.left is not None:\n",
    "            q.append(a.left)\n",
    "            parentLevel = level[a.data]\n",
    "            level[a.left.data] = parentLevel + 1\n",
    "            parent[a.left.data] = a.data\n",
    "        if a.right is not None:\n",
    "            q.append(a.right)\n",
    "            parentLevel = level[a.data]\n",
    "            level[a.right.data] = parentLevel + 1\n",
    "            parent[a.right.data] = a.data\n",
    "    print(bfs)\n",
    "    deepestElement = bfs.pop()\n",
    "    x = deepestElement\n",
    "    print(parent)\n",
    "    path = []\n",
    "    while (x in parent.keys()) & (x is not None):\n",
    "        if parent[x] is not None:\n",
    "            path.append(parent[x])\n",
    "        x = parent[x]\n",
    "    print(path)"
   ]
  },
  {
   "cell_type": "code",
   "execution_count": 156,
   "metadata": {},
   "outputs": [
    {
     "name": "stdout",
     "output_type": "stream",
     "text": [
      "1\n",
      "2\n",
      "3\n",
      "4\n",
      "5\n",
      "[1, 2, 3, 4, 5]\n",
      "{1: None, 2: 1, 3: 1, 4: 2, 5: 2}\n",
      "[2, 1]\n"
     ]
    }
   ],
   "source": [
    "pathFromParents(tree)"
   ]
  },
  {
   "cell_type": "code",
   "execution_count": null,
   "metadata": {
    "collapsed": true
   },
   "outputs": [],
   "source": [
    "def sumOfRange(arr,start,end):\n",
    "    tot = 0\n",
    "    for i in range(start,end+1):\n",
    "        tot = tot+arr[i]\n",
    "    return tot"
   ]
  },
  {
   "cell_type": "code",
   "execution_count": null,
   "metadata": {
    "collapsed": true
   },
   "outputs": [],
   "source": [
    "def slidingWindowSum(a,window):\n",
    "    cum = [0] * (len(arr))\n",
    "    for i in range(len(arr)):\n",
    "        if i < window:\n",
    "            cum[i] = sumOfRange(a,0,i)\n",
    "        else:\n",
    "            cum[i] = sumOfRange(a,i-window+1,i)\n",
    "    return cum"
   ]
  },
  {
   "cell_type": "code",
   "execution_count": null,
   "metadata": {
    "collapsed": true
   },
   "outputs": [],
   "source": [
    "arr = [1,1,1,1,1,1]\n",
    "window = 3"
   ]
  },
  {
   "cell_type": "code",
   "execution_count": null,
   "metadata": {
    "collapsed": true
   },
   "outputs": [],
   "source": [
    "slidingWindowSum(arr,window)"
   ]
  },
  {
   "cell_type": "code",
   "execution_count": 77,
   "metadata": {
    "collapsed": true
   },
   "outputs": [],
   "source": [
    "class Node:\n",
    "    def __init__(self,data):\n",
    "        self.data = data\n",
    "        self.next = None\n",
    "class Linkedlist:\n",
    "    def __init__(self):\n",
    "        self.head = None\n",
    "    \n",
    "    def push(self,val):\n",
    "        node1 = Node(val)\n",
    "        node1.next = self.head\n",
    "        self.head = node1\n",
    "    def printElementsInLinkedlist(self):\n",
    "        temp = self.head\n",
    "        while temp is not None:\n",
    "            print(temp.data)\n",
    "            temp = temp.next\n",
    "    def length(self):\n",
    "        length = 0\n",
    "        temp = self.head\n",
    "        while temp is not None:\n",
    "            length = length + 1\n",
    "            temp = temp.next\n",
    "        return length\n",
    "    def addToEnd(self,val):\n",
    "        node1 = Node(val)\n",
    "        temp = self.head\n",
    "        if self.head is None:\n",
    "            self.head = node1\n",
    "            return\n",
    "        while temp.next is not None:\n",
    "            temp = temp.next\n",
    "        temp.next = node1"
   ]
  },
  {
   "cell_type": "code",
   "execution_count": 78,
   "metadata": {
    "collapsed": true
   },
   "outputs": [],
   "source": [
    "l = Linkedlist()\n",
    "l.push(1)\n",
    "l.push(2)\n",
    "l.push(3)\n",
    "l.push(1)\n",
    "l.push(2)\n",
    "l.push(4)\n",
    "l.push(3)"
   ]
  },
  {
   "cell_type": "code",
   "execution_count": 79,
   "metadata": {},
   "outputs": [
    {
     "name": "stdout",
     "output_type": "stream",
     "text": [
      "3\n",
      "4\n",
      "2\n",
      "1\n",
      "3\n",
      "2\n",
      "1\n"
     ]
    }
   ],
   "source": [
    "l.printElementsInLinkedlist()"
   ]
  },
  {
   "cell_type": "code",
   "execution_count": 80,
   "metadata": {
    "collapsed": true
   },
   "outputs": [],
   "source": [
    "l.addToEnd(11)"
   ]
  },
  {
   "cell_type": "code",
   "execution_count": 84,
   "metadata": {},
   "outputs": [
    {
     "name": "stdout",
     "output_type": "stream",
     "text": [
      "12\n",
      "14\n"
     ]
    }
   ],
   "source": [
    "l1.printElementsInLinkedlist()"
   ]
  },
  {
   "cell_type": "code",
   "execution_count": 83,
   "metadata": {
    "collapsed": true
   },
   "outputs": [],
   "source": [
    "l1 = Linkedlist()\n",
    "l1.addToEnd(12)\n",
    "l1.addToEnd(14)"
   ]
  },
  {
   "cell_type": "code",
   "execution_count": null,
   "metadata": {
    "collapsed": true
   },
   "outputs": [],
   "source": [
    "l.length()"
   ]
  },
  {
   "cell_type": "code",
   "execution_count": null,
   "metadata": {
    "collapsed": true
   },
   "outputs": [],
   "source": [
    "def removeDuplicates(l):\n",
    "    temp = l.head\n",
    "    uniq = set()\n",
    "    prev = None\n",
    "    while temp is not None:\n",
    "        if temp.data not in uniq:\n",
    "            uniq.add(temp.data)\n",
    "            prev = temp\n",
    "        else:\n",
    "            if prev is not None:\n",
    "                prev.next = temp.next        \n",
    "        \n",
    "        temp = temp.next\n",
    "    l.printElementsInLinkedlist()"
   ]
  },
  {
   "cell_type": "code",
   "execution_count": null,
   "metadata": {
    "collapsed": true
   },
   "outputs": [],
   "source": [
    "removeDuplicates(l)"
   ]
  },
  {
   "cell_type": "code",
   "execution_count": null,
   "metadata": {
    "collapsed": true
   },
   "outputs": [],
   "source": [
    "def delNThToLastElem(l,n):\n",
    "    temp = l.head\n",
    "    length = l.length()\n",
    "    if n > length:\n",
    "        print('position greater than length of linked list')\n",
    "    elemToDel = length - n\n",
    "    \n",
    "    while temp is not None:\n",
    "        if elemToDel == 1:\n",
    "            if temp.next.next is not None:\n",
    "                temp.next = temp.next.next\n",
    "            else:\n",
    "                temp.next = None\n",
    "            return\n",
    "        else:\n",
    "            temp = temp.next\n",
    "            elemToDel = elemToDel - 1"
   ]
  },
  {
   "cell_type": "code",
   "execution_count": null,
   "metadata": {
    "collapsed": true
   },
   "outputs": [],
   "source": [
    "delNThToLastElem(l,3)"
   ]
  },
  {
   "cell_type": "code",
   "execution_count": null,
   "metadata": {
    "collapsed": true
   },
   "outputs": [],
   "source": [
    "l.printElementsInLinkedlist()"
   ]
  },
  {
   "cell_type": "markdown",
   "metadata": {},
   "source": [
    "Implement a function to check if a tree is balanced For the purposes of this question, a balanced tree is defined to be a tree such that no two leaf nodes differ in distance from the root by more than one. This is a height balanced binary tree"
   ]
  },
  {
   "cell_type": "code",
   "execution_count": 135,
   "metadata": {
    "collapsed": true
   },
   "outputs": [],
   "source": [
    "class Node:\n",
    "    def __init__(self,data):\n",
    "        self.data = data\n",
    "        self.left = None\n",
    "        self.right = None"
   ]
  },
  {
   "cell_type": "code",
   "execution_count": 136,
   "metadata": {
    "collapsed": true
   },
   "outputs": [],
   "source": [
    "tree = Node(1)\n",
    "tree.left = Node(2)\n",
    "tree.right = Node(3)\n",
    "tree.left.left = Node(4)\n",
    "tree.left.right = Node(5)"
   ]
  },
  {
   "cell_type": "code",
   "execution_count": 40,
   "metadata": {
    "collapsed": true
   },
   "outputs": [],
   "source": [
    "def heightOfTree(b):\n",
    "    if b is None:\n",
    "        return 0\n",
    "    return max(heightOfTree(b.left),heightOfTree(b.right)) + 1"
   ]
  },
  {
   "cell_type": "code",
   "execution_count": 41,
   "metadata": {},
   "outputs": [
    {
     "data": {
      "text/plain": [
       "3"
      ]
     },
     "execution_count": 41,
     "metadata": {},
     "output_type": "execute_result"
    }
   ],
   "source": [
    "heightOfTree(tree)"
   ]
  },
  {
   "cell_type": "code",
   "execution_count": 42,
   "metadata": {
    "collapsed": true
   },
   "outputs": [],
   "source": [
    "def isBalanced(b):\n",
    "    if b is None:\n",
    "        return True\n",
    "    lh = heightOfTree(b.left)\n",
    "    rh = heightOfTree(b.right)\n",
    "    \n",
    "    if (isBalanced(b.left) is True) & (isBalanced(b.right) is True) & (abs(lh-rh) <=1):\n",
    "        return True\n",
    "    else:\n",
    "        return False"
   ]
  },
  {
   "cell_type": "code",
   "execution_count": 43,
   "metadata": {},
   "outputs": [
    {
     "data": {
      "text/plain": [
       "True"
      ]
     },
     "execution_count": 43,
     "metadata": {},
     "output_type": "execute_result"
    }
   ],
   "source": [
    "isBalanced(tree)"
   ]
  },
  {
   "cell_type": "markdown",
   "metadata": {},
   "source": [
    "Given a sorted (increasing order) array, write an algorithm to create a binary tree with minimal height"
   ]
  },
  {
   "cell_type": "code",
   "execution_count": 44,
   "metadata": {
    "collapsed": true
   },
   "outputs": [],
   "source": [
    "def binaryTreeFromSortedArray(arr,start,end):\n",
    "    if end < start:\n",
    "        return None \n",
    "    mid = round((end + start)/2)\n",
    "    tree = Node(arr[mid])\n",
    "    tree.left = binaryTreeFromSortedArray(arr,start,mid-1)\n",
    "    tree.right = binaryTreeFromSortedArray(arr,mid+1,end)\n",
    "    return tree"
   ]
  },
  {
   "cell_type": "code",
   "execution_count": 45,
   "metadata": {
    "collapsed": true
   },
   "outputs": [],
   "source": [
    "def inOrder(b):\n",
    "    stack = []\n",
    "    current = b\n",
    "    inO = []\n",
    "    while(current is not None) | (len(stack) > 0):\n",
    "        if current is not None:\n",
    "            stack.append(current)\n",
    "            current = current.left\n",
    "        else:\n",
    "            a = stack.pop()\n",
    "            print(a.data)\n",
    "            if a.right is not None:\n",
    "                current = a.right\n",
    "            "
   ]
  },
  {
   "cell_type": "code",
   "execution_count": 48,
   "metadata": {},
   "outputs": [
    {
     "name": "stdout",
     "output_type": "stream",
     "text": [
      "1\n",
      "2\n",
      "3\n",
      "4\n",
      "5\n",
      "6\n"
     ]
    }
   ],
   "source": [
    "inOrder(binaryTreeFromSortedArray(arr,0,len(arr)-1))"
   ]
  },
  {
   "cell_type": "code",
   "execution_count": 49,
   "metadata": {},
   "outputs": [
    {
     "data": {
      "text/plain": [
       "3"
      ]
     },
     "execution_count": 49,
     "metadata": {},
     "output_type": "execute_result"
    }
   ],
   "source": [
    "heightOfTree(binaryTreeFromSortedArray(arr,0,len(arr)-1))"
   ]
  },
  {
   "cell_type": "code",
   "execution_count": 47,
   "metadata": {
    "collapsed": true
   },
   "outputs": [],
   "source": [
    "arr = [1,2,3,4,5,6]\n"
   ]
  },
  {
   "cell_type": "code",
   "execution_count": 50,
   "metadata": {
    "collapsed": true
   },
   "outputs": [],
   "source": [
    "from collections import deque"
   ]
  },
  {
   "cell_type": "code",
   "execution_count": 86,
   "metadata": {
    "collapsed": true
   },
   "outputs": [],
   "source": [
    "def linkedlistInEachLevel(b):\n",
    "    q = deque()\n",
    "    q.append(b)\n",
    "    level = {}\n",
    "    level[b] = 0\n",
    "    bfs = []\n",
    "    while len(q) > 0:\n",
    "        a = q.popleft()\n",
    "        bfs.append(a)\n",
    "        if a.left is not None:\n",
    "            level[a.left] = level[a] + 1\n",
    "            q.append(a.left)\n",
    "        if a.right is not None:\n",
    "            level[a.right] = level[a] + 1\n",
    "            q.append(a.right)\n",
    "    pos = {}\n",
    "    for i in range(len(bfs)):\n",
    "        pos[bfs[i]] = i\n",
    "    levPos ={}\n",
    "    for key,val in level.items():\n",
    "        if val in levPos:\n",
    "            levPos[val].append(pos[key])\n",
    "        else:\n",
    "            levPos[val] = [pos[key]]\n",
    "    print(levPos)\n",
    "        \n",
    "    for key in levPos:\n",
    "        mergeSort(levPos[key])\n",
    "    lists = []\n",
    "    for key in levPos:\n",
    "        positionsInLev = levPos[key]\n",
    "        l = Linkedlist()\n",
    "        for i in levPos[key]:\n",
    "            l.addToEnd(bfs[i].data)\n",
    "        lists.append(l)\n",
    "    return lists      "
   ]
  },
  {
   "cell_type": "code",
   "execution_count": 88,
   "metadata": {},
   "outputs": [
    {
     "name": "stdout",
     "output_type": "stream",
     "text": [
      "{0: [0], 1: [1, 2], 2: [3, 4]}\n"
     ]
    }
   ],
   "source": [
    "test = linkedlistInEachLevel(tree)"
   ]
  },
  {
   "cell_type": "code",
   "execution_count": 91,
   "metadata": {},
   "outputs": [
    {
     "name": "stdout",
     "output_type": "stream",
     "text": [
      "1\n",
      "*****\n",
      "2\n",
      "3\n",
      "*****\n",
      "4\n",
      "5\n",
      "*****\n"
     ]
    }
   ],
   "source": [
    "for i in test:\n",
    "    i.printElementsInLinkedlist()\n",
    "    print('*****')"
   ]
  },
  {
   "cell_type": "code",
   "execution_count": 96,
   "metadata": {
    "collapsed": true
   },
   "outputs": [],
   "source": [
    "def inOrderSuccessor(b,node):\n",
    "    stack = []\n",
    "    current = b\n",
    "    inOrderPred = {}\n",
    "    prev = None\n",
    "    a = None\n",
    "    while (current is not None) | (len(stack) > 0):\n",
    "        if current is not None:\n",
    "            stack.append(current)\n",
    "            current = current.left\n",
    "        else:\n",
    "            prev = a\n",
    "            a = stack.pop()\n",
    "            inOrderPred[a] = prev\n",
    "            if a.right is not None:\n",
    "                current = a.right\n",
    "    successor = {}\n",
    "    for key,val in inOrderPred.items():\n",
    "        if val is not None:\n",
    "            successor[val] = key\n",
    "    return successor[node].data"
   ]
  },
  {
   "cell_type": "code",
   "execution_count": 97,
   "metadata": {},
   "outputs": [
    {
     "data": {
      "text/plain": [
       "2"
      ]
     },
     "execution_count": 97,
     "metadata": {},
     "output_type": "execute_result"
    }
   ],
   "source": [
    "inOrderSuccessor(tree,tree.left.left)"
   ]
  },
  {
   "cell_type": "code",
   "execution_count": 103,
   "metadata": {
    "collapsed": true
   },
   "outputs": [],
   "source": [
    "def inOrder(b):\n",
    "    stack = []\n",
    "    current = b\n",
    "    treeData = []\n",
    "    while (current is not None) | (len(stack) > 0):\n",
    "        if current is not None:\n",
    "            stack.append(current)\n",
    "            current = current.left\n",
    "        else:\n",
    "            a = stack.pop()\n",
    "            treeData.append(a.data)\n",
    "            if a.right is not None:\n",
    "                current = a.right\n",
    "    return treeData"
   ]
  },
  {
   "cell_type": "code",
   "execution_count": 148,
   "metadata": {
    "collapsed": true
   },
   "outputs": [],
   "source": [
    "def lowestCommonAncestor(tree,val1,val2):\n",
    "    b = tree\n",
    "    dfs = inOrder(b)\n",
    "    if (val1,val2 in dfs):\n",
    "        if (val1 == b.data or val2 == b.data):\n",
    "            return b.data\n",
    "        else:\n",
    "            dfs_left = inOrder(b.left)\n",
    "            dfs_right = inOrder(b.right)\n",
    "            if (val1 in dfs_left and val2 in dfs_right) | (val1 in dfs_right and val2 in dfs_left):\n",
    "                return b.data\n",
    "                print('***')\n",
    "            elif (val1,val2 in dfs_left):\n",
    "                return lowestCommonAncestor(b.left,val1,val2)\n",
    "            else:\n",
    "                return lowestCommonAncestor(b.right,val1,val2)\n",
    "    else:\n",
    "        print('Both values are not present in the tree')\n",
    "        return -1\n",
    "    "
   ]
  },
  {
   "cell_type": "code",
   "execution_count": 149,
   "metadata": {},
   "outputs": [
    {
     "data": {
      "text/plain": [
       "2"
      ]
     },
     "execution_count": 149,
     "metadata": {},
     "output_type": "execute_result"
    }
   ],
   "source": [
    "lowestCommonAncestor(tree,2,5)"
   ]
  },
  {
   "cell_type": "code",
   "execution_count": 187,
   "metadata": {
    "collapsed": true
   },
   "outputs": [],
   "source": [
    "from collections import deque"
   ]
  },
  {
   "cell_type": "code",
   "execution_count": 188,
   "metadata": {
    "collapsed": true
   },
   "outputs": [
    {
     "ename": "SyntaxError",
     "evalue": "unexpected EOF while parsing (<ipython-input-188-4529f06b8aa6>, line 37)",
     "output_type": "error",
     "traceback": [
      "\u001b[0;36m  File \u001b[0;32m\"<ipython-input-188-4529f06b8aa6>\"\u001b[0;36m, line \u001b[0;32m37\u001b[0m\n\u001b[0;31m    \u001b[0m\n\u001b[0m    ^\u001b[0m\n\u001b[0;31mSyntaxError\u001b[0m\u001b[0;31m:\u001b[0m unexpected EOF while parsing\n"
     ]
    }
   ],
   "source": [
    "def allPathsSumUpValue(b,tot):\n",
    "    stack = []\n",
    "    stack.append(b)\n",
    "    parent = {}\n",
    "    parent[b.data] = None\n",
    "    preO = []\n",
    "    while len(stack) > 0:\n",
    "        a = stack.pop()\n",
    "        preO.append(a.data)\n",
    "        if a.right is not None:\n",
    "            stack.append(a.right)\n",
    "            parent[a.right.data] = a.data\n",
    "        if a.left is not None:\n",
    "            stack.append(a.left)\n",
    "            parent[a.left.data] = a.data\n",
    "    paths = []\n",
    "    print(parent)\n",
    "    completeParent = {}\n",
    "    for i in parent:\n",
    "        l = deque()\n",
    "        x = parent[i]\n",
    "        while x is not None:\n",
    "            l.append(x)\n",
    "            x = parent[x]\n",
    "        completeParent[i] = l\n",
    "    print(completeParent)\n",
    "    paths = []\n",
    "    if tot in completeParent:\n",
    "        paths.append([tot])\n",
    "    for i in completeParent:\n",
    "        tempPath.append(i)\n",
    "        comp = i\n",
    "        tempParents = completeParentParent[i]\n",
    "        while len(tempParents) > 0:\n",
    "            temp1 = tempParents.popLeft()\n",
    "            if comp + temp1 == tot:\n",
    "                tempPath.append\n",
    "            \n",
    "    \n",
    "\n",
    "    "
   ]
  },
  {
   "cell_type": "code",
   "execution_count": 186,
   "metadata": {},
   "outputs": [
    {
     "name": "stdout",
     "output_type": "stream",
     "text": [
      "{1: None, 3: 1, 2: 1, 5: 2, 4: 2}\n",
      "{1: [], 3: [1], 2: [1], 5: [2, 1], 4: [2, 1]}\n"
     ]
    }
   ],
   "source": [
    "allPathsSumUpValue(tree,10)"
   ]
  },
  {
   "cell_type": "code",
   "execution_count": 192,
   "metadata": {
    "collapsed": true
   },
   "outputs": [],
   "source": [
    "def countDistinctInWindow(arr,window):\n",
    "    start = 0\n",
    "    end = window - 1\n",
    "    \n",
    "    while (start < len(arr)) & (end < len(arr)):\n",
    "        distinct = set()\n",
    "        for i in range(start,end+1):\n",
    "            distinct.add(arr[i])\n",
    "        print(len(distinct))\n",
    "        start = start + 1\n",
    "        end = end + 1"
   ]
  },
  {
   "cell_type": "code",
   "execution_count": 193,
   "metadata": {
    "collapsed": true
   },
   "outputs": [],
   "source": [
    "arr = [1,2,3,1,5,6,7,6,5,3]\n",
    "window = 4"
   ]
  },
  {
   "cell_type": "code",
   "execution_count": 194,
   "metadata": {},
   "outputs": [
    {
     "name": "stdout",
     "output_type": "stream",
     "text": [
      "3\n",
      "4\n",
      "4\n",
      "4\n",
      "3\n",
      "3\n",
      "4\n"
     ]
    }
   ],
   "source": [
    "countDistinctInWindow(arr,window)"
   ]
  },
  {
   "cell_type": "code",
   "execution_count": 200,
   "metadata": {
    "collapsed": true
   },
   "outputs": [],
   "source": [
    "def fibonacciNumber(n):\n",
    "    if n < 0:\n",
    "        return -1\n",
    "    elif n == 0:\n",
    "        return 0\n",
    "    elif n == 1:\n",
    "        return 1\n",
    "    elif n == 2:\n",
    "        return 1\n",
    "    else:\n",
    "        return fibonacciNumber(n-1) + fibonacciNumber(n-2)"
   ]
  },
  {
   "cell_type": "code",
   "execution_count": 201,
   "metadata": {},
   "outputs": [
    {
     "data": {
      "text/plain": [
       "2"
      ]
     },
     "execution_count": 201,
     "metadata": {},
     "output_type": "execute_result"
    }
   ],
   "source": [
    "fibonacciNumber(3)"
   ]
  },
  {
   "cell_type": "code",
   "execution_count": 202,
   "metadata": {},
   "outputs": [
    {
     "data": {
      "text/plain": [
       "3"
      ]
     },
     "execution_count": 202,
     "metadata": {},
     "output_type": "execute_result"
    }
   ],
   "source": [
    "fibonacciNumber(4)"
   ]
  },
  {
   "cell_type": "code",
   "execution_count": 203,
   "metadata": {},
   "outputs": [
    {
     "data": {
      "text/plain": [
       "8"
      ]
     },
     "execution_count": 203,
     "metadata": {},
     "output_type": "execute_result"
    }
   ],
   "source": [
    "fibonacciNumber(6)"
   ]
  },
  {
   "cell_type": "code",
   "execution_count": 213,
   "metadata": {
    "collapsed": true
   },
   "outputs": [],
   "source": [
    "def matrixMove(m,n):\n",
    "        if (m == 1) & (n == 1):\n",
    "            return 0\n",
    "        elif m == 1:\n",
    "            return 1\n",
    "        elif n == 1:\n",
    "            return 1\n",
    "        else:\n",
    "            return matrixMove(m-1,n) + matrixMove(m,n-1)"
   ]
  },
  {
   "cell_type": "code",
   "execution_count": 214,
   "metadata": {},
   "outputs": [],
   "source": [
    "def moveOfMatrix(matrix):\n",
    "    m = len(matrix)\n",
    "    n = len(matrix[0])\n",
    "    return matrixMove(m,n)"
   ]
  },
  {
   "cell_type": "code",
   "execution_count": 218,
   "metadata": {},
   "outputs": [],
   "source": [
    "mat = [[1,2,3],[4,5,6],[7,8,9]]"
   ]
  },
  {
   "cell_type": "code",
   "execution_count": 219,
   "metadata": {},
   "outputs": [
    {
     "data": {
      "text/plain": [
       "6"
      ]
     },
     "execution_count": 219,
     "metadata": {},
     "output_type": "execute_result"
    }
   ],
   "source": [
    "moveOfMatrix(mat)"
   ]
  },
  {
   "cell_type": "code",
   "execution_count": 252,
   "metadata": {},
   "outputs": [],
   "source": [
    "def allSubsets(s):\n",
    "    subset = [None] * len(s)\n",
    "    helper(s,subset,0)\n",
    "\n",
    "def helper(s,subset,i):\n",
    "    if i == len(s):\n",
    "        printSet(subset)\n",
    "    else:\n",
    "        subset[i] = None\n",
    "        helper(s,subset,i+1)\n",
    "        subset[i] = s[i]\n",
    "        helper(s,subset,i+1)\n",
    "def printSet(subset):\n",
    "    for i in range(len(subset)):\n",
    "        if subset[i] is not None:\n",
    "            print(subset[i],end=\" \")\n",
    "    print(\"\\n\")"
   ]
  },
  {
   "cell_type": "code",
   "execution_count": 253,
   "metadata": {
    "collapsed": true
   },
   "outputs": [],
   "source": [
    "s = [1,2,3,4]"
   ]
  },
  {
   "cell_type": "markdown",
   "metadata": {},
   "source": [
    "Given a sorted array of n integers that has been rotated an unknown number of times,giveanO(logn)algorithmthatfindsanelementinthearray Youmayassume that the array was originally sorted in increasing order"
   ]
  },
  {
   "cell_type": "code",
   "execution_count": 238,
   "metadata": {
    "collapsed": true
   },
   "outputs": [],
   "source": [
    "def linearSearchIndex(arr,val):\n",
    "    for i in range(len(arr)):\n",
    "        if arr[i] == val:\n",
    "            return i"
   ]
  },
  {
   "cell_type": "code",
   "execution_count": 235,
   "metadata": {
    "collapsed": true
   },
   "outputs": [],
   "source": [
    "def findRotationReset(arr):\n",
    "    prev = -999999\n",
    "    for i in range(len(arr)):\n",
    "        if arr[i] >= prev:\n",
    "            prev = arr[i]\n",
    "        else:\n",
    "            return i"
   ]
  },
  {
   "cell_type": "code",
   "execution_count": 241,
   "metadata": {
    "collapsed": true
   },
   "outputs": [],
   "source": [
    "def findElementFromRotatedArray(arr,elem):\n",
    "    if elem == arr[0]:\n",
    "        return 0\n",
    "    rotationResetIndex = findRotationReset(arr)\n",
    "    rotationResetElem = arr[rotationResetIndex]\n",
    "    if rotationResetElem == elem:\n",
    "        return rotationResetIndex\n",
    "    elif (elem < arr[0]):\n",
    "        return rotationResetIndex + linearSearchIndex(arr[rotationResetIndex:],elem)\n",
    "    else:\n",
    "        return linearSearchIndex(arr[:rotationResetIndex],elem)"
   ]
  },
  {
   "cell_type": "code",
   "execution_count": 242,
   "metadata": {},
   "outputs": [
    {
     "data": {
      "text/plain": [
       "6"
      ]
     },
     "execution_count": 242,
     "metadata": {},
     "output_type": "execute_result"
    }
   ],
   "source": [
    "findElementFromRotatedArray([9,10,11,12,1,2,3,4],3)"
   ]
  },
  {
   "cell_type": "code",
   "execution_count": 245,
   "metadata": {
    "collapsed": true
   },
   "outputs": [],
   "source": [
    "def valAppearsConsecutively(arr,val):\n",
    "    validIndex = None\n",
    "    for i in range(len(arr)):\n",
    "        if arr[i] == val:\n",
    "            if (validIndex is not None and i - validIndex > 1):\n",
    "                return False\n",
    "            validIndex = i\n",
    "    return True\n",
    "                "
   ]
  },
  {
   "cell_type": "code",
   "execution_count": 268,
   "metadata": {},
   "outputs": [],
   "source": [
    "a = [1,1,1,4,1,5,6,3]"
   ]
  },
  {
   "cell_type": "code",
   "execution_count": 271,
   "metadata": {
    "collapsed": true
   },
   "outputs": [],
   "source": [
    "def sumInSubArray(arr,tot):\n",
    "    for i in range(len(arr)):\n",
    "        for j in range(i,len(arr)+1):\n",
    "            subArr = []\n",
    "            for k in range(i,j):\n",
    "                subArr.append(arr[k])\n",
    "            if sum(subArr) == tot:\n",
    "                print(subArr)"
   ]
  },
  {
   "cell_type": "code",
   "execution_count": 272,
   "metadata": {},
   "outputs": [
    {
     "name": "stdout",
     "output_type": "stream",
     "text": [
      "[3, 5]\n"
     ]
    }
   ],
   "source": [
    "sumInSubArray([1,2,3,5,6],8)"
   ]
  },
  {
   "cell_type": "code",
   "execution_count": 284,
   "metadata": {
    "collapsed": true
   },
   "outputs": [],
   "source": [
    "def maxSizeOfSubString(a):\n",
    "    maxi = 1\n",
    "    for i in range(len(a)):\n",
    "        for j in range(i,len(a)+1):\n",
    "            subArr = {}\n",
    "            for k in range(i,j):\n",
    "                if a[k] in subArr:\n",
    "                    subArr[a[k]] = subArr[a[k]] + 1\n",
    "                else:\n",
    "                    subArr[a[k]] = 1\n",
    "            unique = []\n",
    "            for x in subArr:\n",
    "                if subArr[x] == 1:\n",
    "                    unique.append(x)\n",
    "            if maxi < len(unique):\n",
    "                maxi = len(unique)\n",
    "    return maxi"
   ]
  },
  {
   "cell_type": "code",
   "execution_count": null,
   "metadata": {
    "collapsed": true
   },
   "outputs": [],
   "source": []
  }
 ],
 "metadata": {
  "kernelspec": {
   "display_name": "Python 3",
   "language": "python",
   "name": "python3"
  },
  "language_info": {
   "codemirror_mode": {
    "name": "ipython",
    "version": 3
   },
   "file_extension": ".py",
   "mimetype": "text/x-python",
   "name": "python",
   "nbconvert_exporter": "python",
   "pygments_lexer": "ipython3",
   "version": "3.6.2"
  }
 },
 "nbformat": 4,
 "nbformat_minor": 2
}
