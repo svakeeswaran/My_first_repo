{
 "cells": [
  {
   "cell_type": "code",
   "execution_count": 1,
   "metadata": {
    "collapsed": true
   },
   "outputs": [],
   "source": [
    "class Node:\n",
    "    def __init__(self,data):\n",
    "        self.data = data\n",
    "        self.next = None\n",
    "class Linkedlist:\n",
    "    def __init__(self):\n",
    "        self.head = None\n",
    "        \n",
    "    def push(self, new_data): \n",
    "        new_node = Node(new_data) \n",
    "        new_node.next = self.head \n",
    "        self.head = new_node \n"
   ]
  },
  {
   "cell_type": "code",
   "execution_count": 21,
   "metadata": {
    "collapsed": true
   },
   "outputs": [],
   "source": [
    "l = Linkedlist()"
   ]
  },
  {
   "cell_type": "code",
   "execution_count": 22,
   "metadata": {
    "collapsed": true
   },
   "outputs": [],
   "source": [
    "l.push(1)\n",
    "l.push(2)\n",
    "l.push(3)\n",
    "l.push(4)"
   ]
  },
  {
   "cell_type": "code",
   "execution_count": 23,
   "metadata": {
    "collapsed": true
   },
   "outputs": [],
   "source": [
    "def printElementsInLinkedList(l):\n",
    "    temp = l.head\n",
    "    while temp is not None:\n",
    "        print(temp.data)\n",
    "        temp = temp.next\n",
    "    "
   ]
  },
  {
   "cell_type": "code",
   "execution_count": 24,
   "metadata": {},
   "outputs": [
    {
     "name": "stdout",
     "output_type": "stream",
     "text": [
      "4\n",
      "3\n",
      "2\n",
      "1\n"
     ]
    }
   ],
   "source": [
    "printElementsInLinkedList(l)"
   ]
  },
  {
   "cell_type": "code",
   "execution_count": 25,
   "metadata": {
    "collapsed": true
   },
   "outputs": [],
   "source": [
    "def reverseALinkedList(l):\n",
    "    prev = None\n",
    "    current = l.head\n",
    "    while current is not None:\n",
    "        nex = current.next\n",
    "        current.next = prev\n",
    "        prev = current\n",
    "        current = nex\n",
    "    l.head = prev"
   ]
  },
  {
   "cell_type": "code",
   "execution_count": 26,
   "metadata": {},
   "outputs": [
    {
     "name": "stdout",
     "output_type": "stream",
     "text": [
      "1\n",
      "2\n",
      "3\n",
      "4\n"
     ]
    }
   ],
   "source": [
    "reverseALinkedList(l)\n",
    "printElementsInLinkedList(l)"
   ]
  },
  {
   "cell_type": "code",
   "execution_count": 68,
   "metadata": {
    "collapsed": true
   },
   "outputs": [],
   "source": [
    "def addElementToHead(l,val):\n",
    "    temp = l.head\n",
    "    l.head = Node(val)\n",
    "    l.head.next = temp\n"
   ]
  },
  {
   "cell_type": "code",
   "execution_count": 69,
   "metadata": {
    "collapsed": true
   },
   "outputs": [],
   "source": [
    "addElementToHead(l,17)"
   ]
  },
  {
   "cell_type": "code",
   "execution_count": 70,
   "metadata": {},
   "outputs": [
    {
     "name": "stdout",
     "output_type": "stream",
     "text": [
      "17\n",
      "4\n",
      "3\n",
      "2\n",
      "1\n"
     ]
    }
   ],
   "source": [
    "printElementsInLinkedList(l)"
   ]
  },
  {
   "cell_type": "code",
   "execution_count": 71,
   "metadata": {
    "collapsed": true
   },
   "outputs": [],
   "source": [
    "def addElementToTail(l,val):\n",
    "    temp = l.head\n",
    "    temp2 = Node(val)\n",
    "    while temp.next is not None:\n",
    "        temp = temp.next\n",
    "    temp.next = temp2"
   ]
  },
  {
   "cell_type": "code",
   "execution_count": 72,
   "metadata": {
    "collapsed": true
   },
   "outputs": [],
   "source": [
    "addElementToTail(l,12)"
   ]
  },
  {
   "cell_type": "code",
   "execution_count": 73,
   "metadata": {},
   "outputs": [
    {
     "name": "stdout",
     "output_type": "stream",
     "text": [
      "17\n",
      "4\n",
      "3\n",
      "2\n",
      "1\n",
      "12\n"
     ]
    }
   ],
   "source": [
    "printElementsInLinkedList(l)"
   ]
  },
  {
   "cell_type": "code",
   "execution_count": 74,
   "metadata": {
    "collapsed": true
   },
   "outputs": [],
   "source": [
    "def addElementBeforeAKey(l,val,key):\n",
    "    node1 = Node(val)\n",
    "    temp = l.head\n",
    "    if key == temp.data:\n",
    "        addElementToHead(val)\n",
    "    else:\n",
    "        while temp.next is not None:\n",
    "            if key == temp.next.data:\n",
    "                node1.next = temp.next\n",
    "                temp.next = node1\n",
    "                break\n",
    "            else:\n",
    "                temp = temp.next\n",
    "            \n",
    "    "
   ]
  },
  {
   "cell_type": "code",
   "execution_count": 75,
   "metadata": {
    "collapsed": true
   },
   "outputs": [],
   "source": [
    "addElementBeforeAKey(l,13,12)"
   ]
  },
  {
   "cell_type": "code",
   "execution_count": 76,
   "metadata": {},
   "outputs": [
    {
     "name": "stdout",
     "output_type": "stream",
     "text": [
      "17\n",
      "4\n",
      "3\n",
      "2\n",
      "1\n",
      "13\n",
      "12\n"
     ]
    }
   ],
   "source": [
    "printElementsInLinkedList(l)"
   ]
  },
  {
   "cell_type": "code",
   "execution_count": 77,
   "metadata": {
    "collapsed": true
   },
   "outputs": [],
   "source": [
    "def addElementAfterAKey(l,val,key):\n",
    "    node1 = Node(val)\n",
    "    temp = l.head\n",
    "    while temp is not None:\n",
    "        if key == temp.data:\n",
    "            if temp.next is not None:\n",
    "                node1.next = temp.next\n",
    "            temp.next = node1\n",
    "            break\n",
    "        else:\n",
    "            temp = temp.next"
   ]
  },
  {
   "cell_type": "code",
   "execution_count": 78,
   "metadata": {
    "collapsed": true
   },
   "outputs": [],
   "source": [
    "addElementAfterAKey(l,18,13)"
   ]
  },
  {
   "cell_type": "code",
   "execution_count": 79,
   "metadata": {},
   "outputs": [
    {
     "name": "stdout",
     "output_type": "stream",
     "text": [
      "17\n",
      "4\n",
      "3\n",
      "2\n",
      "1\n",
      "13\n",
      "18\n",
      "12\n"
     ]
    }
   ],
   "source": [
    "printElementsInLinkedList(l)"
   ]
  },
  {
   "cell_type": "code",
   "execution_count": 80,
   "metadata": {
    "collapsed": true
   },
   "outputs": [],
   "source": [
    "def addElementAtAPosition(l,val,index):\n",
    "    node1 = Node(val)\n",
    "    temp = l.head\n",
    "    movesToIndex = index\n",
    "    while movesToIndex != 1:\n",
    "        if temp.next is None:\n",
    "            print('index is beyond the size of linked list')\n",
    "            return\n",
    "        else:\n",
    "            temp = temp.next\n",
    "            movesToIndex = movesToIndex -1\n",
    "    node1.next = temp.next\n",
    "    temp.next = node1\n",
    "    printElementsInLinkedList(l)\n",
    "    \n",
    "            "
   ]
  },
  {
   "cell_type": "code",
   "execution_count": 81,
   "metadata": {},
   "outputs": [
    {
     "name": "stdout",
     "output_type": "stream",
     "text": [
      "17\n",
      "4\n",
      "3\n",
      "2\n",
      "21\n",
      "1\n",
      "13\n",
      "18\n",
      "12\n"
     ]
    }
   ],
   "source": [
    "addElementAtAPosition(l,21,4)"
   ]
  },
  {
   "cell_type": "code",
   "execution_count": 82,
   "metadata": {
    "collapsed": true
   },
   "outputs": [],
   "source": [
    "def deleteElementWithKey(l,key):\n",
    "    current = l.head\n",
    "    previous = None\n",
    "    while current is not None:\n",
    "        if key != current.data:\n",
    "            previous = current\n",
    "            current = current.next\n",
    "        else:\n",
    "            if previous is None:\n",
    "                l.head = current.next\n",
    "                current = current.next\n",
    "            else:\n",
    "                previous.next = current.next\n",
    "                current = previous.next\n",
    "    printElementsInLinkedList(l)     \n",
    "    \n",
    "        \n",
    "    "
   ]
  },
  {
   "cell_type": "code",
   "execution_count": 83,
   "metadata": {
    "collapsed": true
   },
   "outputs": [],
   "source": [
    "l2 = Linkedlist()\n",
    "l2.push(10)\n",
    "l2.push(20)\n",
    "l2.push(20)\n",
    "l2.push(20)"
   ]
  },
  {
   "cell_type": "code",
   "execution_count": 84,
   "metadata": {},
   "outputs": [
    {
     "name": "stdout",
     "output_type": "stream",
     "text": [
      "20\n",
      "20\n",
      "20\n",
      "10\n"
     ]
    }
   ],
   "source": [
    "printElementsInLinkedList(l2)"
   ]
  },
  {
   "cell_type": "code",
   "execution_count": 85,
   "metadata": {},
   "outputs": [
    {
     "name": "stdout",
     "output_type": "stream",
     "text": [
      "10\n"
     ]
    }
   ],
   "source": [
    "deleteElementWithKey(l2,20)"
   ]
  },
  {
   "cell_type": "code",
   "execution_count": 86,
   "metadata": {
    "collapsed": true
   },
   "outputs": [],
   "source": [
    "def deleteElementInPosition(l,index):\n",
    "    temp = l.head\n",
    "    movesToIndex = index\n",
    "    if index == 0:\n",
    "        l.head = temp.next\n",
    "        printElementsInLinkedList(l)\n",
    "    else:\n",
    "        while movesToIndex != 1:\n",
    "            if temp.next is None:\n",
    "                print('index is out of range for the linkedlist')\n",
    "                return\n",
    "            else:\n",
    "                temp = temp.next\n",
    "                movesToIndex = movesToIndex - 1\n",
    "        temp.next = temp.next.next\n",
    "        printElementsInLinkedList(l)\n",
    "        "
   ]
  },
  {
   "cell_type": "code",
   "execution_count": 87,
   "metadata": {},
   "outputs": [
    {
     "name": "stdout",
     "output_type": "stream",
     "text": [
      "index is out of range for the linkedlist\n"
     ]
    }
   ],
   "source": [
    "deleteElementInPosition(l2,4)"
   ]
  },
  {
   "cell_type": "code",
   "execution_count": 88,
   "metadata": {
    "collapsed": true
   },
   "outputs": [],
   "source": [
    "def middleOfLinkedList(l):\n",
    "    temp = l.head\n",
    "    temp2 =l.head\n",
    "    count = 0\n",
    "    if temp is None:\n",
    "        print('Given linkedlist is none')\n",
    "    else:\n",
    "        while temp is not None:\n",
    "            temp = temp.next\n",
    "            count = count + 1\n",
    "    print('total count of nodes',count)\n",
    "    if count % 2 != 0:\n",
    "        middle = (count + 1)/2\n",
    "    else:\n",
    "        middle = count/2\n",
    "    print('The middle node is',middle)\n",
    "    stepsToMiddle = middle -1\n",
    "    while stepsToMiddle != 0:\n",
    "        temp2= temp2.next\n",
    "        stepsToMiddle = stepsToMiddle -1\n",
    "    print('The value in the middle is',temp2.data)\n",
    "        \n",
    "    "
   ]
  },
  {
   "cell_type": "code",
   "execution_count": 89,
   "metadata": {},
   "outputs": [
    {
     "name": "stdout",
     "output_type": "stream",
     "text": [
      "total count of nodes 9\n",
      "The middle node is 5.0\n",
      "The value in the middle is 21\n"
     ]
    }
   ],
   "source": [
    "middleOfLinkedList(l)"
   ]
  },
  {
   "cell_type": "code",
   "execution_count": 90,
   "metadata": {
    "collapsed": true
   },
   "outputs": [],
   "source": [
    "def countOfValues(l,value):\n",
    "    temp = l.head\n",
    "    count = {}\n",
    "    while temp is not None:\n",
    "        if temp.data in count:\n",
    "            count[temp.data] = count[temp.data] + 1\n",
    "            temp = temp.next\n",
    "        else:\n",
    "            count[temp.data] = 1\n",
    "            temp = temp.next\n",
    "    if value not in count:\n",
    "        print('The given key is not present in the linkedlist')\n",
    "    else:\n",
    "        print('countOfValue',count[value]) "
   ]
  },
  {
   "cell_type": "code",
   "execution_count": 91,
   "metadata": {},
   "outputs": [
    {
     "name": "stdout",
     "output_type": "stream",
     "text": [
      "17\n",
      "4\n",
      "3\n",
      "2\n",
      "21\n",
      "1\n",
      "13\n",
      "18\n",
      "12\n"
     ]
    }
   ],
   "source": [
    "printElementsInLinkedList(l)"
   ]
  },
  {
   "cell_type": "code",
   "execution_count": 92,
   "metadata": {},
   "outputs": [
    {
     "name": "stdout",
     "output_type": "stream",
     "text": [
      "The given key is not present in the linkedlist\n"
     ]
    }
   ],
   "source": [
    "countOfValues(l,99)"
   ]
  },
  {
   "cell_type": "code",
   "execution_count": 93,
   "metadata": {
    "collapsed": true
   },
   "outputs": [],
   "source": [
    "class NodeWithHasVisited:\n",
    "    def __init__(self,data):\n",
    "        self.data = data\n",
    "        self.next = None\n",
    "        self.hasVisited = None\n",
    "class LinkedlistWithHasVisited:\n",
    "    def __init__(self):\n",
    "        self.head = None\n",
    "    def push(self, new_data): \n",
    "        new_node = NodeWithHasVisited(new_data) \n",
    "        new_node.next = self.head \n",
    "        self.head = new_node"
   ]
  },
  {
   "cell_type": "code",
   "execution_count": 94,
   "metadata": {
    "collapsed": true
   },
   "outputs": [],
   "source": [
    "hfl = LinkedlistWithHasVisited()\n",
    "hfl.push(99)\n",
    "hfl.push(98)\n",
    "hfl.push(96)\n",
    "hfl.push(95)"
   ]
  },
  {
   "cell_type": "code",
   "execution_count": 95,
   "metadata": {
    "collapsed": true
   },
   "outputs": [],
   "source": [
    "hfl1 = LinkedlistWithHasVisited()\n",
    "hfl1.push(12)\n",
    "hfl1.push(16)\n",
    "hfl1.push(18)\n",
    "hfl1.push(21)\n",
    "hfl1.push(32)"
   ]
  },
  {
   "cell_type": "code",
   "execution_count": 96,
   "metadata": {
    "collapsed": true
   },
   "outputs": [],
   "source": [
    "hfl1.head.next.next.next.next.next = hfl1.head"
   ]
  },
  {
   "cell_type": "code",
   "execution_count": 97,
   "metadata": {
    "collapsed": true
   },
   "outputs": [],
   "source": [
    "def detectACycle(l):\n",
    "    temp = l.head\n",
    "    temp.hasVisited = False\n",
    "    while temp is not None:\n",
    "        if temp.hasVisited:\n",
    "            print('cycle detected')\n",
    "            return\n",
    "        else:\n",
    "            temp.hasVisited = True\n",
    "            temp = temp.next\n",
    "    print('No cycle present')\n",
    "        "
   ]
  },
  {
   "cell_type": "code",
   "execution_count": 98,
   "metadata": {},
   "outputs": [
    {
     "name": "stdout",
     "output_type": "stream",
     "text": [
      "cycle detected\n"
     ]
    }
   ],
   "source": [
    "detectACycle(hfl1)"
   ]
  },
  {
   "cell_type": "code",
   "execution_count": 99,
   "metadata": {
    "collapsed": true
   },
   "outputs": [],
   "source": [
    "def detectTheLengthOfCycle(l):\n",
    "    temp = l.head\n",
    "    temp.hasVisited = False\n",
    "    while temp is not None:\n",
    "        if temp.hasVisited:\n",
    "            print('cycle detected')\n",
    "            counter = 0\n",
    "            beginningOfCycle = temp\n",
    "            temp = temp.next\n",
    "            counter = counter + 1\n",
    "            while temp != beginningOfCycle:\n",
    "                counter = counter + 1\n",
    "                temp = temp.next\n",
    "            print('lengthOfCycle',counter)\n",
    "                \n",
    "            return\n",
    "        else:\n",
    "            temp.hasVisited = True\n",
    "            temp = temp.next\n",
    "    print('No cycle present')\n",
    "    "
   ]
  },
  {
   "cell_type": "code",
   "execution_count": 100,
   "metadata": {},
   "outputs": [
    {
     "name": "stdout",
     "output_type": "stream",
     "text": [
      "cycle detected\n",
      "lengthOfCycle 5\n"
     ]
    }
   ],
   "source": [
    "detectTheLengthOfCycle(hfl1)"
   ]
  },
  {
   "cell_type": "code",
   "execution_count": 101,
   "metadata": {
    "collapsed": true
   },
   "outputs": [],
   "source": [
    "def checkForPalindrome(l):\n",
    "    temp =l.head\n",
    "    string = ''\n",
    "    while temp is not None:\n",
    "        string = string+str(temp.data)\n",
    "        temp = temp.next\n",
    "    reverseOfString = string[::-1]\n",
    "    if reverseOfString == string:\n",
    "        print('Palindrome')\n",
    "    else:\n",
    "        print('Not a palindrome')\n",
    "        "
   ]
  },
  {
   "cell_type": "code",
   "execution_count": 102,
   "metadata": {
    "collapsed": true
   },
   "outputs": [],
   "source": [
    "pali = Linkedlist()\n",
    "pali.push(1)\n",
    "pali.push(2)\n",
    "pali.push(3)\n",
    "pali.push(2)\n",
    "pali.push(1)"
   ]
  },
  {
   "cell_type": "code",
   "execution_count": 103,
   "metadata": {},
   "outputs": [
    {
     "name": "stdout",
     "output_type": "stream",
     "text": [
      "Palindrome\n"
     ]
    }
   ],
   "source": [
    "checkForPalindrome(pali)"
   ]
  },
  {
   "cell_type": "code",
   "execution_count": 104,
   "metadata": {},
   "outputs": [
    {
     "name": "stdout",
     "output_type": "stream",
     "text": [
      "Not a palindrome\n"
     ]
    }
   ],
   "source": [
    "checkForPalindrome(l)"
   ]
  },
  {
   "cell_type": "code",
   "execution_count": 105,
   "metadata": {
    "collapsed": true
   },
   "outputs": [],
   "source": [
    "def removeDuplicates(l):\n",
    "    temp = l.head\n",
    "    previous = None\n",
    "    uniq = set()\n",
    "    while temp is not None:\n",
    "        if temp.data not in uniq:\n",
    "            uniq.add(temp.data)\n",
    "            previous = temp\n",
    "            temp= temp.next\n",
    "        else:\n",
    "            previous.next = temp.next\n",
    "            temp = temp.next\n",
    "    printElementsInLinkedList(l)"
   ]
  },
  {
   "cell_type": "code",
   "execution_count": 106,
   "metadata": {
    "collapsed": true
   },
   "outputs": [],
   "source": [
    "test = Linkedlist()\n",
    "test.push(1)\n",
    "test.push(134)\n",
    "test.push(3)"
   ]
  },
  {
   "cell_type": "code",
   "execution_count": 107,
   "metadata": {},
   "outputs": [
    {
     "name": "stdout",
     "output_type": "stream",
     "text": [
      "3\n",
      "134\n",
      "1\n"
     ]
    }
   ],
   "source": [
    "removeDuplicates(test)"
   ]
  },
  {
   "cell_type": "code",
   "execution_count": 108,
   "metadata": {
    "collapsed": true
   },
   "outputs": [],
   "source": [
    "def intersectionOfLinkedList(l1,l2):\n",
    "    elements = set()\n",
    "    temp1 = l1.head\n",
    "    temp2 = l2.head\n",
    "    intersection = Linkedlist()\n",
    "    while temp1 is not None:\n",
    "        elements.add(temp1)\n",
    "        temp1 = temp1.next\n",
    "    while temp2 is not None:\n",
    "        if temp2 in elements:\n",
    "            intersection.head = temp2\n",
    "            return intersection\n",
    "        else:\n",
    "            elements.add(temp2)\n",
    "            temp2 = temp2.next\n",
    "    print('No intersection')"
   ]
  },
  {
   "cell_type": "code",
   "execution_count": 109,
   "metadata": {
    "collapsed": true
   },
   "outputs": [],
   "source": [
    "a = Node(1)\n",
    "b = Node(2)\n",
    "c = Node(3)\n",
    "d = Node(4)"
   ]
  },
  {
   "cell_type": "code",
   "execution_count": 110,
   "metadata": {
    "collapsed": true
   },
   "outputs": [],
   "source": [
    "test1 = Linkedlist()"
   ]
  },
  {
   "cell_type": "code",
   "execution_count": 111,
   "metadata": {
    "collapsed": true
   },
   "outputs": [],
   "source": [
    "a.next = b\n",
    "b.next = c\n",
    "d.next = b"
   ]
  },
  {
   "cell_type": "code",
   "execution_count": 112,
   "metadata": {
    "collapsed": true
   },
   "outputs": [],
   "source": [
    "test1.head = a"
   ]
  },
  {
   "cell_type": "code",
   "execution_count": 113,
   "metadata": {},
   "outputs": [
    {
     "name": "stdout",
     "output_type": "stream",
     "text": [
      "4\n",
      "2\n",
      "3\n"
     ]
    }
   ],
   "source": [
    "printElementsInLinkedList(test2)"
   ]
  },
  {
   "cell_type": "code",
   "execution_count": 114,
   "metadata": {
    "collapsed": true
   },
   "outputs": [],
   "source": [
    "test2 = Linkedlist()\n",
    "test2.head = d"
   ]
  },
  {
   "cell_type": "code",
   "execution_count": 115,
   "metadata": {
    "scrolled": false
   },
   "outputs": [
    {
     "name": "stdout",
     "output_type": "stream",
     "text": [
      "2\n",
      "3\n"
     ]
    }
   ],
   "source": [
    "printElementsInLinkedList(intersectionOfLinkedList(test1,test2))"
   ]
  },
  {
   "cell_type": "code",
   "execution_count": 116,
   "metadata": {
    "collapsed": true
   },
   "outputs": [],
   "source": [
    "def reverseALinkedList(l):\n",
    "    elements = {}\n",
    "    nodes = {}\n",
    "    i = 0\n",
    "    temp = l.head\n",
    "    reverse = Linkedlist()\n",
    "    while temp is not None:\n",
    "        elements[i] = temp.data\n",
    "        temp = temp.next\n",
    "        i = i + 1\n",
    "    print('Number of nodes in the linkedlist ',len(elements))\n",
    "    for i in elements:\n",
    "        nodes[i] = Node(elements[i])\n",
    "    x = len(nodes) - 1\n",
    "    while x >= 1:\n",
    "        nodes[x].next = nodes[x-1]\n",
    "        x = x-1\n",
    "    reverse.head = nodes[len(nodes) - 1]\n",
    "    printElementsInLinkedList(reverse)\n",
    "        \n",
    "    \n",
    "        "
   ]
  },
  {
   "cell_type": "code",
   "execution_count": 117,
   "metadata": {},
   "outputs": [
    {
     "name": "stdout",
     "output_type": "stream",
     "text": [
      "Number of nodes in the linkedlist  3\n",
      "3\n",
      "2\n",
      "4\n"
     ]
    }
   ],
   "source": [
    "reverseALinkedList(test2)"
   ]
  },
  {
   "cell_type": "code",
   "execution_count": 118,
   "metadata": {},
   "outputs": [
    {
     "name": "stdout",
     "output_type": "stream",
     "text": [
      "17\n",
      "4\n",
      "3\n",
      "2\n",
      "21\n",
      "1\n",
      "13\n",
      "18\n",
      "12\n"
     ]
    }
   ],
   "source": [
    "printElementsInLinkedList(l)"
   ]
  },
  {
   "cell_type": "code",
   "execution_count": 119,
   "metadata": {},
   "outputs": [
    {
     "name": "stdout",
     "output_type": "stream",
     "text": [
      "Number of nodes in the linkedlist  9\n",
      "12\n",
      "18\n",
      "13\n",
      "1\n",
      "21\n",
      "2\n",
      "3\n",
      "4\n",
      "17\n"
     ]
    }
   ],
   "source": [
    "reverseALinkedList(l)"
   ]
  },
  {
   "cell_type": "code",
   "execution_count": 125,
   "metadata": {
    "collapsed": true
   },
   "outputs": [],
   "source": [
    "def addTwoNumbersInLinkedlist(l1,l2):\n",
    "    temp1 = l1.head\n",
    "    temp2 = l2.head\n",
    "    n1 = 0\n",
    "    n2 = 0\n",
    "    p1 = 1\n",
    "    p2 = 1\n",
    "    while temp1 is not None:\n",
    "        n1 = n1 + (temp1.data * p1)\n",
    "        temp1 = temp1.next\n",
    "        p1 = p1 * 10\n",
    "    while temp2 is not None:\n",
    "        n2 = n2 + (temp2.data * p2)\n",
    "        temp2 = temp2.next\n",
    "        p2 = p2 * 10\n",
    "    print('The numbers are ',n1,n2)\n",
    "    return n1 + n2\n",
    "    "
   ]
  },
  {
   "cell_type": "code",
   "execution_count": 120,
   "metadata": {
    "collapsed": true
   },
   "outputs": [],
   "source": [
    "l = Linkedlist()\n",
    "l.push(9)\n",
    "l.push(5)\n",
    "l.push(2)"
   ]
  },
  {
   "cell_type": "code",
   "execution_count": 121,
   "metadata": {
    "collapsed": true
   },
   "outputs": [],
   "source": [
    "l2 = Linkedlist()\n",
    "l2.push(3)\n",
    "l2.push(4)\n",
    "l2.push(7)"
   ]
  },
  {
   "cell_type": "code",
   "execution_count": 126,
   "metadata": {},
   "outputs": [
    {
     "name": "stdout",
     "output_type": "stream",
     "text": [
      "The numbers are  952 347\n"
     ]
    },
    {
     "data": {
      "text/plain": [
       "1299"
      ]
     },
     "execution_count": 126,
     "metadata": {},
     "output_type": "execute_result"
    }
   ],
   "source": [
    "addTwoNumbersInLinkedlist(l,l2)"
   ]
  },
  {
   "cell_type": "code",
   "execution_count": 1,
   "metadata": {
    "collapsed": true
   },
   "outputs": [],
   "source": [
    "class DllNode:\n",
    "    def __init__(self,data):\n",
    "        self.data = data\n",
    "        self.next = None\n",
    "        self.prev = None\n",
    "class DoublyLinkedList:\n",
    "    def __init__(self):\n",
    "        self.head = None\n",
    "    def push(self,new_data):\n",
    "        new_node = DllNode(new_data)\n",
    "        new_node.next = self.head\n",
    "        if self.head is not None:\n",
    "            self.head.prev = new_node\n",
    "        self.head = new_node"
   ]
  },
  {
   "cell_type": "code",
   "execution_count": 2,
   "metadata": {
    "collapsed": true
   },
   "outputs": [],
   "source": [
    "d = DoublyLinkedList()"
   ]
  },
  {
   "cell_type": "code",
   "execution_count": 3,
   "metadata": {
    "collapsed": true
   },
   "outputs": [],
   "source": [
    "d.push(7)\n",
    "d.push(6)\n",
    "d.push(6)"
   ]
  },
  {
   "cell_type": "code",
   "execution_count": 5,
   "metadata": {
    "collapsed": true
   },
   "outputs": [],
   "source": [
    "def printElementsInLinkedList(l):\n",
    "    temp = l.head\n",
    "    while temp is not None:\n",
    "        print(temp.data)\n",
    "        temp = temp.next\n",
    "    "
   ]
  },
  {
   "cell_type": "code",
   "execution_count": 6,
   "metadata": {},
   "outputs": [
    {
     "name": "stdout",
     "output_type": "stream",
     "text": [
      "6\n",
      "6\n",
      "7\n"
     ]
    }
   ],
   "source": [
    "printElementsInLinkedList(d)"
   ]
  },
  {
   "cell_type": "code",
   "execution_count": 145,
   "metadata": {
    "collapsed": true
   },
   "outputs": [],
   "source": [
    "def addElementToHeadOfDll(d,val):\n",
    "    temp = d.head\n",
    "    node1 = DllNode(val)\n",
    "    node1.next = temp\n",
    "    temp.prev = node1\n",
    "    temp = node1"
   ]
  },
  {
   "cell_type": "code",
   "execution_count": 148,
   "metadata": {
    "collapsed": true
   },
   "outputs": [],
   "source": [
    "addElementToHeadOfDll(d,87)"
   ]
  },
  {
   "cell_type": "code",
   "execution_count": 149,
   "metadata": {
    "collapsed": true
   },
   "outputs": [
    {
     "name": "stdout",
     "output_type": "stream",
     "text": [
      "87\n",
      "88\n",
      "6\n",
      "6\n",
      "7\n",
      "7\n"
     ]
    }
   ],
   "source": [
    "printElementsInLinkedList(d)"
   ]
  },
  {
   "cell_type": "code",
   "execution_count": 150,
   "metadata": {
    "collapsed": true
   },
   "outputs": [],
   "source": [
    "def addElementToTailOfDll(d,val):\n",
    "    temp = d.head\n",
    "    node1 = DllNode(val)\n",
    "    while temp.next is not None:\n",
    "        temp = temp.next\n",
    "    temp.next = node1\n",
    "    node1.prev = temp\n",
    "    "
   ]
  },
  {
   "cell_type": "code",
   "execution_count": 151,
   "metadata": {
    "collapsed": true
   },
   "outputs": [],
   "source": [
    "addElementToTailOfDll(d,65)"
   ]
  },
  {
   "cell_type": "code",
   "execution_count": 152,
   "metadata": {},
   "outputs": [
    {
     "name": "stdout",
     "output_type": "stream",
     "text": [
      "87\n",
      "88\n",
      "6\n",
      "6\n",
      "7\n",
      "7\n",
      "65\n"
     ]
    }
   ],
   "source": [
    "printElementsInLinkedList(d)"
   ]
  },
  {
   "cell_type": "code",
   "execution_count": 158,
   "metadata": {
    "collapsed": true
   },
   "outputs": [],
   "source": [
    "def addElementAtAPosition(d,index,val):\n",
    "    node1 = DllNode(val)\n",
    "    temp = d.head\n",
    "    traverses = index - 1\n",
    "    while traverses > 0:\n",
    "        if temp.next is None:\n",
    "            print('Index is out of bounds for the given linkedList')\n",
    "            break\n",
    "        else:\n",
    "            temp = temp.next\n",
    "            traverses = traverses - 1\n",
    "    if temp.next is not None:\n",
    "        node1.next = temp.next\n",
    "    node1.prev = temp\n",
    "    temp.next = node1\n",
    "    \n",
    "        \n"
   ]
  },
  {
   "cell_type": "code",
   "execution_count": 154,
   "metadata": {
    "collapsed": true
   },
   "outputs": [],
   "source": [
    "addElementAtAPosition(d,6,13)"
   ]
  },
  {
   "cell_type": "code",
   "execution_count": 155,
   "metadata": {},
   "outputs": [
    {
     "name": "stdout",
     "output_type": "stream",
     "text": [
      "87\n",
      "88\n",
      "6\n",
      "6\n",
      "7\n",
      "7\n",
      "13\n",
      "65\n"
     ]
    }
   ],
   "source": [
    "printElementsInLinkedList(d)"
   ]
  },
  {
   "cell_type": "code",
   "execution_count": 159,
   "metadata": {},
   "outputs": [
    {
     "name": "stdout",
     "output_type": "stream",
     "text": [
      "Index is out of bounds for the given linkedList\n"
     ]
    }
   ],
   "source": [
    "addElementAtAPosition(d,16,16)"
   ]
  },
  {
   "cell_type": "code",
   "execution_count": 160,
   "metadata": {
    "collapsed": true
   },
   "outputs": [],
   "source": [
    "def addElementBeforeAPosition(d,index,val):\n",
    "    node1 = DllNode(val)\n",
    "    temp = d.head\n",
    "    currIndex = index - 1\n",
    "    traverses = currIndex - 1\n",
    "    while traverses > 0:\n",
    "        if temp.next is None:\n",
    "            print('Index is out of bounds for the given linkedList')\n",
    "            break\n",
    "        else:\n",
    "            temp = temp.next\n",
    "            traverses = traverses - 1\n",
    "    if temp.next is not None:\n",
    "        node1.next = temp.next\n",
    "    node1.prev = temp\n",
    "    temp.next = node1\n",
    "    "
   ]
  },
  {
   "cell_type": "code",
   "execution_count": 163,
   "metadata": {
    "collapsed": true
   },
   "outputs": [],
   "source": [
    "addElementBeforeAPosition(d,11,32)"
   ]
  },
  {
   "cell_type": "code",
   "execution_count": 164,
   "metadata": {},
   "outputs": [
    {
     "name": "stdout",
     "output_type": "stream",
     "text": [
      "87\n",
      "88\n",
      "55\n",
      "6\n",
      "6\n",
      "7\n",
      "7\n",
      "16\n",
      "13\n",
      "65\n",
      "32\n",
      "16\n"
     ]
    }
   ],
   "source": [
    "printElementsInLinkedList(d)"
   ]
  },
  {
   "cell_type": "code",
   "execution_count": 165,
   "metadata": {
    "collapsed": true
   },
   "outputs": [],
   "source": [
    "def deleteElementAtPosition(d,index):\n",
    "    temp = d.head\n",
    "    traverses = index - 1\n",
    "    while traverses > 0:\n",
    "        if temp.next is None:\n",
    "            print('Index is out of bounds')\n",
    "            break\n",
    "        else:\n",
    "            temp = temp.next\n",
    "            traverses = traverses - 1\n",
    "    if temp.next.next is not None:\n",
    "        temp.next = temp.next.next\n",
    "        temp.next.prev = temp\n",
    "    else:\n",
    "        temp.next = None\n",
    "        "
   ]
  },
  {
   "cell_type": "code",
   "execution_count": 170,
   "metadata": {
    "collapsed": true
   },
   "outputs": [],
   "source": [
    "deleteElementAtPosition(d,9)"
   ]
  },
  {
   "cell_type": "code",
   "execution_count": 171,
   "metadata": {},
   "outputs": [
    {
     "name": "stdout",
     "output_type": "stream",
     "text": [
      "87\n",
      "88\n",
      "55\n",
      "7\n",
      "7\n",
      "16\n",
      "13\n",
      "65\n",
      "32\n"
     ]
    }
   ],
   "source": [
    "printElementsInLinkedList(d)"
   ]
  },
  {
   "cell_type": "code",
   "execution_count": null,
   "metadata": {
    "collapsed": true
   },
   "outputs": [],
   "source": []
  }
 ],
 "metadata": {
  "kernelspec": {
   "display_name": "Python 3",
   "language": "python",
   "name": "python3"
  },
  "language_info": {
   "codemirror_mode": {
    "name": "ipython",
    "version": 3
   },
   "file_extension": ".py",
   "mimetype": "text/x-python",
   "name": "python",
   "nbconvert_exporter": "python",
   "pygments_lexer": "ipython3",
   "version": "3.6.2"
  }
 },
 "nbformat": 4,
 "nbformat_minor": 2
}
