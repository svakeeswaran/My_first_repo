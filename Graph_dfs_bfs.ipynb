{
 "cells": [
  {
   "cell_type": "code",
   "execution_count": 60,
   "metadata": {
    "collapsed": true
   },
   "outputs": [],
   "source": [
    "class Vertex:\n",
    "    def __init__(self,data):\n",
    "        self.data = data\n",
    "        self.adj = {}\n",
    "    def addNeighbor(self,neighbor,weight):\n",
    "        self.adj[neighbor] = weight\n",
    "    def getWeight(self,neighbor,weight):\n",
    "        return self.adjacent[neighbor]\n",
    "    def get_data(self):\n",
    "        return self.data\n",
    "    def getConnections(self):\n",
    "        return [keys for keys in self.adj]\n"
   ]
  },
  {
   "cell_type": "code",
   "execution_count": 152,
   "metadata": {
    "collapsed": true
   },
   "outputs": [],
   "source": [
    "class Graph:\n",
    "    def __init__(self):\n",
    "        self.vert_dict = {}\n",
    "        self.numberVertices = 0\n",
    "    def add_vertex(self,val):\n",
    "        self.numberVertices += 1\n",
    "        val_vertex = Vertex(val)\n",
    "        self.vert_dict[val] = val_vertex\n",
    "    def get_vertex(self,val):\n",
    "        if val in self.vert_dict:\n",
    "            return self.vert_dict[val]\n",
    "        else:\n",
    "            return None\n",
    "    def add_edge(self,src,dest,weight):\n",
    "        if (src not in self.vert_dict):\n",
    "            self.add_vertex(src)\n",
    "        if (dest not in self.vert_dict):\n",
    "            self.add_vertex(dest)\n",
    "            \n",
    "        self.vert_dict[src].addNeighbor(dest,weight)\n",
    "        self.vert_dict[dest].addNeighbor(src,weight)\n",
    "    def get_keys(self):\n",
    "        return [keys for keys in self.vert_dict]"
   ]
  },
  {
   "cell_type": "code",
   "execution_count": 165,
   "metadata": {
    "collapsed": true
   },
   "outputs": [],
   "source": [
    "g = Graph()"
   ]
  },
  {
   "cell_type": "code",
   "execution_count": 306,
   "metadata": {
    "collapsed": true
   },
   "outputs": [],
   "source": [
    "g.add_vertex('a')\n",
    "g.add_vertex('b')\n",
    "g.add_vertex('c')\n",
    "g.add_vertex('d')\n",
    "g.add_vertex('e')"
   ]
  },
  {
   "cell_type": "code",
   "execution_count": 307,
   "metadata": {
    "collapsed": true
   },
   "outputs": [],
   "source": [
    "g.add_edge('a','b',3)\n",
    "g.add_edge('a','c',1)\n",
    "g.add_edge('a','e',4)\n",
    "g.add_edge('c','d',7)\n",
    "g.add_edge('d','e',12)"
   ]
  },
  {
   "cell_type": "code",
   "execution_count": 308,
   "metadata": {},
   "outputs": [],
   "source": [
    "def get_edges(g):\n",
    "        edges = []\n",
    "        for key in g.vert_dict:\n",
    "            adjacent = g.vert_dict[key].getConnections()\n",
    "            for j in adjacent:\n",
    "                edge = [key,j]\n",
    "                edgeString = ''.join(sorted(edge))\n",
    "                if edgeString not in edges:\n",
    "                    edges.append(edgeString)\n",
    "        return edges"
   ]
  },
  {
   "cell_type": "code",
   "execution_count": 309,
   "metadata": {},
   "outputs": [
    {
     "data": {
      "text/plain": [
       "['ab', 'ac', 'ae', 'cd', 'de']"
      ]
     },
     "execution_count": 309,
     "metadata": {},
     "output_type": "execute_result"
    }
   ],
   "source": [
    "get_edges(g)"
   ]
  },
  {
   "cell_type": "code",
   "execution_count": 310,
   "metadata": {},
   "outputs": [],
   "source": [
    "from queue import Queue"
   ]
  },
  {
   "cell_type": "code",
   "execution_count": 311,
   "metadata": {},
   "outputs": [],
   "source": [
    "def bfs(g,start):\n",
    "    keys = g.get_keys()\n",
    "    hasVisited = {key:0 for key in keys}\n",
    "    queue = Queue(len(keys))\n",
    "    queue.put(g.get_vertex(start))\n",
    "    isDone = 0\n",
    "    while isDone == 0:\n",
    "        a = queue.get()\n",
    "        if hasVisited[a.get_data()] == 0:\n",
    "            print(a.get_data())\n",
    "            hasVisited[a.get_data()] = 1\n",
    "        for i in a.getConnections():\n",
    "            if hasVisited[i] == 0:\n",
    "                queue.put(g.get_vertex(i))\n",
    "        if queue.empty():\n",
    "            isDone = 1\n",
    "        "
   ]
  },
  {
   "cell_type": "code",
   "execution_count": 312,
   "metadata": {},
   "outputs": [
    {
     "name": "stdout",
     "output_type": "stream",
     "text": [
      "a\n",
      "b\n",
      "c\n",
      "e\n",
      "d\n"
     ]
    }
   ],
   "source": [
    "bfs(g,'a')"
   ]
  },
  {
   "cell_type": "code",
   "execution_count": 313,
   "metadata": {
    "collapsed": true
   },
   "outputs": [],
   "source": [
    "def dfs(g,start):\n",
    "    keys = g.get_keys()\n",
    "    hasVisited = {key:0 for key in keys}\n",
    "    parent = {key:None for key in keys}\n",
    "    stack = []\n",
    "    stack.append(g.get_vertex(start))\n",
    "    while len(stack) > 0:\n",
    "        a = stack.pop()\n",
    "        if hasVisited[a.get_data()] == 0:\n",
    "            print(a.get_data())\n",
    "            hasVisited[a.get_data()] = 1\n",
    "        for i in a.getConnections():\n",
    "            if hasVisited[i] == 0:\n",
    "                stack.append(g.get_vertex(i))\n",
    "            "
   ]
  },
  {
   "cell_type": "code",
   "execution_count": 314,
   "metadata": {},
   "outputs": [
    {
     "name": "stdout",
     "output_type": "stream",
     "text": [
      "a\n",
      "e\n",
      "d\n",
      "c\n",
      "b\n"
     ]
    }
   ],
   "source": [
    "dfs(g,'a')"
   ]
  },
  {
   "cell_type": "code",
   "execution_count": 315,
   "metadata": {
    "collapsed": true
   },
   "outputs": [],
   "source": [
    "from collections import defaultdict"
   ]
  },
  {
   "cell_type": "code",
   "execution_count": 316,
   "metadata": {},
   "outputs": [],
   "source": [
    "def detectCycle(g):\n",
    "    keys = g.get_keys()\n",
    "    start = keys[0]\n",
    "    hasVisited = {key:0 for key in keys}\n",
    "    parent = defaultdict(list)\n",
    "    stack = []\n",
    "    stack.append(g.get_vertex(start))\n",
    "    while len(stack) > 0:\n",
    "        a = stack.pop()\n",
    "        current = a.get_data()\n",
    "        if hasVisited[current]==0:\n",
    "            print(current)\n",
    "            hasVisited[current] = 1\n",
    "        for i in a.getConnections():\n",
    "            if hasVisited[i] == 0:\n",
    "                stack.append(g.get_vertex(i))\n",
    "                parent[i].append(a.get_data())\n",
    "    print(parent)\n",
    "    countParent = {}\n",
    "    for key, val in parent.items():\n",
    "        countParent[key] = len(val)\n",
    "    for v in countParent.values():\n",
    "        if v > 1:\n",
    "            return 1\n",
    "    return 0"
   ]
  },
  {
   "cell_type": "code",
   "execution_count": 317,
   "metadata": {},
   "outputs": [
    {
     "name": "stdout",
     "output_type": "stream",
     "text": [
      "a\n",
      "e\n",
      "d\n",
      "c\n",
      "b\n",
      "defaultdict(<class 'list'>, {'b': ['a'], 'c': ['a', 'd'], 'e': ['a'], 'd': ['e']})\n"
     ]
    },
    {
     "data": {
      "text/plain": [
       "1"
      ]
     },
     "execution_count": 317,
     "metadata": {},
     "output_type": "execute_result"
    }
   ],
   "source": [
    "detectCycle(g)"
   ]
  },
  {
   "cell_type": "code",
   "execution_count": 318,
   "metadata": {
    "collapsed": true
   },
   "outputs": [],
   "source": [
    "h = Graph()"
   ]
  },
  {
   "cell_type": "code",
   "execution_count": 319,
   "metadata": {
    "collapsed": true
   },
   "outputs": [],
   "source": [
    "h.add_vertex('a')\n",
    "h.add_vertex('b')\n",
    "h.add_vertex('c')\n",
    "h.add_vertex('d')\n",
    "h.add_vertex('e')"
   ]
  },
  {
   "cell_type": "code",
   "execution_count": 320,
   "metadata": {
    "collapsed": true
   },
   "outputs": [],
   "source": [
    "h.add_edge('a','e',1)\n",
    "h.add_edge('a','b',1)\n",
    "h.add_edge('a','c',1)\n",
    "h.add_edge('b','d',1)\n",
    "\n",
    "\n",
    "\n",
    "\n"
   ]
  },
  {
   "cell_type": "code",
   "execution_count": 321,
   "metadata": {},
   "outputs": [
    {
     "name": "stdout",
     "output_type": "stream",
     "text": [
      "a\n",
      "c\n",
      "b\n",
      "d\n",
      "e\n",
      "defaultdict(<class 'list'>, {'e': ['a'], 'b': ['a'], 'c': ['a'], 'd': ['b']})\n"
     ]
    },
    {
     "data": {
      "text/plain": [
       "0"
      ]
     },
     "execution_count": 321,
     "metadata": {},
     "output_type": "execute_result"
    }
   ],
   "source": [
    "detectCycle(h)"
   ]
  },
  {
   "cell_type": "code",
   "execution_count": null,
   "metadata": {
    "collapsed": true
   },
   "outputs": [],
   "source": []
  }
 ],
 "metadata": {
  "kernelspec": {
   "display_name": "Python 3",
   "language": "python",
   "name": "python3"
  },
  "language_info": {
   "codemirror_mode": {
    "name": "ipython",
    "version": 3
   },
   "file_extension": ".py",
   "mimetype": "text/x-python",
   "name": "python",
   "nbconvert_exporter": "python",
   "pygments_lexer": "ipython3",
   "version": "3.6.2"
  }
 },
 "nbformat": 4,
 "nbformat_minor": 2
}
